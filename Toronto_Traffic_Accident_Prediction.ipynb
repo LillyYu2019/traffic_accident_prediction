{
 "cells": [
  {
   "cell_type": "markdown",
   "metadata": {},
   "source": [
    "# Group 22 DriveAlive: Toronto Traffic Accident Prediction"
   ]
  },
  {
   "cell_type": "markdown",
   "metadata": {},
   "source": [
    "### <u>Notebook Overview</u>\n",
    "This project aims to design a binary classification model that predict whether a traffic accident will occur based on spatial and temporal features of a given road segment in the city. \n",
    "\n",
    "The following were steps were taken to achieve this goal.\n",
    "1. The City of Toronto's vehicle collision dataset was used as the base data. \n",
    "2. Additional features are added to the collision dataset by combining other sources of data, such as Toronto traffic volume measurement, road geometry, and Toronto traffic control information. \n",
    "3. Due to the collision dataset only provides the collision events, random sampling is used to generate negative samples in order to build a binary classification model.  \n",
    "4. Finally, the data in fed into a Random Forest Classifer and a Neural Network Classifer. The performance of each model is compared. The better model is chosen, and is further refined by hyperparameter tuning.\n",
    "\n",
    "Given that the dataset used in this analysis is computationally expensive, this notebook is structured so that the large sections headings such as 1.2, 1.3 can be run without running previous sections. This is achieved by exporting the result of a section to file at the end of it, and read in that file at the beginning of the next section. \n",
    "\n",
    "[Download all dataset from One Drive Here](https://1drv.ms/f/s!AkrlJmyRvDEdry8uWcI9u44k573N)"
   ]
  },
  {
   "cell_type": "markdown",
   "metadata": {},
   "source": [
    "### <u>Notebook Structure</u>\n",
    " - <a href=\"#D\">1.0 Data Processing</a>\n",
    "     - <a href=\"#D1.1\">1.1 Pre-processing Collision Event data</a>\n",
    "     - <a href=\"#D1.2\">1.2 Match Traffic Volume Count to Collision Events</a>\n",
    "         - <a href=\"#D1.2.1\">1.2.1 Pre-processe Intersections Traffic Volume Count</a>\n",
    "         - <a href=\"#D1.2.2\">1.2.2 Match traffic volume count to collisions at intersections</a>\n",
    "         - <a href=\"#D1.2.3\">1.2.3 Pre-processe Road Traffic Volume Count</a>\n",
    "         - <a href=\"#D1.2.4\">1.2.4 Match traffic volume count to collisions at road</a>\n",
    "     - <a href=\"#D1.3\">1.3 Add Road Geometry Features to Collision Events</a>\n",
    "         - <a href=\"#D1.3.1\">1.3.1 Match Centerline ID to Intersection Px ID</a>\n",
    "         - <a href=\"#D1.3.2\">1.3.2 Match Road Type, Posted Speed to Centerline ID in Collision Event</a>\n",
    "         - <a href=\"#D1.3.3\">1.3.3 Fill the missing posted speed from collision event data from the posted_spd column</a>\n",
    "         - <a href=\"#D1.3.5\">1.3.5 Matching Lane Number to Centerline</a>\n",
    "         - <a href=\"#D1.3.6\">1.3.6 Fixing Weird Posted Speed Values</a>\n",
    "         - <a href=\"#D1.3.7\">1.3.7 Enter \"At Intersection\" for the road_type for accident that occured at intersection</a>\n",
    "     - <a href=\"#D1.4\">1.4 Generating Negative Samples Lookup Table</a>\n",
    "         - <a href=\"#D1.4.1\">1.4.1 Creating Location Lookup Table</a>\n",
    "             - <a href=\"#D1.4.1.1\">1.4.1.1 Match Centerline ID to PX based on Traffic Signal Dataset</a>\n",
    "             - <a href=\"#D1.4.1.2\">1.4.1.2 Match Road Type, Posted Speed to Centerline ID</a>\n",
    "             - <a href=\"#D1.4.1.3\">1.4.1.3 Matching Lane Number to Centerline</a>\n",
    "             - <a href=\"#D1.4.1.4\">1.4.1.4 Cleaning up Posted Speed</a>\n",
    "             - <a href=\"#D1.4.1.5\">1.4.1.5 Perform K-Clustering on the lookup table</a>\n",
    "         - <a href=\"#D1.4.2\">1.4.2 Creating Weather Lookup Table</a>\n",
    "     - <a href=\"#D1.5\">1.5 Generating Negative Samples</a>\n",
    "         - <a href=\"#D1.5.1\">1.5.1 Cleaning Lookup Tables</a>\n",
    "         - <a href=\"#D1.5.2\">1.5.2 Negative Sample Generator</a>\n",
    "         - <a href=\"#D1.5.3\">1.5.3 Perform K-Clustering on the Full Dataset</a>\n",
    " - <a href=\"#DV\">2.0 Data Visualization</a>\n",
    " - <a href=\"#MI\">3.0 Model Implemtation</a>\n",
    "     - <a href=\"#MI3.1\">3.1 Random Forest</a>\n",
    "         - <a href=\"#MI3.1.1\">3.1.1 Model Fitting</a>\n",
    "         - <a href=\"#MI3.1.2\">3.1.2 Presenting Model Results</a>\n",
    "     - <a href=\"#MI3.2\">3.2 Neural Network</a>\n",
    "     - <a href=\"#MI3.3\">3.3 Random Forest Hyperparameter Tuning</a>"
   ]
  },
  {
   "cell_type": "code",
   "execution_count": 1,
   "metadata": {},
   "outputs": [
    {
     "name": "stdout",
     "output_type": "stream",
     "text": [
      "3.5.2 (default, Nov 12 2018, 13:43:14) \n",
      "[GCC 5.4.0 20160609]\n"
     ]
    }
   ],
   "source": [
    "#!pip install msgpack\n",
    "#!pip install --upgrade sklearn scikit-learn numpy scipy\n",
    "import pandas as pd\n",
    "import numpy as np\n",
    "import matplotlib.pyplot as plt\n",
    "import warnings\n",
    "warnings.filterwarnings('ignore')\n",
    "import sys\n",
    "print (sys.version)"
   ]
  },
  {
   "cell_type": "markdown",
   "metadata": {},
   "source": [
    "Setting `marking = True` would skip the computationally expensive sections, pre-ran parameters and dataframes are read in instead.Inline magic function `%%skip $marking` is used for skipping cells during marking."
   ]
  },
  {
   "cell_type": "code",
   "execution_count": 2,
   "metadata": {},
   "outputs": [],
   "source": [
    "marking = True\n",
    "%load_ext skip_kernel_extension"
   ]
  },
  {
   "cell_type": "markdown",
   "metadata": {},
   "source": [
    "## <u><a name=\"D\">1.0 Data Processing</a>"
   ]
  },
  {
   "cell_type": "markdown",
   "metadata": {},
   "source": [
    "- **Motor Vehicle Collision Events Dataset**: The Toronto [Collisions - Events](https://github.com/CityofToronto/vz_challenge/tree/master/transportation/collisions) dataset contains basic information on motor vehicle collision data from 2008 until 2017. Basic informations such as time, location, type of impact, and environmental conditions. For ease of processing, time of collision are rounded down to the nearest hour.\n",
    "- **Personnel Involved in Collision**: The [Collisions - Involved](https://github.com/CityofToronto/vz_challenge/tree/master/transportation/collisions) dataset has additional information on the collision events, including actual speed of the vehicle, posted speed limit of the road etc. This information is used to add additional features to the *Collisions - Events* dataset. Information in the *Collisions - Involved* is linked to *Collisions - Events* via a *collision_id* identifier.  \n",
    "- **Traffic Volume Information**: Toronto's [traffic volume dataset](https://github.com/CityofToronto/vz_challenge/tree/master/transportation/traffic_volumes) is taken at many intersections and roads in the city at 15 minute interval. This data is taken as an hourly average and is matched to the *Collisions - Events* dataset based on the location, year, day of the week and hour. Because there is not enough traffic volume measurement points to match to the day of the collision, a day of the week feature is used for matching instead.  This feature would indicate if the day is on a weekday or a weekend. The assumption is that traffic flow patterns would be different during weekdays than weekends.\n",
    "- **Road Information**: Additional datasets are used to add road features to the *Collisions - Events* dataset. [Toronto centerline](https://github.com/CityofToronto/vz_challenge/tree/master/transportation/toronto_centreline) is used to match longitude and latitude and the type of road that the collision occured on.  [Posted Toronto Speed Limits](https://github.com/CityofToronto/vz_challenge/tree/master/transportation/posted_speed_limits) are used to match the collision events that did not record a posted speed limit to a corresponding speed limit. [Toronto Centerline_Lanes](https://github.com/CityofToronto/vz_challenge/tree/master/transportation/pavement_widths_number_of_lanes) dataset contains lane information for the collision events. All information in these three dataset are matched to the *Collisions - Events* dataset via *centerline_id* identifier. [QGIS](https://www.qgis.org/en/site/) is used to import then export the shape file to get the csv file."
   ]
  },
  {
   "cell_type": "markdown",
   "metadata": {},
   "source": [
    "### <u><a name=\"D1.1\">1.1 Pre-processing Collision Event data</a>"
   ]
  },
  {
   "cell_type": "markdown",
   "metadata": {},
   "source": [
    "Reading in files"
   ]
  },
  {
   "cell_type": "code",
   "execution_count": 3,
   "metadata": {},
   "outputs": [],
   "source": [
    "# read in Toronto collision events dataset\n",
    "events_collision=pd.read_csv('collision_events_with_centerline_id.csv', low_memory=False)\n",
    "events_collision=events_collision.drop(['Unnamed: 0'], axis=1)"
   ]
  },
  {
   "cell_type": "markdown",
   "metadata": {},
   "source": [
    "Parse dates and hour from the dataset."
   ]
  },
  {
   "cell_type": "code",
   "execution_count": 4,
   "metadata": {},
   "outputs": [],
   "source": [
    "#parsing month-day of collision event from date entry\n",
    "events_collision['day']=events_collision.collision_date.apply(lambda x: x[5:10])\n",
    "\n",
    "#parsing hour of collision event from collision_time entry\n",
    "events_collision['hour']=events_collision.collision_time.apply(str)\n",
    "events_collision['hour']=events_collision.hour.apply(lambda x : 0 if (len(x[:-2])==0) else int(x[:-2]) )\n",
    "\n",
    "#pasring year of collision event\n",
    "events_collision['collision_date']=pd.to_datetime(events_collision.collision_date)\n",
    "events_collision['year']=events_collision.collision_date.dt.year\n",
    "\n",
    "#identifying if collision occured on a weekday or weekend\n",
    "events_collision['day_of_week'] = events_collision['collision_date'].dt.dayofweek.apply(lambda x : 'weekday' if(x<5) else 'weekend')"
   ]
  },
  {
   "cell_type": "markdown",
   "metadata": {},
   "source": [
    "### <u><a name=\"D1.2\">1.2 Match Traffic Volume Count to Collision Events</a>\n",
    "\n",
    "The toronto traffic volume data is cleaned up here to parse the date, and map the traffic volume data to each of the collision events. \n",
    "Due to insufficient traffic volume measurement points, it cannot be matched to the exact day of the collision, thus, a day of the week feature is used for matching instead."
   ]
  },
  {
   "cell_type": "markdown",
   "metadata": {},
   "source": [
    "#### <u><a name=\"D1.2.1\">1.2.1 Processing Traffic Volume Count for Intersections</a></u>\n",
    "\n",
    "TMC are traffic volume data per year, per day, per 15minutes measured at select intersections within the city of Toronto. The intersection locations are unique identified with a *px* number. The datae of the dataset is parsed, then converted into either a weekday or a weekend.\n",
    "\n",
    "Using multi-level indexing, we can generate a unique key for each entry of the traffic volume dataframe and the collision dataframe. The key consists of the location, year, weekday/weekend, and hour. The entries with the same keys are mapped together."
   ]
  },
  {
   "cell_type": "code",
   "execution_count": 5,
   "metadata": {},
   "outputs": [],
   "source": [
    "# read in tmc traffic volume data. \n",
    "# temp is data obtained from temporay traffic flow measurement points. \n",
    "# perm is data obtained from temporay traffic flow measurement points. \n",
    "traffic_volume_tmc_temp = pd.read_csv('volumes_tmc_shortterm.csv',delimiter = ';')\n",
    "traffic_volume_tmc_perm = pd.read_csv('volumes_tmc_permanent.csv',delimiter = ';')"
   ]
  },
  {
   "cell_type": "code",
   "execution_count": 6,
   "metadata": {},
   "outputs": [],
   "source": [
    "# combining tempory data and permanent data\n",
    "traffic_volume_tmc = traffic_volume_tmc_perm.append(traffic_volume_tmc_temp,ignore_index=True)"
   ]
  },
  {
   "cell_type": "code",
   "execution_count": 7,
   "metadata": {},
   "outputs": [],
   "source": [
    "# parsing time stamp of traffic volume measurement into year, date, hour, minute\n",
    "traffic_volume_tmc['datetime']=pd.to_datetime(traffic_volume_tmc['datetime_bin'],format='%Y-%m-%d %H:%M:%S',errors='coerce')\n",
    "traffic_volume_tmc['year']=traffic_volume_tmc['datetime'].dt.year\n",
    "traffic_volume_tmc['date']=traffic_volume_tmc['datetime_bin'].str[5:10]\n",
    "traffic_volume_tmc['hour']=traffic_volume_tmc['datetime'].dt.hour\n",
    "traffic_volume_tmc['minute']=traffic_volume_tmc['datetime'].dt.minute"
   ]
  },
  {
   "cell_type": "markdown",
   "metadata": {},
   "source": [
    "Given that there is not enough traffic volume measurements to get the traffic volume on a day to day basis within a year, the date of the traffic volume measurement is used to creates a new feature that approximate traffic volume fluctuation in a week."
   ]
  },
  {
   "cell_type": "code",
   "execution_count": 8,
   "metadata": {},
   "outputs": [],
   "source": [
    "# identifying if the date of the measurement is a weekday or weekend using datetime library.\n",
    "traffic_volume_tmc['day_of_week'] = traffic_volume_tmc['datetime'].dt.dayofweek.apply(lambda x : 'weekday' if(x<5) else 'weekend')"
   ]
  },
  {
   "cell_type": "code",
   "execution_count": 9,
   "metadata": {},
   "outputs": [],
   "source": [
    "# dropping columns that are not used\n",
    "traffic_volume_tmc_clean=traffic_volume_tmc.drop(columns=['station_type', 'location','leg','movement','datetime_bin','datetime'])"
   ]
  },
  {
   "cell_type": "code",
   "execution_count": 10,
   "metadata": {
    "scrolled": true
   },
   "outputs": [
    {
     "data": {
      "text/html": [
       "<div>\n",
       "<style scoped>\n",
       "    .dataframe tbody tr th:only-of-type {\n",
       "        vertical-align: middle;\n",
       "    }\n",
       "\n",
       "    .dataframe tbody tr th {\n",
       "        vertical-align: top;\n",
       "    }\n",
       "\n",
       "    .dataframe thead th {\n",
       "        text-align: right;\n",
       "    }\n",
       "</style>\n",
       "<table border=\"1\" class=\"dataframe\">\n",
       "  <thead>\n",
       "    <tr style=\"text-align: right;\">\n",
       "      <th></th>\n",
       "      <th>px</th>\n",
       "      <th>year</th>\n",
       "      <th>class_type</th>\n",
       "      <th>date</th>\n",
       "      <th>day_of_week</th>\n",
       "      <th>hour</th>\n",
       "      <th>minute</th>\n",
       "      <th>volume_15min</th>\n",
       "    </tr>\n",
       "  </thead>\n",
       "  <tbody>\n",
       "    <tr>\n",
       "      <th>0</th>\n",
       "      <td>2</td>\n",
       "      <td>1984</td>\n",
       "      <td>Pedestrians</td>\n",
       "      <td>07-30</td>\n",
       "      <td>weekday</td>\n",
       "      <td>7</td>\n",
       "      <td>30</td>\n",
       "      <td>31</td>\n",
       "    </tr>\n",
       "    <tr>\n",
       "      <th>1</th>\n",
       "      <td>2</td>\n",
       "      <td>1984</td>\n",
       "      <td>Pedestrians</td>\n",
       "      <td>07-30</td>\n",
       "      <td>weekday</td>\n",
       "      <td>7</td>\n",
       "      <td>45</td>\n",
       "      <td>64</td>\n",
       "    </tr>\n",
       "    <tr>\n",
       "      <th>2</th>\n",
       "      <td>2</td>\n",
       "      <td>1984</td>\n",
       "      <td>Pedestrians</td>\n",
       "      <td>07-30</td>\n",
       "      <td>weekday</td>\n",
       "      <td>8</td>\n",
       "      <td>0</td>\n",
       "      <td>82</td>\n",
       "    </tr>\n",
       "    <tr>\n",
       "      <th>3</th>\n",
       "      <td>2</td>\n",
       "      <td>1984</td>\n",
       "      <td>Pedestrians</td>\n",
       "      <td>07-30</td>\n",
       "      <td>weekday</td>\n",
       "      <td>8</td>\n",
       "      <td>15</td>\n",
       "      <td>80</td>\n",
       "    </tr>\n",
       "    <tr>\n",
       "      <th>4</th>\n",
       "      <td>2</td>\n",
       "      <td>1984</td>\n",
       "      <td>Pedestrians</td>\n",
       "      <td>07-30</td>\n",
       "      <td>weekday</td>\n",
       "      <td>8</td>\n",
       "      <td>30</td>\n",
       "      <td>86</td>\n",
       "    </tr>\n",
       "    <tr>\n",
       "      <th>5</th>\n",
       "      <td>2</td>\n",
       "      <td>1984</td>\n",
       "      <td>Pedestrians</td>\n",
       "      <td>07-30</td>\n",
       "      <td>weekday</td>\n",
       "      <td>8</td>\n",
       "      <td>45</td>\n",
       "      <td>99</td>\n",
       "    </tr>\n",
       "    <tr>\n",
       "      <th>6</th>\n",
       "      <td>2</td>\n",
       "      <td>1984</td>\n",
       "      <td>Pedestrians</td>\n",
       "      <td>07-30</td>\n",
       "      <td>weekday</td>\n",
       "      <td>9</td>\n",
       "      <td>0</td>\n",
       "      <td>87</td>\n",
       "    </tr>\n",
       "    <tr>\n",
       "      <th>7</th>\n",
       "      <td>2</td>\n",
       "      <td>1984</td>\n",
       "      <td>Pedestrians</td>\n",
       "      <td>07-30</td>\n",
       "      <td>weekday</td>\n",
       "      <td>9</td>\n",
       "      <td>15</td>\n",
       "      <td>85</td>\n",
       "    </tr>\n",
       "    <tr>\n",
       "      <th>8</th>\n",
       "      <td>2</td>\n",
       "      <td>1984</td>\n",
       "      <td>Pedestrians</td>\n",
       "      <td>07-30</td>\n",
       "      <td>weekday</td>\n",
       "      <td>10</td>\n",
       "      <td>0</td>\n",
       "      <td>48</td>\n",
       "    </tr>\n",
       "    <tr>\n",
       "      <th>9</th>\n",
       "      <td>2</td>\n",
       "      <td>1984</td>\n",
       "      <td>Pedestrians</td>\n",
       "      <td>07-30</td>\n",
       "      <td>weekday</td>\n",
       "      <td>10</td>\n",
       "      <td>15</td>\n",
       "      <td>65</td>\n",
       "    </tr>\n",
       "  </tbody>\n",
       "</table>\n",
       "</div>"
      ],
      "text/plain": [
       "   px  year   class_type   date day_of_week  hour  minute  volume_15min\n",
       "0   2  1984  Pedestrians  07-30     weekday     7      30            31\n",
       "1   2  1984  Pedestrians  07-30     weekday     7      45            64\n",
       "2   2  1984  Pedestrians  07-30     weekday     8       0            82\n",
       "3   2  1984  Pedestrians  07-30     weekday     8      15            80\n",
       "4   2  1984  Pedestrians  07-30     weekday     8      30            86\n",
       "5   2  1984  Pedestrians  07-30     weekday     8      45            99\n",
       "6   2  1984  Pedestrians  07-30     weekday     9       0            87\n",
       "7   2  1984  Pedestrians  07-30     weekday     9      15            85\n",
       "8   2  1984  Pedestrians  07-30     weekday    10       0            48\n",
       "9   2  1984  Pedestrians  07-30     weekday    10      15            65"
      ]
     },
     "execution_count": 10,
     "metadata": {},
     "output_type": "execute_result"
    }
   ],
   "source": [
    "key1=['px','year','class_type','date','day_of_week','hour','minute']\n",
    "\n",
    "#given traffic inforamtion includes volume flow from all traffic directions: N/E/S/W\n",
    "#which would not be valuable for our analysis, we sum data from all directions.\n",
    "\n",
    "traffic_volume_tmc_sum=traffic_volume_tmc_clean.groupby(key1 , as_index=False).sum()\n",
    "traffic_volume_tmc_sum.head(n=10)"
   ]
  },
  {
   "cell_type": "markdown",
   "metadata": {},
   "source": [
    "We want the averge volume per hour at each location, day of the week for pedestrians, cyclists, and vehicles. We first take the average volume for every fifteen minutes and then times the volume by four to obtain avg volume per hour"
   ]
  },
  {
   "cell_type": "code",
   "execution_count": 11,
   "metadata": {},
   "outputs": [
    {
     "data": {
      "text/html": [
       "<div>\n",
       "<style scoped>\n",
       "    .dataframe tbody tr th:only-of-type {\n",
       "        vertical-align: middle;\n",
       "    }\n",
       "\n",
       "    .dataframe tbody tr th {\n",
       "        vertical-align: top;\n",
       "    }\n",
       "\n",
       "    .dataframe thead th {\n",
       "        text-align: right;\n",
       "    }\n",
       "</style>\n",
       "<table border=\"1\" class=\"dataframe\">\n",
       "  <thead>\n",
       "    <tr style=\"text-align: right;\">\n",
       "      <th></th>\n",
       "      <th></th>\n",
       "      <th></th>\n",
       "      <th></th>\n",
       "      <th>class_type</th>\n",
       "      <th>avg_volume_per_hour</th>\n",
       "    </tr>\n",
       "    <tr>\n",
       "      <th>px</th>\n",
       "      <th>year</th>\n",
       "      <th>day_of_week</th>\n",
       "      <th>hour</th>\n",
       "      <th></th>\n",
       "      <th></th>\n",
       "    </tr>\n",
       "  </thead>\n",
       "  <tbody>\n",
       "    <tr>\n",
       "      <th rowspan=\"10\" valign=\"top\">2</th>\n",
       "      <th rowspan=\"10\" valign=\"top\">1984</th>\n",
       "      <th rowspan=\"10\" valign=\"top\">weekday</th>\n",
       "      <th>7</th>\n",
       "      <td>Pedestrians</td>\n",
       "      <td>190.0</td>\n",
       "    </tr>\n",
       "    <tr>\n",
       "      <th>8</th>\n",
       "      <td>Pedestrians</td>\n",
       "      <td>347.0</td>\n",
       "    </tr>\n",
       "    <tr>\n",
       "      <th>9</th>\n",
       "      <td>Pedestrians</td>\n",
       "      <td>344.0</td>\n",
       "    </tr>\n",
       "    <tr>\n",
       "      <th>10</th>\n",
       "      <td>Pedestrians</td>\n",
       "      <td>254.0</td>\n",
       "    </tr>\n",
       "    <tr>\n",
       "      <th>11</th>\n",
       "      <td>Pedestrians</td>\n",
       "      <td>351.0</td>\n",
       "    </tr>\n",
       "    <tr>\n",
       "      <th>13</th>\n",
       "      <td>Pedestrians</td>\n",
       "      <td>630.0</td>\n",
       "    </tr>\n",
       "    <tr>\n",
       "      <th>14</th>\n",
       "      <td>Pedestrians</td>\n",
       "      <td>410.0</td>\n",
       "    </tr>\n",
       "    <tr>\n",
       "      <th>16</th>\n",
       "      <td>Pedestrians</td>\n",
       "      <td>536.0</td>\n",
       "    </tr>\n",
       "    <tr>\n",
       "      <th>17</th>\n",
       "      <td>Pedestrians</td>\n",
       "      <td>704.0</td>\n",
       "    </tr>\n",
       "    <tr>\n",
       "      <th>7</th>\n",
       "      <td>Vehicles</td>\n",
       "      <td>2090.0</td>\n",
       "    </tr>\n",
       "  </tbody>\n",
       "</table>\n",
       "</div>"
      ],
      "text/plain": [
       "                           class_type  avg_volume_per_hour\n",
       "px year day_of_week hour                                  \n",
       "2  1984 weekday     7     Pedestrians                190.0\n",
       "                    8     Pedestrians                347.0\n",
       "                    9     Pedestrians                344.0\n",
       "                    10    Pedestrians                254.0\n",
       "                    11    Pedestrians                351.0\n",
       "                    13    Pedestrians                630.0\n",
       "                    14    Pedestrians                410.0\n",
       "                    16    Pedestrians                536.0\n",
       "                    17    Pedestrians                704.0\n",
       "                    7        Vehicles               2090.0"
      ]
     },
     "execution_count": 11,
     "metadata": {},
     "output_type": "execute_result"
    }
   ],
   "source": [
    "# taking the average traffic volume every 15min to obtain average volume per hour\n",
    "traffic_volume_tmc_sum=traffic_volume_tmc_sum.drop(columns=['minute'])\n",
    "\n",
    "key2=['px','year','class_type','day_of_week','hour']\n",
    "volume_count_tmc=traffic_volume_tmc_sum.groupby(key2).mean()\n",
    "volume_count_tmc['volume_15min']=volume_count_tmc['volume_15min']*4\n",
    "volume_count_tmc.columns = ['avg_volume_per_hour']\n",
    "volume_count_tmc=volume_count_tmc.reset_index(level='class_type')\n",
    "volume_count_tmc.head(10)"
   ]
  },
  {
   "cell_type": "code",
   "execution_count": 12,
   "metadata": {},
   "outputs": [],
   "source": [
    "volume_count_tmc.to_csv('_volume_count_tmc.csv')"
   ]
  },
  {
   "cell_type": "markdown",
   "metadata": {},
   "source": [
    "#### <u><a name=\"D1.2.2\">1.2.2 Match traffic volume count to collisions at intersections</a>"
   ]
  },
  {
   "cell_type": "markdown",
   "metadata": {},
   "source": [
    "The intersection traffic volume count is matched to the collision_events based on a unique key that has location ID, year, weekday/weekend, and hour. The traffic volume count will be matched to a collision event with the same keys."
   ]
  },
  {
   "cell_type": "code",
   "execution_count": 13,
   "metadata": {},
   "outputs": [],
   "source": [
    "#droping all collision that did not occur at intersection. i.e. did not have a px entry.\n",
    "collisions_indexed = events_collision.dropna(subset=['px']).set_index(['px', 'year', 'day_of_week','hour'])"
   ]
  },
  {
   "cell_type": "code",
   "execution_count": 14,
   "metadata": {},
   "outputs": [],
   "source": [
    "#create dictionary to the avg volume per hour column for each pedestrians/cyclists/vehicles class type\n",
    "volume_dict_ped = volume_count_tmc[volume_count_tmc.class_type=='Pedestrians'].to_dict()['avg_volume_per_hour']\n",
    "volume_dict_cyc = volume_count_tmc[volume_count_tmc.class_type=='Cyclists'].to_dict()['avg_volume_per_hour']\n",
    "volume_dict_veh = volume_count_tmc[volume_count_tmc.class_type=='Vehicles'].to_dict()['avg_volume_per_hour']"
   ]
  },
  {
   "cell_type": "code",
   "execution_count": 15,
   "metadata": {},
   "outputs": [],
   "source": [
    "#created a list of unique id for each index\n",
    "collisions_indexed['volume_id'] = collisions_indexed.index.tolist()\n",
    "\n",
    "#mapping avg volume per hour of pedestrians/cyclists/vehicles to collision events dataframe\n",
    "collisions_indexed['volume_data_ped'] = collisions_indexed['volume_id'].map(volume_dict_ped)\n",
    "collisions_indexed['volume_data_cyc'] = collisions_indexed['volume_id'].map(volume_dict_cyc)\n",
    "collisions_indexed['volume_data_veh'] = collisions_indexed['volume_id'].map(volume_dict_veh)\n",
    "\n",
    "#reset multi-level indexing\n",
    "collisions_indexed=collisions_indexed.reset_index(level=['px', 'year', 'day_of_week','hour'])"
   ]
  },
  {
   "cell_type": "code",
   "execution_count": 16,
   "metadata": {},
   "outputs": [
    {
     "data": {
      "text/html": [
       "<div>\n",
       "<style scoped>\n",
       "    .dataframe tbody tr th:only-of-type {\n",
       "        vertical-align: middle;\n",
       "    }\n",
       "\n",
       "    .dataframe tbody tr th {\n",
       "        vertical-align: top;\n",
       "    }\n",
       "\n",
       "    .dataframe thead th {\n",
       "        text-align: right;\n",
       "    }\n",
       "</style>\n",
       "<table border=\"1\" class=\"dataframe\">\n",
       "  <thead>\n",
       "    <tr style=\"text-align: right;\">\n",
       "      <th></th>\n",
       "      <th>px</th>\n",
       "      <th>year</th>\n",
       "      <th>day_of_week</th>\n",
       "      <th>hour</th>\n",
       "      <th>collision_id</th>\n",
       "      <th>collision_date</th>\n",
       "      <th>collision_time</th>\n",
       "      <th>street_1</th>\n",
       "      <th>street_type_1</th>\n",
       "      <th>direction_1</th>\n",
       "      <th>...</th>\n",
       "      <th>light</th>\n",
       "      <th>road_surface_cond</th>\n",
       "      <th>longitude</th>\n",
       "      <th>latitude</th>\n",
       "      <th>centerline_id</th>\n",
       "      <th>day</th>\n",
       "      <th>volume_id</th>\n",
       "      <th>volume_data_ped</th>\n",
       "      <th>volume_data_cyc</th>\n",
       "      <th>volume_data_veh</th>\n",
       "    </tr>\n",
       "  </thead>\n",
       "  <tbody>\n",
       "    <tr>\n",
       "      <th>0</th>\n",
       "      <td>785.0</td>\n",
       "      <td>2008</td>\n",
       "      <td>weekday</td>\n",
       "      <td>0</td>\n",
       "      <td>4</td>\n",
       "      <td>2008-01-01</td>\n",
       "      <td>45</td>\n",
       "      <td>MARTIN GROVE</td>\n",
       "      <td>ROAD</td>\n",
       "      <td>NaN</td>\n",
       "      <td>...</td>\n",
       "      <td>DARK</td>\n",
       "      <td>LOOSE SNOW</td>\n",
       "      <td>-79.5491</td>\n",
       "      <td>43.6486</td>\n",
       "      <td>NaN</td>\n",
       "      <td>01-01</td>\n",
       "      <td>(785.0, 2008, weekday, 0)</td>\n",
       "      <td>NaN</td>\n",
       "      <td>NaN</td>\n",
       "      <td>NaN</td>\n",
       "    </tr>\n",
       "    <tr>\n",
       "      <th>1</th>\n",
       "      <td>90.0</td>\n",
       "      <td>2008</td>\n",
       "      <td>weekday</td>\n",
       "      <td>1</td>\n",
       "      <td>8</td>\n",
       "      <td>2008-01-01</td>\n",
       "      <td>100</td>\n",
       "      <td>EGLINTON</td>\n",
       "      <td>AVEN</td>\n",
       "      <td>E</td>\n",
       "      <td>...</td>\n",
       "      <td>DARK, ARTIFICIAL</td>\n",
       "      <td>WET</td>\n",
       "      <td>-79.3774</td>\n",
       "      <td>43.7110</td>\n",
       "      <td>NaN</td>\n",
       "      <td>01-01</td>\n",
       "      <td>(90.0, 2008, weekday, 1)</td>\n",
       "      <td>NaN</td>\n",
       "      <td>NaN</td>\n",
       "      <td>NaN</td>\n",
       "    </tr>\n",
       "    <tr>\n",
       "      <th>2</th>\n",
       "      <td>678.0</td>\n",
       "      <td>2008</td>\n",
       "      <td>weekday</td>\n",
       "      <td>1</td>\n",
       "      <td>10</td>\n",
       "      <td>2008-01-01</td>\n",
       "      <td>110</td>\n",
       "      <td>BATHURST</td>\n",
       "      <td>ST</td>\n",
       "      <td>NaN</td>\n",
       "      <td>...</td>\n",
       "      <td>DARK</td>\n",
       "      <td>ICE</td>\n",
       "      <td>-79.4460</td>\n",
       "      <td>43.7924</td>\n",
       "      <td>NaN</td>\n",
       "      <td>01-01</td>\n",
       "      <td>(678.0, 2008, weekday, 1)</td>\n",
       "      <td>NaN</td>\n",
       "      <td>NaN</td>\n",
       "      <td>NaN</td>\n",
       "    </tr>\n",
       "    <tr>\n",
       "      <th>3</th>\n",
       "      <td>98.0</td>\n",
       "      <td>2008</td>\n",
       "      <td>weekday</td>\n",
       "      <td>1</td>\n",
       "      <td>12</td>\n",
       "      <td>2008-01-01</td>\n",
       "      <td>115</td>\n",
       "      <td>EGLINTON</td>\n",
       "      <td>AVEN</td>\n",
       "      <td>W</td>\n",
       "      <td>...</td>\n",
       "      <td>DARK</td>\n",
       "      <td>LOOSE SNOW</td>\n",
       "      <td>-79.4176</td>\n",
       "      <td>43.7027</td>\n",
       "      <td>NaN</td>\n",
       "      <td>01-01</td>\n",
       "      <td>(98.0, 2008, weekday, 1)</td>\n",
       "      <td>NaN</td>\n",
       "      <td>NaN</td>\n",
       "      <td>NaN</td>\n",
       "    </tr>\n",
       "    <tr>\n",
       "      <th>4</th>\n",
       "      <td>576.0</td>\n",
       "      <td>2008</td>\n",
       "      <td>weekday</td>\n",
       "      <td>1</td>\n",
       "      <td>15</td>\n",
       "      <td>2008-01-01</td>\n",
       "      <td>123</td>\n",
       "      <td>KEELE</td>\n",
       "      <td>ST</td>\n",
       "      <td>NaN</td>\n",
       "      <td>...</td>\n",
       "      <td>DARK</td>\n",
       "      <td>LOOSE SNOW</td>\n",
       "      <td>-79.4640</td>\n",
       "      <td>43.6636</td>\n",
       "      <td>NaN</td>\n",
       "      <td>01-01</td>\n",
       "      <td>(576.0, 2008, weekday, 1)</td>\n",
       "      <td>NaN</td>\n",
       "      <td>NaN</td>\n",
       "      <td>NaN</td>\n",
       "    </tr>\n",
       "  </tbody>\n",
       "</table>\n",
       "<p>5 rows × 32 columns</p>\n",
       "</div>"
      ],
      "text/plain": [
       "      px  year day_of_week  hour  collision_id collision_date  collision_time  \\\n",
       "0  785.0  2008     weekday     0             4     2008-01-01              45   \n",
       "1   90.0  2008     weekday     1             8     2008-01-01             100   \n",
       "2  678.0  2008     weekday     1            10     2008-01-01             110   \n",
       "3   98.0  2008     weekday     1            12     2008-01-01             115   \n",
       "4  576.0  2008     weekday     1            15     2008-01-01             123   \n",
       "\n",
       "       street_1 street_type_1 direction_1       ...                   light  \\\n",
       "0  MARTIN GROVE          ROAD         NaN       ...                    DARK   \n",
       "1      EGLINTON          AVEN           E       ...        DARK, ARTIFICIAL   \n",
       "2      BATHURST            ST         NaN       ...                    DARK   \n",
       "3      EGLINTON          AVEN           W       ...                    DARK   \n",
       "4         KEELE            ST         NaN       ...                    DARK   \n",
       "\n",
       "  road_surface_cond longitude latitude  centerline_id    day  \\\n",
       "0        LOOSE SNOW  -79.5491  43.6486            NaN  01-01   \n",
       "1               WET  -79.3774  43.7110            NaN  01-01   \n",
       "2               ICE  -79.4460  43.7924            NaN  01-01   \n",
       "3        LOOSE SNOW  -79.4176  43.7027            NaN  01-01   \n",
       "4        LOOSE SNOW  -79.4640  43.6636            NaN  01-01   \n",
       "\n",
       "                   volume_id volume_data_ped volume_data_cyc volume_data_veh  \n",
       "0  (785.0, 2008, weekday, 0)             NaN             NaN             NaN  \n",
       "1   (90.0, 2008, weekday, 1)             NaN             NaN             NaN  \n",
       "2  (678.0, 2008, weekday, 1)             NaN             NaN             NaN  \n",
       "3   (98.0, 2008, weekday, 1)             NaN             NaN             NaN  \n",
       "4  (576.0, 2008, weekday, 1)             NaN             NaN             NaN  \n",
       "\n",
       "[5 rows x 32 columns]"
      ]
     },
     "execution_count": 16,
     "metadata": {},
     "output_type": "execute_result"
    }
   ],
   "source": [
    "collisions_indexed.head()"
   ]
  },
  {
   "cell_type": "code",
   "execution_count": 17,
   "metadata": {},
   "outputs": [],
   "source": [
    "#free up ram occupied by removing obsolete dataframes\n",
    "del traffic_volume_tmc_clean\n",
    "del traffic_volume_tmc_temp\n",
    "del traffic_volume_tmc_perm"
   ]
  },
  {
   "cell_type": "markdown",
   "metadata": {},
   "source": [
    "#### <u><a name=\"D1.2.3\">1.2.3 Pre-processe Road Traffic Volume Count</a></u>\n",
    "\n",
    "ATR are traffic volume data per year, per day, per 15minutes or per 1hour measured at roads within the city of Toronto. The road location unique identifier is *centerline_id*. \n",
    "\n",
    "Processing flow for ATR dataset is the similar to the TMC dataset."
   ]
  },
  {
   "cell_type": "code",
   "execution_count": 18,
   "metadata": {},
   "outputs": [],
   "source": [
    "%%skip $marking\n",
    "# read in atr traffic volume data\n",
    "traffic_volume_atr_temp = pd.read_csv('volumes_atr_shortterm.csv',delimiter = ';', low_memory = False)\n",
    "traffic_volume_atr_perm = pd.read_csv('volumes_atr_permanent.csv',delimiter = ';', low_memory = False)"
   ]
  },
  {
   "cell_type": "code",
   "execution_count": 19,
   "metadata": {},
   "outputs": [],
   "source": [
    "%%skip $marking\n",
    "# joining temp and permanent measurements \n",
    "traffic_volume_atr_perm = traffic_volume_atr_perm.append(traffic_volume_atr_temp,ignore_index=True)"
   ]
  },
  {
   "cell_type": "code",
   "execution_count": 20,
   "metadata": {},
   "outputs": [],
   "source": [
    "%%skip $marking\n",
    "# parsing date stamps of volume measurement\n",
    "traffic_volume_atr_perm['datetime']=pd.to_datetime(traffic_volume_atr_perm['datetime_bin'],format='%Y-%m-%d %H:%M:%S',errors='coerce')\n",
    "traffic_volume_atr_perm['year']=traffic_volume_atr_perm['datetime'].dt.year\n",
    "traffic_volume_atr_perm['date']=traffic_volume_atr_perm['datetime_bin'].str[5:10]\n",
    "traffic_volume_atr_perm['hour']=traffic_volume_atr_perm['datetime'].dt.hour\n",
    "traffic_volume_atr_perm['minute']=traffic_volume_atr_perm['datetime'].dt.minute\n",
    "traffic_volume_atr_perm['day_of_week'] = traffic_volume_atr_perm['datetime'].dt.dayofweek.apply(lambda x : 'weekday' if(x<5) else 'weekend')"
   ]
  },
  {
   "cell_type": "code",
   "execution_count": 21,
   "metadata": {},
   "outputs": [],
   "source": [
    "%%skip $marking\n",
    "# freeing up memory by deleting obsolete dataframe\n",
    "del traffic_volume_atr_temp"
   ]
  },
  {
   "cell_type": "markdown",
   "metadata": {},
   "source": [
    "Here we split the ATR dataset into a 15 minute resolution dataframe and a 1 hour resolution dataframe, and process them seperately."
   ]
  },
  {
   "cell_type": "code",
   "execution_count": 22,
   "metadata": {},
   "outputs": [],
   "source": [
    "%%skip $marking\n",
    "# seperating the traffic volume count that had resolution of 15min and 1 hour.  \n",
    "traffic_volume_atr_perm_15=traffic_volume_atr_perm[traffic_volume_atr_perm.resolution=='15 minutes']\n",
    "traffic_volume_atr_perm_hr=traffic_volume_atr_perm[traffic_volume_atr_perm.resolution=='1 hour']\n",
    "\n",
    "# freeing up memory by deleting obsolete dataframe\n",
    "del traffic_volume_atr_perm"
   ]
  },
  {
   "cell_type": "code",
   "execution_count": 23,
   "metadata": {},
   "outputs": [],
   "source": [
    "%%skip $marking\n",
    "#dropping unuseful columns for resolution = 15 mintues\n",
    "traffic_volume_atr_perm_15=traffic_volume_atr_perm_15.drop(columns=['location', 'direction','datetime','datetime_bin','resolution'])"
   ]
  },
  {
   "cell_type": "code",
   "execution_count": 24,
   "metadata": {},
   "outputs": [],
   "source": [
    "%%skip $marking\n",
    "#dropping unuseful columns for resolution = 1 hour\n",
    "traffic_volume_atr_perm_hr=traffic_volume_atr_perm_hr.drop(columns=['location', 'direction','datetime','datetime_bin','resolution'])"
   ]
  },
  {
   "cell_type": "code",
   "execution_count": 25,
   "metadata": {},
   "outputs": [],
   "source": [
    "%%skip $marking\n",
    "\n",
    "#given traffic inforamtion includes volume flow from all traffic directions: N/E/S/W\n",
    "#which would not be valuable for our analysis, we sum data from all directions.\n",
    "\n",
    "key1=['centreline_id','year','class_type','date','day_of_week','hour','minute']\n",
    "traffic_volume_atr_perm_15=traffic_volume_atr_perm_15.groupby(key1 , as_index=False).sum()"
   ]
  },
  {
   "cell_type": "code",
   "execution_count": 26,
   "metadata": {},
   "outputs": [],
   "source": [
    "%%skip $marking\n",
    "# dropping the minute column as it is not useful anymore\n",
    "traffic_volume_atr_perm_15=traffic_volume_atr_perm_15.drop(columns=['minute'])"
   ]
  },
  {
   "cell_type": "code",
   "execution_count": 27,
   "metadata": {},
   "outputs": [],
   "source": [
    "%%skip $marking\n",
    "\n",
    "# taking the average traffic volume every 15min to obtain average volume per hour\n",
    "key2=['centreline_id','year','class_type','day_of_week','hour']\n",
    "volume_count_atr_15=traffic_volume_atr_perm_15.groupby(key2).mean()\n",
    "\n",
    "del traffic_volume_atr_perm_15\n",
    "\n",
    "volume_count_atr_15['volume']=volume_count_atr_15['volume']*4\n",
    "volume_count_atr_15.columns = ['avg_volume_per_hour']\n",
    "volume_count_atr_15=volume_count_atr_15.reset_index(level='class_type')\n",
    "volume_count_atr_15.head(10)"
   ]
  },
  {
   "cell_type": "code",
   "execution_count": 28,
   "metadata": {},
   "outputs": [],
   "source": [
    "%%skip $marking\n",
    "#given traffic inforamtion includes volume flow from all traffic directions: N/E/S/W\n",
    "#which would not be valuable for our analysis, we sum data from all directions.\n",
    "traffic_volume_atr_perm_hr=traffic_volume_atr_perm_hr.groupby(key1 , as_index=False).sum()"
   ]
  },
  {
   "cell_type": "code",
   "execution_count": 29,
   "metadata": {},
   "outputs": [],
   "source": [
    "%%skip $marking\n",
    "# dropping the minute column as it is not useful anymore\n",
    "traffic_volume_atr_perm_hr=traffic_volume_atr_perm_hr.drop(columns=['minute'])"
   ]
  },
  {
   "cell_type": "code",
   "execution_count": 30,
   "metadata": {},
   "outputs": [],
   "source": [
    "%%skip $marking\n",
    "\n",
    "\n",
    "# taking the average traffic volume every 15min to obtain average volume per hour\n",
    "volume_count_atr_hr=traffic_volume_atr_perm_hr.groupby(key2).mean()\n",
    "del traffic_volume_atr_perm_hr\n",
    "\n",
    "volume_count_atr_hr.columns = ['avg_volume_per_hour']\n",
    "volume_count_atr_hr=volume_count_atr_hr.reset_index(level='class_type')\n",
    "volume_count_atr_hr.head(10)"
   ]
  },
  {
   "cell_type": "code",
   "execution_count": 31,
   "metadata": {},
   "outputs": [],
   "source": [
    "%%skip $marking\n",
    "\n",
    "#The 15 minute resolution dataframe and 1 hour resolution dataframe is combined into 1 frame\n",
    "volume_count_atr=pd.concat([volume_count_atr_hr.reset_index(level=['centreline_id','year', 'day_of_week','hour']), volume_count_atr_15.reset_index(level=['centreline_id','year', 'day_of_week','hour'])], ignore_index=True, sort=False)\n",
    "print(volume_count_atr_hr.shape)\n",
    "print(volume_count_atr_15.shape)\n",
    "print(volume_count_atr.shape)\n",
    "\n",
    "del volume_count_atr_hr\n",
    "del volume_count_atr_15"
   ]
  },
  {
   "cell_type": "code",
   "execution_count": 32,
   "metadata": {},
   "outputs": [],
   "source": [
    "%%skip $marking\n",
    "\n",
    "volume_count_atr=volume_count_atr.groupby(key2).mean()\n",
    "print(volume_count_atr.shape)\n",
    "\n",
    "volume_count_atr=volume_count_atr.reset_index(level='class_type')\n",
    "volume_count_atr.head()"
   ]
  },
  {
   "cell_type": "code",
   "execution_count": 33,
   "metadata": {},
   "outputs": [],
   "source": [
    "%%skip $marking\n",
    "volume_count_atr.to_csv('_volume_count_atr.csv')"
   ]
  },
  {
   "cell_type": "markdown",
   "metadata": {},
   "source": [
    "#### <u><a name=\"D1.2.4\">1.2.4 Match traffic volume count to collisions at road</a></u>"
   ]
  },
  {
   "cell_type": "code",
   "execution_count": 34,
   "metadata": {},
   "outputs": [],
   "source": [
    "%%skip $marking\n",
    "\n",
    "#dropping dataentries that did not happen on road.\n",
    "collisions_indexed_atr = events_collision.dropna(subset=['centerline_id']).set_index(['centerline_id', 'year', 'day_of_week','hour'])"
   ]
  },
  {
   "cell_type": "code",
   "execution_count": 35,
   "metadata": {},
   "outputs": [],
   "source": [
    "%%skip $marking\n",
    "#create dictionary to the avg volume per hour column for each pedestrians/cyclists/vehicles \n",
    "volume_dict_ped = volume_count_atr[volume_count_atr.class_type=='Pedestrians'].to_dict()['avg_volume_per_hour']\n",
    "volume_dict_cyc = volume_count_atr[volume_count_atr.class_type=='Cyclists'].to_dict()['avg_volume_per_hour']\n",
    "volume_dict_veh = volume_count_atr[volume_count_atr.class_type=='Vehicles'].to_dict()['avg_volume_per_hour']"
   ]
  },
  {
   "cell_type": "code",
   "execution_count": 36,
   "metadata": {},
   "outputs": [],
   "source": [
    "%%skip $marking\n",
    "#mapping avg volume per hour of pedestrians/cyclists/vehicles to collision events dataframe\n",
    "collisions_indexed_atr['volume_id'] = collisions_indexed_atr.index.tolist()"
   ]
  },
  {
   "cell_type": "code",
   "execution_count": 37,
   "metadata": {},
   "outputs": [],
   "source": [
    "%%skip $marking\n",
    "collisions_indexed_atr.head()"
   ]
  },
  {
   "cell_type": "code",
   "execution_count": 38,
   "metadata": {},
   "outputs": [],
   "source": [
    "%%skip $marking\n",
    "\n",
    "#mapping pedestrian/cyclists/vehicle traffic count to collision dataset\n",
    "collisions_indexed_atr['volume_data_ped'] = collisions_indexed_atr['volume_id'].map(volume_dict_ped)\n",
    "collisions_indexed_atr['volume_data_cyc'] = collisions_indexed_atr['volume_id'].map(volume_dict_cyc)\n",
    "collisions_indexed_atr['volume_data_veh'] = collisions_indexed_atr['volume_id'].map(volume_dict_veh)\n",
    "\n",
    "collisions_indexed_atr[collisions_indexed_atr.volume_data_veh.notna()]\n",
    "\n",
    "#reset multi-level indexing\n",
    "collisions_indexed_atr=collisions_indexed_atr.reset_index(level=['centerline_id', 'year', 'day_of_week','hour'])\n",
    "\n",
    "#combine intersection collision data and road collision data into one dataset\n",
    "collisions_events_processed=pd.concat([collisions_indexed, collisions_indexed_atr], ignore_index=True, sort=False)\n",
    "\n",
    "#write combined dataset to csv.\n",
    "collisions_events_processed.to_csv('_collisions_events_processed.csv')"
   ]
  },
  {
   "cell_type": "markdown",
   "metadata": {},
   "source": [
    "### <u><a name=\"D1.3\">1.3 Add Additional Road Geometry Features to Collision Events </a></u>"
   ]
  },
  {
   "cell_type": "code",
   "execution_count": 39,
   "metadata": {},
   "outputs": [],
   "source": [
    "collision_events=pd.read_csv('_collisions_events_processed.csv', low_memory=False)\n",
    "centerline=pd.read_csv('toronto_centerline.csv', low_memory=False)\n",
    "speed_limit=pd.read_csv('posted_speed_limits.csv', low_memory=False)\n",
    "traffic_signals=pd.read_csv('traffic_signals.csv', low_memory=False)"
   ]
  },
  {
   "cell_type": "code",
   "execution_count": 40,
   "metadata": {},
   "outputs": [
    {
     "data": {
      "text/html": [
       "<div>\n",
       "<style scoped>\n",
       "    .dataframe tbody tr th:only-of-type {\n",
       "        vertical-align: middle;\n",
       "    }\n",
       "\n",
       "    .dataframe tbody tr th {\n",
       "        vertical-align: top;\n",
       "    }\n",
       "\n",
       "    .dataframe thead th {\n",
       "        text-align: right;\n",
       "    }\n",
       "</style>\n",
       "<table border=\"1\" class=\"dataframe\">\n",
       "  <thead>\n",
       "    <tr style=\"text-align: right;\">\n",
       "      <th></th>\n",
       "      <th>Unnamed: 0</th>\n",
       "      <th>px</th>\n",
       "      <th>year</th>\n",
       "      <th>day_of_week</th>\n",
       "      <th>hour</th>\n",
       "      <th>collision_id</th>\n",
       "      <th>collision_date</th>\n",
       "      <th>collision_time</th>\n",
       "      <th>street_1</th>\n",
       "      <th>street_type_1</th>\n",
       "      <th>...</th>\n",
       "      <th>latitude</th>\n",
       "      <th>centerline_id</th>\n",
       "      <th>day</th>\n",
       "      <th>vehicles_involved</th>\n",
       "      <th>pedestrians_involved</th>\n",
       "      <th>cyclists_involved</th>\n",
       "      <th>volume_id</th>\n",
       "      <th>volume_data_ped</th>\n",
       "      <th>volume_data_cyc</th>\n",
       "      <th>volume_data_veh</th>\n",
       "    </tr>\n",
       "  </thead>\n",
       "  <tbody>\n",
       "    <tr>\n",
       "      <th>0</th>\n",
       "      <td>0</td>\n",
       "      <td>785.0</td>\n",
       "      <td>2008</td>\n",
       "      <td>weekday</td>\n",
       "      <td>0</td>\n",
       "      <td>4</td>\n",
       "      <td>2008-01-01</td>\n",
       "      <td>45</td>\n",
       "      <td>MARTIN GROVE</td>\n",
       "      <td>ROAD</td>\n",
       "      <td>...</td>\n",
       "      <td>43.6486</td>\n",
       "      <td>NaN</td>\n",
       "      <td>01-01</td>\n",
       "      <td>2.0</td>\n",
       "      <td>NaN</td>\n",
       "      <td>NaN</td>\n",
       "      <td>(785.0, 2008, 'weekday', 0)</td>\n",
       "      <td>NaN</td>\n",
       "      <td>NaN</td>\n",
       "      <td>NaN</td>\n",
       "    </tr>\n",
       "    <tr>\n",
       "      <th>1</th>\n",
       "      <td>1</td>\n",
       "      <td>90.0</td>\n",
       "      <td>2008</td>\n",
       "      <td>weekday</td>\n",
       "      <td>1</td>\n",
       "      <td>8</td>\n",
       "      <td>2008-01-01</td>\n",
       "      <td>100</td>\n",
       "      <td>EGLINTON</td>\n",
       "      <td>AVEN</td>\n",
       "      <td>...</td>\n",
       "      <td>43.7110</td>\n",
       "      <td>NaN</td>\n",
       "      <td>01-01</td>\n",
       "      <td>2.0</td>\n",
       "      <td>NaN</td>\n",
       "      <td>NaN</td>\n",
       "      <td>(90.0, 2008, 'weekday', 1)</td>\n",
       "      <td>NaN</td>\n",
       "      <td>NaN</td>\n",
       "      <td>NaN</td>\n",
       "    </tr>\n",
       "  </tbody>\n",
       "</table>\n",
       "<p>2 rows × 36 columns</p>\n",
       "</div>"
      ],
      "text/plain": [
       "   Unnamed: 0     px  year day_of_week  hour  collision_id collision_date  \\\n",
       "0           0  785.0  2008     weekday     0             4     2008-01-01   \n",
       "1           1   90.0  2008     weekday     1             8     2008-01-01   \n",
       "\n",
       "   collision_time      street_1 street_type_1       ...       latitude  \\\n",
       "0              45  MARTIN GROVE          ROAD       ...        43.6486   \n",
       "1             100      EGLINTON          AVEN       ...        43.7110   \n",
       "\n",
       "  centerline_id    day vehicles_involved pedestrians_involved  \\\n",
       "0           NaN  01-01               2.0                  NaN   \n",
       "1           NaN  01-01               2.0                  NaN   \n",
       "\n",
       "   cyclists_involved                    volume_id volume_data_ped  \\\n",
       "0                NaN  (785.0, 2008, 'weekday', 0)             NaN   \n",
       "1                NaN   (90.0, 2008, 'weekday', 1)             NaN   \n",
       "\n",
       "  volume_data_cyc volume_data_veh  \n",
       "0             NaN             NaN  \n",
       "1             NaN             NaN  \n",
       "\n",
       "[2 rows x 36 columns]"
      ]
     },
     "execution_count": 40,
     "metadata": {},
     "output_type": "execute_result"
    }
   ],
   "source": [
    "collision_events.head(2)"
   ]
  },
  {
   "cell_type": "markdown",
   "metadata": {},
   "source": [
    "We are dropping any collision without traffic volume data as it is one of our main prediction features as seen in the result sections. Also, data needs to be dropped because we do not have the computational power to model the whole dataset with negative samples. A super computer might be needed."
   ]
  },
  {
   "cell_type": "code",
   "execution_count": 41,
   "metadata": {},
   "outputs": [],
   "source": [
    "#dropping collision event entry that do not habe a traffic volume count\n",
    "collision_events=collision_events.dropna(subset=['volume_data_veh'])"
   ]
  },
  {
   "cell_type": "markdown",
   "metadata": {},
   "source": [
    "#### <u><a name=\"D1.3.1\">1.3.1 Match Centerline ID to Intersection Px ID</a></u>\n"
   ]
  },
  {
   "cell_type": "markdown",
   "metadata": {},
   "source": [
    "The traffic signal dataset correlates px to a centerline_id (also called GEO_ID). Using this dataset, intersections can now be associated to a road. This is necessary because useful road features such as posted speed limit, and type of road from other datasets are identified through centerline_id. This matching allows intersections to be related to those features."
   ]
  },
  {
   "cell_type": "code",
   "execution_count": 42,
   "metadata": {},
   "outputs": [
    {
     "data": {
      "text/plain": [
       "0"
      ]
     },
     "execution_count": 42,
     "metadata": {},
     "output_type": "execute_result"
    }
   ],
   "source": [
    "#dropping non-relevant columns. \n",
    "ndrop=['PX','Geo ID'] #what we are keeping\n",
    "drop=list(traffic_signals)\n",
    "for x in ndrop:\n",
    "    drop.remove(x)\n",
    "signal_drop=traffic_signals.drop(columns=drop)\n",
    "signal_drop.columns = ['px', 'centerline_id']\n",
    "\n",
    "#creating a dictionary for the px to map centerline_id\n",
    "signal_drop=signal_drop.set_index('px')\n",
    "signal_dict=signal_drop.to_dict()['centerline_id']\n",
    "\n",
    "#mapping centerline_id to intersection traffic volume dataset\n",
    "collision_events['centerline_id2']=collision_events['px'].map(signal_dict)\n",
    "collision_events['centerline_id']=collision_events['centerline_id'].fillna(collision_events['centerline_id2'])\n",
    "\n",
    "#checking for rows that doesn't have any centerline_id\n",
    "len(collision_events[collision_events.centerline_id.isna()])"
   ]
  },
  {
   "cell_type": "markdown",
   "metadata": {},
   "source": [
    "#### <u><a name=\"D1.3.2\">1.3.2 Match Road Type, Posted Speed to Centerline ID in Collision Event</a></u>\n"
   ]
  },
  {
   "cell_type": "code",
   "execution_count": 43,
   "metadata": {},
   "outputs": [],
   "source": [
    "#FOR ROAD TYPE, dropping non-relevant columns. FCODE is a code for the road type.\n",
    "ndrop=['GEO_ID','FCODE']\n",
    "drop=list(centerline)\n",
    "for x in ndrop:\n",
    "    drop.remove(x)\n",
    "centerline_drop=centerline.drop(columns=drop)\n",
    "centerline_drop.columns = ['centerline_id', 'fcode']"
   ]
  },
  {
   "cell_type": "code",
   "execution_count": 44,
   "metadata": {},
   "outputs": [],
   "source": [
    "#FOR SPEED LIMIT, dropping non-relevant columns. FCODE is a code for the road type.\n",
    "ndrop=['GEO_ID','POSTED_SPE']\n",
    "drop=list(speed_limit)\n",
    "for x in ndrop:\n",
    "    drop.remove(x)\n",
    "speed_limit_drop=speed_limit.drop(columns=drop)\n",
    "speed_limit_drop.columns = ['centerline_id', 'posted_spd']"
   ]
  },
  {
   "cell_type": "code",
   "execution_count": 45,
   "metadata": {},
   "outputs": [],
   "source": [
    "#creating dictionary for matching road type and posted speed limit based on centerline_id\n",
    "centerline_dict = centerline_drop.set_index(['centerline_id']).to_dict()['fcode']\n",
    "collision_events['fcode']=collision_events['centerline_id'].map(centerline_dict)\n",
    "\n",
    "speed_limit_dict=speed_limit_drop.set_index(['centerline_id']).to_dict()['posted_spd']\n",
    "collision_events['posted_spd']=collision_events['centerline_id'].map(speed_limit_dict)"
   ]
  },
  {
   "cell_type": "code",
   "execution_count": 46,
   "metadata": {},
   "outputs": [],
   "source": [
    "# mapping the road code to the corresponding road type\n",
    "fcode_map={\n",
    "201100:'Highway',\n",
    "201101:'Highway Ramp',\n",
    "201200:'Major Arterial Road',\n",
    "201201:'Major Arterial Road Ramp',\n",
    "201300:'Minor Arterial Road',\n",
    "201301:'Minor Arterial Road Ramp',\n",
    "201400:'Collector Road',\n",
    "201401:'Collector Road Ramp',\n",
    "201500:'Local Road',\n",
    "201600:'Other Road',\n",
    "201601:'Other Ramp',\n",
    "201700:'Laneways',\n",
    "201800:'Pending',\n",
    "201803:'Access Road',\n",
    "201801:'Busway',\n",
    "202001:'Major Railway',\n",
    "202002:'Minor Railway',\n",
    "202003:'Railway under construction/proposed',\n",
    "203001:'River',\n",
    "203002:'Creek/Tributary',\n",
    "204001:'Trail',\n",
    "204002:'Walkway',\n",
    "205001:'Hydro Line',\n",
    "206001:'Major Shoreline',\n",
    "206002:'Minor Shoreline (Land locked)',\n",
    "207001:'Geostatistical line'\n",
    "}\n",
    "\n",
    "collision_events['road_type']=collision_events['fcode'].map(fcode_map)"
   ]
  },
  {
   "cell_type": "code",
   "execution_count": 47,
   "metadata": {},
   "outputs": [],
   "source": [
    "# setting all posted speed limit =1 to N/A\n",
    "collision_events['posted_spd']=collision_events['posted_spd'].apply(lambda x: float('NaN') if x==1 else x)"
   ]
  },
  {
   "cell_type": "markdown",
   "metadata": {},
   "source": [
    "#### <u><a name=\"D1.3.3\">1.3.3 Fill the Missing Posted Speed from Collision Event Data From the Posted Speed Dataset</a></u>\n",
    "\n",
    "There are two sources of Posted Speed, 1) from the *Collisions-Events* dataset, 2) From City's Posted Speed Dataset. The posted speed from the *Collisions-Events* set should be more accurate as it is from the original datset. The City's posted speed relates to the collision data by a location identifier. Therefore, when processing the posted speed feature, the posted speed from the original dataset is kept, and any collision entry that did not have a posted speed is filled from the City's posted speed dataset."
   ]
  },
  {
   "cell_type": "code",
   "execution_count": 48,
   "metadata": {},
   "outputs": [],
   "source": [
    "involved_collision=pd.read_csv('collisions_involved.csv', delimiter=';', low_memory=False)"
   ]
  },
  {
   "cell_type": "code",
   "execution_count": 49,
   "metadata": {},
   "outputs": [
    {
     "data": {
      "text/html": [
       "<div>\n",
       "<style scoped>\n",
       "    .dataframe tbody tr th:only-of-type {\n",
       "        vertical-align: middle;\n",
       "    }\n",
       "\n",
       "    .dataframe tbody tr th {\n",
       "        vertical-align: top;\n",
       "    }\n",
       "\n",
       "    .dataframe thead th {\n",
       "        text-align: right;\n",
       "    }\n",
       "</style>\n",
       "<table border=\"1\" class=\"dataframe\">\n",
       "  <thead>\n",
       "    <tr style=\"text-align: right;\">\n",
       "      <th></th>\n",
       "      <th>collision_id</th>\n",
       "      <th>traffic_control</th>\n",
       "      <th>vehicle_class</th>\n",
       "      <th>initial_dir</th>\n",
       "      <th>event1</th>\n",
       "      <th>event2</th>\n",
       "      <th>event3</th>\n",
       "      <th>involved_class</th>\n",
       "      <th>involved_age</th>\n",
       "      <th>involved_injury_class</th>\n",
       "      <th>safety_equip_used</th>\n",
       "      <th>driver_action</th>\n",
       "      <th>pedestrian_action</th>\n",
       "      <th>pedestrian_collision_type</th>\n",
       "      <th>cyclist_action</th>\n",
       "      <th>cyclist_collision_type</th>\n",
       "      <th>manoeuver</th>\n",
       "      <th>actual_speed</th>\n",
       "      <th>posted_speed</th>\n",
       "    </tr>\n",
       "  </thead>\n",
       "  <tbody>\n",
       "    <tr>\n",
       "      <th>0</th>\n",
       "      <td>1</td>\n",
       "      <td>NO CONTROL</td>\n",
       "      <td>OTHER</td>\n",
       "      <td>NaN</td>\n",
       "      <td>BUILDING OR WALL</td>\n",
       "      <td>NaN</td>\n",
       "      <td>NaN</td>\n",
       "      <td>OTHER PROPERTY OWNER</td>\n",
       "      <td>NaN</td>\n",
       "      <td>NONE</td>\n",
       "      <td>OTHER SAFETY EQUIPMENT USED</td>\n",
       "      <td>NaN</td>\n",
       "      <td>NaN</td>\n",
       "      <td>NaN</td>\n",
       "      <td>NaN</td>\n",
       "      <td>NaN</td>\n",
       "      <td>UNKNOWN</td>\n",
       "      <td>NaN</td>\n",
       "      <td>NaN</td>\n",
       "    </tr>\n",
       "    <tr>\n",
       "      <th>1</th>\n",
       "      <td>1</td>\n",
       "      <td>NO CONTROL</td>\n",
       "      <td>AUTOMOBILE, STATION WAGON</td>\n",
       "      <td>NaN</td>\n",
       "      <td>BUILDING OR WALL</td>\n",
       "      <td>NaN</td>\n",
       "      <td>NaN</td>\n",
       "      <td>DRIVER</td>\n",
       "      <td>31.0</td>\n",
       "      <td>NONE</td>\n",
       "      <td>OTHER SAFETY EQUIPMENT USED</td>\n",
       "      <td>NaN</td>\n",
       "      <td>NaN</td>\n",
       "      <td>NaN</td>\n",
       "      <td>NaN</td>\n",
       "      <td>NaN</td>\n",
       "      <td>UNKNOWN</td>\n",
       "      <td>NaN</td>\n",
       "      <td>NaN</td>\n",
       "    </tr>\n",
       "  </tbody>\n",
       "</table>\n",
       "</div>"
      ],
      "text/plain": [
       "   collision_id traffic_control              vehicle_class initial_dir  \\\n",
       "0             1      NO CONTROL                      OTHER         NaN   \n",
       "1             1      NO CONTROL  AUTOMOBILE, STATION WAGON         NaN   \n",
       "\n",
       "             event1 event2 event3        involved_class  involved_age  \\\n",
       "0  BUILDING OR WALL    NaN    NaN  OTHER PROPERTY OWNER           NaN   \n",
       "1  BUILDING OR WALL    NaN    NaN                DRIVER          31.0   \n",
       "\n",
       "  involved_injury_class            safety_equip_used driver_action  \\\n",
       "0                  NONE  OTHER SAFETY EQUIPMENT USED           NaN   \n",
       "1                  NONE  OTHER SAFETY EQUIPMENT USED           NaN   \n",
       "\n",
       "  pedestrian_action pedestrian_collision_type cyclist_action  \\\n",
       "0               NaN                       NaN            NaN   \n",
       "1               NaN                       NaN            NaN   \n",
       "\n",
       "  cyclist_collision_type manoeuver  actual_speed  posted_speed  \n",
       "0                    NaN   UNKNOWN           NaN           NaN  \n",
       "1                    NaN   UNKNOWN           NaN           NaN  "
      ]
     },
     "execution_count": 49,
     "metadata": {},
     "output_type": "execute_result"
    }
   ],
   "source": [
    "involved_collision.head(2)"
   ]
  },
  {
   "cell_type": "code",
   "execution_count": 50,
   "metadata": {},
   "outputs": [],
   "source": [
    "#dropping non-relevant columns\n",
    "ndrop=['collision_id','posted_speed'] #columns that we want to keep\n",
    "drop=list(involved_collision)\n",
    "for x in ndrop:\n",
    "    drop.remove(x)\n",
    "involved_collision_drop=involved_collision.drop(columns=drop)"
   ]
  },
  {
   "cell_type": "code",
   "execution_count": 51,
   "metadata": {},
   "outputs": [
    {
     "data": {
      "text/plain": [
       "<function dict.values>"
      ]
     },
     "execution_count": 51,
     "metadata": {},
     "output_type": "execute_result"
    }
   ],
   "source": [
    "#preparing a dictionary for posted speed from involved collision dataset..\n",
    "involved_collision_drop=involved_collision_drop.groupby('collision_id').max()\n",
    "involved_collision_dict=involved_collision_drop.to_dict()['posted_speed']\n",
    "involved_collision_dict.values"
   ]
  },
  {
   "cell_type": "code",
   "execution_count": 52,
   "metadata": {},
   "outputs": [],
   "source": [
    "#mapping posted speed from involved collision dataset to collision_events dataset\n",
    "collision_events['posted_speed']=collision_events['collision_id'].map(involved_collision_dict)"
   ]
  },
  {
   "cell_type": "code",
   "execution_count": 53,
   "metadata": {},
   "outputs": [],
   "source": [
    "# filling the NA values in collision events from posted_speed dataset\n",
    "collision_events['posted_speed']=collision_events['posted_speed'].fillna(collision_events['posted_spd'])\n",
    "# setting all posted speed limit =1 to N/A\n",
    "collision_events['posted_speed']=collision_events['posted_speed'].apply(lambda x: float('NaN') if x==1 else x)"
   ]
  },
  {
   "cell_type": "markdown",
   "metadata": {},
   "source": [
    "#### <u><a name=\"D1.3.5\">1.3.5 Matching Lane Number to Centerline</a></u>\n"
   ]
  },
  {
   "cell_type": "code",
   "execution_count": 54,
   "metadata": {},
   "outputs": [],
   "source": [
    "lane_count=pd.read_csv('centerline_lane.csv')"
   ]
  },
  {
   "cell_type": "code",
   "execution_count": 55,
   "metadata": {
    "scrolled": false
   },
   "outputs": [
    {
     "data": {
      "text/html": [
       "<div>\n",
       "<style scoped>\n",
       "    .dataframe tbody tr th:only-of-type {\n",
       "        vertical-align: middle;\n",
       "    }\n",
       "\n",
       "    .dataframe tbody tr th {\n",
       "        vertical-align: top;\n",
       "    }\n",
       "\n",
       "    .dataframe thead th {\n",
       "        text-align: right;\n",
       "    }\n",
       "</style>\n",
       "<table border=\"1\" class=\"dataframe\">\n",
       "  <thead>\n",
       "    <tr style=\"text-align: right;\">\n",
       "      <th></th>\n",
       "      <th>OBJECTID</th>\n",
       "      <th>GEO_ID</th>\n",
       "      <th>LF_NAME</th>\n",
       "      <th>MAR13RC201</th>\n",
       "      <th>MAR13RC2_1</th>\n",
       "      <th>MAR13RC2_2</th>\n",
       "      <th>MAR13RC2_3</th>\n",
       "      <th>MAR13RC2_4</th>\n",
       "      <th>SECTION_ID</th>\n",
       "      <th>GIS_ROUTE</th>\n",
       "      <th>Length</th>\n",
       "      <th>NetworkCla</th>\n",
       "      <th>StructureT</th>\n",
       "      <th>NumberofLa</th>\n",
       "      <th>Width</th>\n",
       "      <th>FromStreet</th>\n",
       "      <th>ToStreet</th>\n",
       "      <th>SHAPE_Leng</th>\n",
       "    </tr>\n",
       "  </thead>\n",
       "  <tbody>\n",
       "    <tr>\n",
       "      <th>0</th>\n",
       "      <td>1</td>\n",
       "      <td>7585679</td>\n",
       "      <td>LAKE SHORE BLVD W</td>\n",
       "      <td>201200</td>\n",
       "      <td>Major Arterial</td>\n",
       "      <td>201200</td>\n",
       "      <td>Major Arterial</td>\n",
       "      <td>CITY</td>\n",
       "      <td>002-21</td>\n",
       "      <td>100710.0</td>\n",
       "      <td>1832.0</td>\n",
       "      <td>Pavement</td>\n",
       "      <td>Street</td>\n",
       "      <td>4.0</td>\n",
       "      <td>19.5</td>\n",
       "      <td>KIPLING AVE</td>\n",
       "      <td>BROWN'S LINE</td>\n",
       "      <td>135.053958</td>\n",
       "    </tr>\n",
       "    <tr>\n",
       "      <th>1</th>\n",
       "      <td>2</td>\n",
       "      <td>7586931</td>\n",
       "      <td>LAKE SHORE BLVD W</td>\n",
       "      <td>201200</td>\n",
       "      <td>Major Arterial</td>\n",
       "      <td>201200</td>\n",
       "      <td>Major Arterial</td>\n",
       "      <td>CITY</td>\n",
       "      <td>002-21</td>\n",
       "      <td>100710.0</td>\n",
       "      <td>1832.0</td>\n",
       "      <td>Pavement</td>\n",
       "      <td>Street</td>\n",
       "      <td>4.0</td>\n",
       "      <td>19.5</td>\n",
       "      <td>KIPLING AVE</td>\n",
       "      <td>BROWN'S LINE</td>\n",
       "      <td>136.955245</td>\n",
       "    </tr>\n",
       "    <tr>\n",
       "      <th>2</th>\n",
       "      <td>3</td>\n",
       "      <td>20035304</td>\n",
       "      <td>CENTENNIAL RD</td>\n",
       "      <td>201500</td>\n",
       "      <td>Local</td>\n",
       "      <td>201500</td>\n",
       "      <td>Local</td>\n",
       "      <td>CITY</td>\n",
       "      <td>DD0010</td>\n",
       "      <td>80747.0</td>\n",
       "      <td>442.0</td>\n",
       "      <td>Pavement</td>\n",
       "      <td>Street</td>\n",
       "      <td>2.0</td>\n",
       "      <td>9.7</td>\n",
       "      <td>[343 m S] LAWERNCE AVE E [END]</td>\n",
       "      <td>LAWRENCE AVE E</td>\n",
       "      <td>21.414794</td>\n",
       "    </tr>\n",
       "    <tr>\n",
       "      <th>3</th>\n",
       "      <td>4</td>\n",
       "      <td>914709</td>\n",
       "      <td>LAKE SHORE BLVD W</td>\n",
       "      <td>201200</td>\n",
       "      <td>Major Arterial</td>\n",
       "      <td>201200</td>\n",
       "      <td>Major Arterial</td>\n",
       "      <td>CITY</td>\n",
       "      <td>002-21</td>\n",
       "      <td>100710.0</td>\n",
       "      <td>1832.0</td>\n",
       "      <td>Pavement</td>\n",
       "      <td>Street</td>\n",
       "      <td>4.0</td>\n",
       "      <td>19.5</td>\n",
       "      <td>KIPLING AVE</td>\n",
       "      <td>BROWN'S LINE</td>\n",
       "      <td>119.138817</td>\n",
       "    </tr>\n",
       "    <tr>\n",
       "      <th>4</th>\n",
       "      <td>5</td>\n",
       "      <td>9109207</td>\n",
       "      <td>LAKE SHORE BLVD W</td>\n",
       "      <td>201200</td>\n",
       "      <td>Major Arterial</td>\n",
       "      <td>201200</td>\n",
       "      <td>Major Arterial</td>\n",
       "      <td>CITY</td>\n",
       "      <td>002-21</td>\n",
       "      <td>100710.0</td>\n",
       "      <td>1832.0</td>\n",
       "      <td>Pavement</td>\n",
       "      <td>Street</td>\n",
       "      <td>4.0</td>\n",
       "      <td>19.5</td>\n",
       "      <td>KIPLING AVE</td>\n",
       "      <td>BROWN'S LINE</td>\n",
       "      <td>57.720086</td>\n",
       "    </tr>\n",
       "  </tbody>\n",
       "</table>\n",
       "</div>"
      ],
      "text/plain": [
       "   OBJECTID    GEO_ID            LF_NAME  MAR13RC201      MAR13RC2_1  \\\n",
       "0         1   7585679  LAKE SHORE BLVD W      201200  Major Arterial   \n",
       "1         2   7586931  LAKE SHORE BLVD W      201200  Major Arterial   \n",
       "2         3  20035304      CENTENNIAL RD      201500           Local   \n",
       "3         4    914709  LAKE SHORE BLVD W      201200  Major Arterial   \n",
       "4         5   9109207  LAKE SHORE BLVD W      201200  Major Arterial   \n",
       "\n",
       "   MAR13RC2_2      MAR13RC2_3 MAR13RC2_4 SECTION_ID  GIS_ROUTE  Length  \\\n",
       "0      201200  Major Arterial       CITY     002-21   100710.0  1832.0   \n",
       "1      201200  Major Arterial       CITY     002-21   100710.0  1832.0   \n",
       "2      201500           Local       CITY     DD0010    80747.0   442.0   \n",
       "3      201200  Major Arterial       CITY     002-21   100710.0  1832.0   \n",
       "4      201200  Major Arterial       CITY     002-21   100710.0  1832.0   \n",
       "\n",
       "  NetworkCla StructureT  NumberofLa  Width                      FromStreet  \\\n",
       "0   Pavement     Street         4.0   19.5                     KIPLING AVE   \n",
       "1   Pavement     Street         4.0   19.5                     KIPLING AVE   \n",
       "2   Pavement     Street         2.0    9.7  [343 m S] LAWERNCE AVE E [END]   \n",
       "3   Pavement     Street         4.0   19.5                     KIPLING AVE   \n",
       "4   Pavement     Street         4.0   19.5                     KIPLING AVE   \n",
       "\n",
       "         ToStreet  SHAPE_Leng  \n",
       "0    BROWN'S LINE  135.053958  \n",
       "1    BROWN'S LINE  136.955245  \n",
       "2  LAWRENCE AVE E   21.414794  \n",
       "3    BROWN'S LINE  119.138817  \n",
       "4    BROWN'S LINE   57.720086  "
      ]
     },
     "execution_count": 55,
     "metadata": {},
     "output_type": "execute_result"
    }
   ],
   "source": [
    "lane_count.head()"
   ]
  },
  {
   "cell_type": "code",
   "execution_count": 56,
   "metadata": {},
   "outputs": [],
   "source": [
    "ndrop=['GEO_ID','NumberofLa','Width']\n",
    "drop=list(lane_count)\n",
    "for x in ndrop:\n",
    "    drop.remove(x)\n",
    "lane_count_drop=lane_count.drop(columns=drop)\n",
    "lane_count_drop.columns=['centerline_id','num_of_lane','width']"
   ]
  },
  {
   "cell_type": "code",
   "execution_count": 57,
   "metadata": {},
   "outputs": [
    {
     "data": {
      "text/html": [
       "<div>\n",
       "<style scoped>\n",
       "    .dataframe tbody tr th:only-of-type {\n",
       "        vertical-align: middle;\n",
       "    }\n",
       "\n",
       "    .dataframe tbody tr th {\n",
       "        vertical-align: top;\n",
       "    }\n",
       "\n",
       "    .dataframe thead th {\n",
       "        text-align: right;\n",
       "    }\n",
       "</style>\n",
       "<table border=\"1\" class=\"dataframe\">\n",
       "  <thead>\n",
       "    <tr style=\"text-align: right;\">\n",
       "      <th></th>\n",
       "      <th>num_of_lane</th>\n",
       "      <th>width</th>\n",
       "    </tr>\n",
       "    <tr>\n",
       "      <th>centerline_id</th>\n",
       "      <th></th>\n",
       "      <th></th>\n",
       "    </tr>\n",
       "  </thead>\n",
       "  <tbody>\n",
       "    <tr>\n",
       "      <th>7585679</th>\n",
       "      <td>4.0</td>\n",
       "      <td>19.5</td>\n",
       "    </tr>\n",
       "    <tr>\n",
       "      <th>7586931</th>\n",
       "      <td>4.0</td>\n",
       "      <td>19.5</td>\n",
       "    </tr>\n",
       "    <tr>\n",
       "      <th>20035304</th>\n",
       "      <td>2.0</td>\n",
       "      <td>9.7</td>\n",
       "    </tr>\n",
       "    <tr>\n",
       "      <th>914709</th>\n",
       "      <td>4.0</td>\n",
       "      <td>19.5</td>\n",
       "    </tr>\n",
       "    <tr>\n",
       "      <th>9109207</th>\n",
       "      <td>4.0</td>\n",
       "      <td>19.5</td>\n",
       "    </tr>\n",
       "  </tbody>\n",
       "</table>\n",
       "</div>"
      ],
      "text/plain": [
       "               num_of_lane  width\n",
       "centerline_id                    \n",
       "7585679                4.0   19.5\n",
       "7586931                4.0   19.5\n",
       "20035304               2.0    9.7\n",
       "914709                 4.0   19.5\n",
       "9109207                4.0   19.5"
      ]
     },
     "execution_count": 57,
     "metadata": {},
     "output_type": "execute_result"
    }
   ],
   "source": [
    "lane_count_drop=lane_count_drop.set_index('centerline_id')\n",
    "lane_count_drop.head()"
   ]
  },
  {
   "cell_type": "code",
   "execution_count": 58,
   "metadata": {},
   "outputs": [],
   "source": [
    "#generate dictionary for mapping number of lanes and road width\n",
    "lane_count_dict_num=lane_count_drop.to_dict()['num_of_lane']\n",
    "lane_count_dict_width=lane_count_drop.to_dict()['width']"
   ]
  },
  {
   "cell_type": "code",
   "execution_count": 59,
   "metadata": {},
   "outputs": [
    {
     "data": {
      "text/html": [
       "<div>\n",
       "<style scoped>\n",
       "    .dataframe tbody tr th:only-of-type {\n",
       "        vertical-align: middle;\n",
       "    }\n",
       "\n",
       "    .dataframe tbody tr th {\n",
       "        vertical-align: top;\n",
       "    }\n",
       "\n",
       "    .dataframe thead th {\n",
       "        text-align: right;\n",
       "    }\n",
       "</style>\n",
       "<table border=\"1\" class=\"dataframe\">\n",
       "  <thead>\n",
       "    <tr style=\"text-align: right;\">\n",
       "      <th></th>\n",
       "      <th>Unnamed: 0</th>\n",
       "      <th>px</th>\n",
       "      <th>year</th>\n",
       "      <th>day_of_week</th>\n",
       "      <th>hour</th>\n",
       "      <th>collision_id</th>\n",
       "      <th>collision_date</th>\n",
       "      <th>collision_time</th>\n",
       "      <th>street_1</th>\n",
       "      <th>street_type_1</th>\n",
       "      <th>...</th>\n",
       "      <th>volume_data_ped</th>\n",
       "      <th>volume_data_cyc</th>\n",
       "      <th>volume_data_veh</th>\n",
       "      <th>centerline_id2</th>\n",
       "      <th>fcode</th>\n",
       "      <th>posted_spd</th>\n",
       "      <th>road_type</th>\n",
       "      <th>posted_speed</th>\n",
       "      <th>num_of_lane</th>\n",
       "      <th>width</th>\n",
       "    </tr>\n",
       "  </thead>\n",
       "  <tbody>\n",
       "    <tr>\n",
       "      <th>17</th>\n",
       "      <td>17</td>\n",
       "      <td>325.0</td>\n",
       "      <td>2008</td>\n",
       "      <td>weekday</td>\n",
       "      <td>7</td>\n",
       "      <td>49</td>\n",
       "      <td>2008-01-01</td>\n",
       "      <td>740</td>\n",
       "      <td>BLOOR</td>\n",
       "      <td>ST</td>\n",
       "      <td>...</td>\n",
       "      <td>436.0</td>\n",
       "      <td>72.0</td>\n",
       "      <td>2520.0</td>\n",
       "      <td>10865133.0</td>\n",
       "      <td>201200.0</td>\n",
       "      <td>40.0</td>\n",
       "      <td>Major Arterial Road</td>\n",
       "      <td>40.0</td>\n",
       "      <td>4.0</td>\n",
       "      <td>12.8</td>\n",
       "    </tr>\n",
       "    <tr>\n",
       "      <th>22</th>\n",
       "      <td>22</td>\n",
       "      <td>1356.0</td>\n",
       "      <td>2008</td>\n",
       "      <td>weekday</td>\n",
       "      <td>11</td>\n",
       "      <td>72</td>\n",
       "      <td>2008-01-01</td>\n",
       "      <td>1110</td>\n",
       "      <td>MCCOWAN</td>\n",
       "      <td>RD</td>\n",
       "      <td>...</td>\n",
       "      <td>77.0</td>\n",
       "      <td>NaN</td>\n",
       "      <td>2630.0</td>\n",
       "      <td>107897.0</td>\n",
       "      <td>201200.0</td>\n",
       "      <td>60.0</td>\n",
       "      <td>Major Arterial Road</td>\n",
       "      <td>60.0</td>\n",
       "      <td>6.0</td>\n",
       "      <td>23.2</td>\n",
       "    </tr>\n",
       "  </tbody>\n",
       "</table>\n",
       "<p>2 rows × 43 columns</p>\n",
       "</div>"
      ],
      "text/plain": [
       "    Unnamed: 0      px  year day_of_week  hour  collision_id collision_date  \\\n",
       "17          17   325.0  2008     weekday     7            49     2008-01-01   \n",
       "22          22  1356.0  2008     weekday    11            72     2008-01-01   \n",
       "\n",
       "    collision_time street_1 street_type_1  ...  volume_data_ped  \\\n",
       "17             740    BLOOR            ST  ...            436.0   \n",
       "22            1110  MCCOWAN            RD  ...             77.0   \n",
       "\n",
       "   volume_data_cyc volume_data_veh centerline_id2     fcode  posted_spd  \\\n",
       "17            72.0          2520.0     10865133.0  201200.0        40.0   \n",
       "22             NaN          2630.0       107897.0  201200.0        60.0   \n",
       "\n",
       "              road_type posted_speed num_of_lane width  \n",
       "17  Major Arterial Road         40.0         4.0  12.8  \n",
       "22  Major Arterial Road         60.0         6.0  23.2  \n",
       "\n",
       "[2 rows x 43 columns]"
      ]
     },
     "execution_count": 59,
     "metadata": {},
     "output_type": "execute_result"
    }
   ],
   "source": [
    "#mapping number of lanes and lane with to collision_events\n",
    "collision_events['num_of_lane']=collision_events['centerline_id'].map(lane_count_dict_num)\n",
    "collision_events['width']=collision_events['centerline_id'].map(lane_count_dict_width)\n",
    "collision_events.head(2)"
   ]
  },
  {
   "cell_type": "code",
   "execution_count": 60,
   "metadata": {},
   "outputs": [],
   "source": [
    "#setting 0 values to NA\n",
    "collision_events.loc[collision_events['num_of_lane']==0, 'num_of_lane']=float('nan')\n",
    "collision_events.loc[collision_events['width']==0, 'width']=float('nan')"
   ]
  },
  {
   "cell_type": "code",
   "execution_count": 61,
   "metadata": {},
   "outputs": [],
   "source": [
    "#generate new feature called lane_width\n",
    "collision_events['lane_width']=collision_events['width']/collision_events['num_of_lane']"
   ]
  },
  {
   "cell_type": "code",
   "execution_count": 62,
   "metadata": {
    "scrolled": true
   },
   "outputs": [
    {
     "data": {
      "text/html": [
       "<div>\n",
       "<style scoped>\n",
       "    .dataframe tbody tr th:only-of-type {\n",
       "        vertical-align: middle;\n",
       "    }\n",
       "\n",
       "    .dataframe tbody tr th {\n",
       "        vertical-align: top;\n",
       "    }\n",
       "\n",
       "    .dataframe thead th {\n",
       "        text-align: right;\n",
       "    }\n",
       "</style>\n",
       "<table border=\"1\" class=\"dataframe\">\n",
       "  <thead>\n",
       "    <tr style=\"text-align: right;\">\n",
       "      <th></th>\n",
       "      <th>Unnamed: 0</th>\n",
       "      <th>px</th>\n",
       "      <th>year</th>\n",
       "      <th>hour</th>\n",
       "      <th>collision_id</th>\n",
       "      <th>collision_time</th>\n",
       "      <th>street_type_3</th>\n",
       "      <th>direction_3</th>\n",
       "      <th>longitude</th>\n",
       "      <th>latitude</th>\n",
       "      <th>...</th>\n",
       "      <th>volume_data_ped</th>\n",
       "      <th>volume_data_cyc</th>\n",
       "      <th>volume_data_veh</th>\n",
       "      <th>centerline_id2</th>\n",
       "      <th>fcode</th>\n",
       "      <th>posted_spd</th>\n",
       "      <th>posted_speed</th>\n",
       "      <th>num_of_lane</th>\n",
       "      <th>width</th>\n",
       "      <th>lane_width</th>\n",
       "    </tr>\n",
       "  </thead>\n",
       "  <tbody>\n",
       "    <tr>\n",
       "      <th>count</th>\n",
       "      <td>45359.000000</td>\n",
       "      <td>23937.000000</td>\n",
       "      <td>45359.000000</td>\n",
       "      <td>45359.000000</td>\n",
       "      <td>45359.000000</td>\n",
       "      <td>45359.000000</td>\n",
       "      <td>0.0</td>\n",
       "      <td>0.0</td>\n",
       "      <td>45359.000000</td>\n",
       "      <td>45359.000000</td>\n",
       "      <td>...</td>\n",
       "      <td>23820.000000</td>\n",
       "      <td>15167.000000</td>\n",
       "      <td>45359.000000</td>\n",
       "      <td>2.393700e+04</td>\n",
       "      <td>45265.000000</td>\n",
       "      <td>43080.000000</td>\n",
       "      <td>43218.000000</td>\n",
       "      <td>41219.000000</td>\n",
       "      <td>41249.000000</td>\n",
       "      <td>41219.000000</td>\n",
       "    </tr>\n",
       "    <tr>\n",
       "      <th>mean</th>\n",
       "      <td>230108.986331</td>\n",
       "      <td>771.320508</td>\n",
       "      <td>2012.194074</td>\n",
       "      <td>13.014969</td>\n",
       "      <td>227800.526004</td>\n",
       "      <td>1326.125135</td>\n",
       "      <td>NaN</td>\n",
       "      <td>NaN</td>\n",
       "      <td>-79.387995</td>\n",
       "      <td>43.717801</td>\n",
       "      <td>...</td>\n",
       "      <td>441.835799</td>\n",
       "      <td>39.221202</td>\n",
       "      <td>2157.069179</td>\n",
       "      <td>6.627936e+06</td>\n",
       "      <td>201220.355065</td>\n",
       "      <td>64.723538</td>\n",
       "      <td>64.232681</td>\n",
       "      <td>3.784590</td>\n",
       "      <td>14.930021</td>\n",
       "      <td>4.097286</td>\n",
       "    </tr>\n",
       "    <tr>\n",
       "      <th>std</th>\n",
       "      <td>138560.821828</td>\n",
       "      <td>553.157945</td>\n",
       "      <td>2.838832</td>\n",
       "      <td>4.291422</td>\n",
       "      <td>137091.897967</td>\n",
       "      <td>428.573424</td>\n",
       "      <td>NaN</td>\n",
       "      <td>NaN</td>\n",
       "      <td>0.093737</td>\n",
       "      <td>0.055404</td>\n",
       "      <td>...</td>\n",
       "      <td>836.842785</td>\n",
       "      <td>73.533406</td>\n",
       "      <td>1527.298923</td>\n",
       "      <td>7.084909e+06</td>\n",
       "      <td>196.854175</td>\n",
       "      <td>197.340644</td>\n",
       "      <td>191.373091</td>\n",
       "      <td>1.363737</td>\n",
       "      <td>5.640336</td>\n",
       "      <td>1.031561</td>\n",
       "    </tr>\n",
       "    <tr>\n",
       "      <th>min</th>\n",
       "      <td>17.000000</td>\n",
       "      <td>2.000000</td>\n",
       "      <td>2008.000000</td>\n",
       "      <td>0.000000</td>\n",
       "      <td>11.000000</td>\n",
       "      <td>0.000000</td>\n",
       "      <td>NaN</td>\n",
       "      <td>NaN</td>\n",
       "      <td>-79.639558</td>\n",
       "      <td>43.590992</td>\n",
       "      <td>...</td>\n",
       "      <td>4.000000</td>\n",
       "      <td>4.000000</td>\n",
       "      <td>0.000000</td>\n",
       "      <td>2.700000e+02</td>\n",
       "      <td>201100.000000</td>\n",
       "      <td>30.000000</td>\n",
       "      <td>0.000000</td>\n",
       "      <td>1.000000</td>\n",
       "      <td>2.440000</td>\n",
       "      <td>0.935000</td>\n",
       "    </tr>\n",
       "    <tr>\n",
       "      <th>25%</th>\n",
       "      <td>103359.000000</td>\n",
       "      <td>334.000000</td>\n",
       "      <td>2010.000000</td>\n",
       "      <td>9.000000</td>\n",
       "      <td>111442.500000</td>\n",
       "      <td>945.000000</td>\n",
       "      <td>NaN</td>\n",
       "      <td>NaN</td>\n",
       "      <td>-79.448590</td>\n",
       "      <td>43.668100</td>\n",
       "      <td>...</td>\n",
       "      <td>74.000000</td>\n",
       "      <td>5.333333</td>\n",
       "      <td>885.666667</td>\n",
       "      <td>9.065510e+05</td>\n",
       "      <td>201200.000000</td>\n",
       "      <td>50.000000</td>\n",
       "      <td>50.000000</td>\n",
       "      <td>3.000000</td>\n",
       "      <td>11.000000</td>\n",
       "      <td>3.656667</td>\n",
       "    </tr>\n",
       "    <tr>\n",
       "      <th>50%</th>\n",
       "      <td>225540.000000</td>\n",
       "      <td>665.000000</td>\n",
       "      <td>2012.000000</td>\n",
       "      <td>13.000000</td>\n",
       "      <td>214100.000000</td>\n",
       "      <td>1350.000000</td>\n",
       "      <td>NaN</td>\n",
       "      <td>NaN</td>\n",
       "      <td>-79.385012</td>\n",
       "      <td>43.721729</td>\n",
       "      <td>...</td>\n",
       "      <td>178.000000</td>\n",
       "      <td>12.000000</td>\n",
       "      <td>1922.000000</td>\n",
       "      <td>5.868170e+06</td>\n",
       "      <td>201200.000000</td>\n",
       "      <td>50.000000</td>\n",
       "      <td>50.000000</td>\n",
       "      <td>4.000000</td>\n",
       "      <td>15.200000</td>\n",
       "      <td>3.966667</td>\n",
       "    </tr>\n",
       "    <tr>\n",
       "      <th>75%</th>\n",
       "      <td>345325.500000</td>\n",
       "      <td>1162.000000</td>\n",
       "      <td>2015.000000</td>\n",
       "      <td>16.000000</td>\n",
       "      <td>346795.500000</td>\n",
       "      <td>1650.000000</td>\n",
       "      <td>NaN</td>\n",
       "      <td>NaN</td>\n",
       "      <td>-79.329703</td>\n",
       "      <td>43.763700</td>\n",
       "      <td>...</td>\n",
       "      <td>429.000000</td>\n",
       "      <td>37.000000</td>\n",
       "      <td>3195.000000</td>\n",
       "      <td>1.014496e+07</td>\n",
       "      <td>201200.000000</td>\n",
       "      <td>60.000000</td>\n",
       "      <td>60.000000</td>\n",
       "      <td>4.000000</td>\n",
       "      <td>18.300000</td>\n",
       "      <td>4.550000</td>\n",
       "    </tr>\n",
       "    <tr>\n",
       "      <th>max</th>\n",
       "      <td>486690.000000</td>\n",
       "      <td>3009.000000</td>\n",
       "      <td>2017.000000</td>\n",
       "      <td>23.000000</td>\n",
       "      <td>486668.000000</td>\n",
       "      <td>2359.000000</td>\n",
       "      <td>NaN</td>\n",
       "      <td>NaN</td>\n",
       "      <td>-79.129449</td>\n",
       "      <td>43.853500</td>\n",
       "      <td>...</td>\n",
       "      <td>13359.000000</td>\n",
       "      <td>1214.000000</td>\n",
       "      <td>9946.000000</td>\n",
       "      <td>3.011319e+07</td>\n",
       "      <td>207001.000000</td>\n",
       "      <td>6080.000000</td>\n",
       "      <td>6080.000000</td>\n",
       "      <td>6.000000</td>\n",
       "      <td>31.800000</td>\n",
       "      <td>14.000000</td>\n",
       "    </tr>\n",
       "  </tbody>\n",
       "</table>\n",
       "<p>8 rows × 24 columns</p>\n",
       "</div>"
      ],
      "text/plain": [
       "          Unnamed: 0            px          year          hour   collision_id  \\\n",
       "count   45359.000000  23937.000000  45359.000000  45359.000000   45359.000000   \n",
       "mean   230108.986331    771.320508   2012.194074     13.014969  227800.526004   \n",
       "std    138560.821828    553.157945      2.838832      4.291422  137091.897967   \n",
       "min        17.000000      2.000000   2008.000000      0.000000      11.000000   \n",
       "25%    103359.000000    334.000000   2010.000000      9.000000  111442.500000   \n",
       "50%    225540.000000    665.000000   2012.000000     13.000000  214100.000000   \n",
       "75%    345325.500000   1162.000000   2015.000000     16.000000  346795.500000   \n",
       "max    486690.000000   3009.000000   2017.000000     23.000000  486668.000000   \n",
       "\n",
       "       collision_time  street_type_3  direction_3     longitude      latitude  \\\n",
       "count    45359.000000            0.0          0.0  45359.000000  45359.000000   \n",
       "mean      1326.125135            NaN          NaN    -79.387995     43.717801   \n",
       "std        428.573424            NaN          NaN      0.093737      0.055404   \n",
       "min          0.000000            NaN          NaN    -79.639558     43.590992   \n",
       "25%        945.000000            NaN          NaN    -79.448590     43.668100   \n",
       "50%       1350.000000            NaN          NaN    -79.385012     43.721729   \n",
       "75%       1650.000000            NaN          NaN    -79.329703     43.763700   \n",
       "max       2359.000000            NaN          NaN    -79.129449     43.853500   \n",
       "\n",
       "           ...       volume_data_ped  volume_data_cyc  volume_data_veh  \\\n",
       "count      ...          23820.000000     15167.000000     45359.000000   \n",
       "mean       ...            441.835799        39.221202      2157.069179   \n",
       "std        ...            836.842785        73.533406      1527.298923   \n",
       "min        ...              4.000000         4.000000         0.000000   \n",
       "25%        ...             74.000000         5.333333       885.666667   \n",
       "50%        ...            178.000000        12.000000      1922.000000   \n",
       "75%        ...            429.000000        37.000000      3195.000000   \n",
       "max        ...          13359.000000      1214.000000      9946.000000   \n",
       "\n",
       "       centerline_id2          fcode    posted_spd  posted_speed  \\\n",
       "count    2.393700e+04   45265.000000  43080.000000  43218.000000   \n",
       "mean     6.627936e+06  201220.355065     64.723538     64.232681   \n",
       "std      7.084909e+06     196.854175    197.340644    191.373091   \n",
       "min      2.700000e+02  201100.000000     30.000000      0.000000   \n",
       "25%      9.065510e+05  201200.000000     50.000000     50.000000   \n",
       "50%      5.868170e+06  201200.000000     50.000000     50.000000   \n",
       "75%      1.014496e+07  201200.000000     60.000000     60.000000   \n",
       "max      3.011319e+07  207001.000000   6080.000000   6080.000000   \n",
       "\n",
       "        num_of_lane         width    lane_width  \n",
       "count  41219.000000  41249.000000  41219.000000  \n",
       "mean       3.784590     14.930021      4.097286  \n",
       "std        1.363737      5.640336      1.031561  \n",
       "min        1.000000      2.440000      0.935000  \n",
       "25%        3.000000     11.000000      3.656667  \n",
       "50%        4.000000     15.200000      3.966667  \n",
       "75%        4.000000     18.300000      4.550000  \n",
       "max        6.000000     31.800000     14.000000  \n",
       "\n",
       "[8 rows x 24 columns]"
      ]
     },
     "execution_count": 62,
     "metadata": {},
     "output_type": "execute_result"
    }
   ],
   "source": [
    "collision_events.describe()"
   ]
  },
  {
   "cell_type": "markdown",
   "metadata": {},
   "source": [
    "#### <u><a name=\"D1.3.6\">1.3.6 Fixing Weird Posted Speed Values</a></u>\n",
    "\n",
    "\n",
    "Some road identifed by a single centerline_id might have 2 posted speed limits, this is because that road has two posted speed limit in two different directions. In this case, both speeds are written here. This is adjusted by taking the average of the two speeds."
   ]
  },
  {
   "cell_type": "code",
   "execution_count": 63,
   "metadata": {},
   "outputs": [
    {
     "data": {
      "text/plain": [
       "array([4.00e+01, 6.00e+01, 5.00e+01, 3.00e+01, 7.00e+01,      nan,\n",
       "       4.05e+03, 8.00e+01, 0.00e+00, 6.00e+00, 5.00e+00, 5.90e+01,\n",
       "       1.00e+02, 9.00e+01, 1.00e+01, 4.00e+00, 6.08e+03, 9.00e+00,\n",
       "       2.40e+01, 2.00e+01, 3.00e+00])"
      ]
     },
     "execution_count": 63,
     "metadata": {},
     "output_type": "execute_result"
    }
   ],
   "source": [
    "collision_events.posted_speed.unique()"
   ]
  },
  {
   "cell_type": "code",
   "execution_count": 64,
   "metadata": {},
   "outputs": [],
   "source": [
    "collision_events['posted_speed']=collision_events['posted_speed'].apply(lambda x: 45 if x==4050 else (70 if x ==6080 else x))"
   ]
  },
  {
   "cell_type": "code",
   "execution_count": 65,
   "metadata": {},
   "outputs": [
    {
     "data": {
      "text/plain": [
       "array([ 40.,  60.,  50.,  30.,  70.,  nan,  45.,  80.,   0.,   6.,   5.,\n",
       "        59., 100.,  90.,  10.,   4.,   9.,  24.,  20.,   3.])"
      ]
     },
     "execution_count": 65,
     "metadata": {},
     "output_type": "execute_result"
    }
   ],
   "source": [
    "collision_events.posted_speed.unique()"
   ]
  },
  {
   "cell_type": "markdown",
   "metadata": {},
   "source": [
    "#### <u><a name=\"D1.3.7\">1.3.7 Enter \"At Intersection\" for the road_type for accident that occured at intersection</a></u>\n"
   ]
  },
  {
   "cell_type": "code",
   "execution_count": 66,
   "metadata": {},
   "outputs": [],
   "source": [
    "collision_events.loc[collision_events['location_class']=='AT INTERSECTION', 'road_type']='AT INTERSECTION'"
   ]
  },
  {
   "cell_type": "code",
   "execution_count": 67,
   "metadata": {},
   "outputs": [
    {
     "data": {
      "text/plain": [
       "Index(['Unnamed: 0', 'px', 'year', 'day_of_week', 'hour', 'collision_id',\n",
       "       'collision_date', 'collision_time', 'street_1', 'street_type_1',\n",
       "       'direction_1', 'street_2', 'street_type_2', 'direction_2', 'street_3',\n",
       "       'street_type_3', 'direction_3', 'location_class', 'location_desc',\n",
       "       'collision_type', 'impact_type', 'road_class', 'visibility', 'light',\n",
       "       'road_surface_cond', 'longitude', 'latitude', 'centerline_id', 'day',\n",
       "       'vehicles_involved', 'pedestrians_involved', 'cyclists_involved',\n",
       "       'volume_id', 'volume_data_ped', 'volume_data_cyc', 'volume_data_veh',\n",
       "       'centerline_id2', 'fcode', 'posted_spd', 'road_type', 'posted_speed',\n",
       "       'num_of_lane', 'width', 'lane_width'],\n",
       "      dtype='object')"
      ]
     },
     "execution_count": 67,
     "metadata": {},
     "output_type": "execute_result"
    }
   ],
   "source": [
    "collision_events.columns"
   ]
  },
  {
   "cell_type": "code",
   "execution_count": 68,
   "metadata": {},
   "outputs": [],
   "source": [
    "ndrop=['px', 'year', 'day_of_week', 'hour', 'collision_id', 'collision_date',\n",
    "       'collision_time',  'visibility', 'light', 'road_surface_cond',\n",
    "       'longitude', 'latitude', 'centerline_id', 'day','volume_data_veh','road_type',\n",
    "       'posted_speed','num_of_lane','lane_width'] #what we are keeping\n",
    "drop=list(collision_events)\n",
    "for x in ndrop:\n",
    "    drop.remove(x)\n",
    "collision_events_drop=collision_events.drop(columns=drop)"
   ]
  },
  {
   "cell_type": "markdown",
   "metadata": {},
   "source": [
    "### <u><a name=\"D1.4\">1.4 Generating Negative Samples</a></u>\n"
   ]
  },
  {
   "cell_type": "markdown",
   "metadata": {},
   "source": [
    "The goal of this analysis is to predict whether an accident will occur nor not. The provided dataset only includes data entries of collision events, i.e. positive samples. To predict whether an accident happens, negative samples are requires to make this prediction.\n",
    "\n",
    "The negative samples are generated by random sampling method. In short, a random number generater randomly set of values for each of the features, then checks whether this set of features already makes up a positive sample. If not, then this set of randomly generated features becomes a negative sample."
   ]
  },
  {
   "cell_type": "markdown",
   "metadata": {},
   "source": [
    "#### <u><a name=\"D1.4.1\">1.4.1 Creating Location Lookup Tables</a></u>\n"
   ]
  },
  {
   "cell_type": "code",
   "execution_count": 69,
   "metadata": {},
   "outputs": [],
   "source": [
    "centerline=pd.read_csv('toronto_centerline.csv', low_memory=False)\n",
    "traffic_signals=pd.read_csv('traffic_signals.csv', low_memory=False)\n",
    "speed_limit=pd.read_csv('posted_speed_limits.csv', low_memory=False)"
   ]
  },
  {
   "cell_type": "code",
   "execution_count": 70,
   "metadata": {
    "scrolled": true
   },
   "outputs": [
    {
     "data": {
      "text/html": [
       "<div>\n",
       "<style scoped>\n",
       "    .dataframe tbody tr th:only-of-type {\n",
       "        vertical-align: middle;\n",
       "    }\n",
       "\n",
       "    .dataframe tbody tr th {\n",
       "        vertical-align: top;\n",
       "    }\n",
       "\n",
       "    .dataframe thead th {\n",
       "        text-align: right;\n",
       "    }\n",
       "</style>\n",
       "<table border=\"1\" class=\"dataframe\">\n",
       "  <thead>\n",
       "    <tr style=\"text-align: right;\">\n",
       "      <th></th>\n",
       "      <th>GEO_ID</th>\n",
       "      <th>LFN_ID</th>\n",
       "      <th>LF_NAME</th>\n",
       "      <th>ADDRESS_L</th>\n",
       "      <th>ADDRESS_R</th>\n",
       "      <th>OE_FLAG_L</th>\n",
       "      <th>OE_FLAG_R</th>\n",
       "      <th>LONUML</th>\n",
       "      <th>HINUML</th>\n",
       "      <th>LONUMR</th>\n",
       "      <th>HINUMR</th>\n",
       "      <th>FNODE</th>\n",
       "      <th>TNODE</th>\n",
       "      <th>FCODE</th>\n",
       "      <th>FCODE_DESC</th>\n",
       "      <th>JURIS_CODE</th>\n",
       "      <th>OBJECTID</th>\n",
       "    </tr>\n",
       "  </thead>\n",
       "  <tbody>\n",
       "    <tr>\n",
       "      <th>0</th>\n",
       "      <td>30079678</td>\n",
       "      <td>19155</td>\n",
       "      <td>Waterfront Trl</td>\n",
       "      <td>NaN</td>\n",
       "      <td>NaN</td>\n",
       "      <td>N</td>\n",
       "      <td>N</td>\n",
       "      <td>0</td>\n",
       "      <td>0</td>\n",
       "      <td>0</td>\n",
       "      <td>0</td>\n",
       "      <td>30079676</td>\n",
       "      <td>30079656</td>\n",
       "      <td>204001</td>\n",
       "      <td>Trail</td>\n",
       "      <td>CITY OF TORONTO</td>\n",
       "      <td>189008</td>\n",
       "    </tr>\n",
       "    <tr>\n",
       "      <th>1</th>\n",
       "      <td>30079680</td>\n",
       "      <td>19166</td>\n",
       "      <td>Marie Curtis Park Trl</td>\n",
       "      <td>NaN</td>\n",
       "      <td>NaN</td>\n",
       "      <td>N</td>\n",
       "      <td>N</td>\n",
       "      <td>0</td>\n",
       "      <td>0</td>\n",
       "      <td>0</td>\n",
       "      <td>0</td>\n",
       "      <td>30079676</td>\n",
       "      <td>30079679</td>\n",
       "      <td>204001</td>\n",
       "      <td>Trail</td>\n",
       "      <td>CITY OF TORONTO</td>\n",
       "      <td>189011</td>\n",
       "    </tr>\n",
       "    <tr>\n",
       "      <th>2</th>\n",
       "      <td>30079677</td>\n",
       "      <td>19155</td>\n",
       "      <td>Waterfront Trl</td>\n",
       "      <td>NaN</td>\n",
       "      <td>NaN</td>\n",
       "      <td>N</td>\n",
       "      <td>N</td>\n",
       "      <td>0</td>\n",
       "      <td>0</td>\n",
       "      <td>0</td>\n",
       "      <td>0</td>\n",
       "      <td>30008708</td>\n",
       "      <td>30079676</td>\n",
       "      <td>204001</td>\n",
       "      <td>Trail</td>\n",
       "      <td>CITY OF TORONTO</td>\n",
       "      <td>189009</td>\n",
       "    </tr>\n",
       "    <tr>\n",
       "      <th>3</th>\n",
       "      <td>30082310</td>\n",
       "      <td>10685</td>\n",
       "      <td>Island Rd</td>\n",
       "      <td>NaN</td>\n",
       "      <td>NaN</td>\n",
       "      <td>N</td>\n",
       "      <td>N</td>\n",
       "      <td>0</td>\n",
       "      <td>0</td>\n",
       "      <td>0</td>\n",
       "      <td>0</td>\n",
       "      <td>30008708</td>\n",
       "      <td>30082309</td>\n",
       "      <td>201600</td>\n",
       "      <td>Other</td>\n",
       "      <td>PRIVATE</td>\n",
       "      <td>191750</td>\n",
       "    </tr>\n",
       "    <tr>\n",
       "      <th>4</th>\n",
       "      <td>30008940</td>\n",
       "      <td>19155</td>\n",
       "      <td>Waterfront Trl</td>\n",
       "      <td>NaN</td>\n",
       "      <td>NaN</td>\n",
       "      <td>N</td>\n",
       "      <td>N</td>\n",
       "      <td>0</td>\n",
       "      <td>0</td>\n",
       "      <td>0</td>\n",
       "      <td>0</td>\n",
       "      <td>30008711</td>\n",
       "      <td>30008708</td>\n",
       "      <td>204001</td>\n",
       "      <td>Trail</td>\n",
       "      <td>CITY OF TORONTO</td>\n",
       "      <td>56495</td>\n",
       "    </tr>\n",
       "  </tbody>\n",
       "</table>\n",
       "</div>"
      ],
      "text/plain": [
       "     GEO_ID  LFN_ID                LF_NAME ADDRESS_L ADDRESS_R OE_FLAG_L  \\\n",
       "0  30079678   19155         Waterfront Trl       NaN       NaN         N   \n",
       "1  30079680   19166  Marie Curtis Park Trl       NaN       NaN         N   \n",
       "2  30079677   19155         Waterfront Trl       NaN       NaN         N   \n",
       "3  30082310   10685              Island Rd       NaN       NaN         N   \n",
       "4  30008940   19155         Waterfront Trl       NaN       NaN         N   \n",
       "\n",
       "  OE_FLAG_R  LONUML  HINUML  LONUMR  HINUMR     FNODE     TNODE   FCODE  \\\n",
       "0         N       0       0       0       0  30079676  30079656  204001   \n",
       "1         N       0       0       0       0  30079676  30079679  204001   \n",
       "2         N       0       0       0       0  30008708  30079676  204001   \n",
       "3         N       0       0       0       0  30008708  30082309  201600   \n",
       "4         N       0       0       0       0  30008711  30008708  204001   \n",
       "\n",
       "  FCODE_DESC       JURIS_CODE  OBJECTID  \n",
       "0      Trail  CITY OF TORONTO    189008  \n",
       "1      Trail  CITY OF TORONTO    189011  \n",
       "2      Trail  CITY OF TORONTO    189009  \n",
       "3      Other          PRIVATE    191750  \n",
       "4      Trail  CITY OF TORONTO     56495  "
      ]
     },
     "execution_count": 70,
     "metadata": {},
     "output_type": "execute_result"
    }
   ],
   "source": [
    "centerline.head()"
   ]
  },
  {
   "cell_type": "code",
   "execution_count": 71,
   "metadata": {
    "scrolled": true
   },
   "outputs": [
    {
     "data": {
      "text/html": [
       "<div>\n",
       "<style scoped>\n",
       "    .dataframe tbody tr th:only-of-type {\n",
       "        vertical-align: middle;\n",
       "    }\n",
       "\n",
       "    .dataframe tbody tr th {\n",
       "        vertical-align: top;\n",
       "    }\n",
       "\n",
       "    .dataframe thead th {\n",
       "        text-align: right;\n",
       "    }\n",
       "</style>\n",
       "<table border=\"1\" class=\"dataframe\">\n",
       "  <thead>\n",
       "    <tr style=\"text-align: right;\">\n",
       "      <th></th>\n",
       "      <th>X</th>\n",
       "      <th>Y</th>\n",
       "      <th>GEO_ID</th>\n",
       "    </tr>\n",
       "  </thead>\n",
       "  <tbody>\n",
       "    <tr>\n",
       "      <th>66</th>\n",
       "      <td>-79.544044</td>\n",
       "      <td>43.582207</td>\n",
       "      <td>30079678</td>\n",
       "    </tr>\n",
       "    <tr>\n",
       "      <th>78</th>\n",
       "      <td>-79.545192</td>\n",
       "      <td>43.585924</td>\n",
       "      <td>30079680</td>\n",
       "    </tr>\n",
       "    <tr>\n",
       "      <th>85</th>\n",
       "      <td>-79.544779</td>\n",
       "      <td>43.585829</td>\n",
       "      <td>30079677</td>\n",
       "    </tr>\n",
       "    <tr>\n",
       "      <th>107</th>\n",
       "      <td>-79.543264</td>\n",
       "      <td>43.584971</td>\n",
       "      <td>30082310</td>\n",
       "    </tr>\n",
       "    <tr>\n",
       "      <th>123</th>\n",
       "      <td>-79.544542</td>\n",
       "      <td>43.586109</td>\n",
       "      <td>30008940</td>\n",
       "    </tr>\n",
       "  </tbody>\n",
       "</table>\n",
       "</div>"
      ],
      "text/plain": [
       "             X          Y    GEO_ID\n",
       "66  -79.544044  43.582207  30079678\n",
       "78  -79.545192  43.585924  30079680\n",
       "85  -79.544779  43.585829  30079677\n",
       "107 -79.543264  43.584971  30082310\n",
       "123 -79.544542  43.586109  30008940"
      ]
     },
     "execution_count": 71,
     "metadata": {},
     "output_type": "execute_result"
    }
   ],
   "source": [
    "centerline_gps=pd.read_csv('centerline.csv')\n",
    "centerline_gps=centerline_gps.drop(['Unnamed: 0'],axis=1)\n",
    "\n",
    "centerline_gps=centerline_gps.drop_duplicates(subset='GEO_ID', keep=\"last\")\n",
    "centerline_gps.head()"
   ]
  },
  {
   "cell_type": "code",
   "execution_count": 72,
   "metadata": {},
   "outputs": [],
   "source": [
    "tmc_traffic=pd.read_csv('volume_count_tmc.csv')\n",
    "atr_traffic=pd.read_csv('volume_count_atr.csv')"
   ]
  },
  {
   "cell_type": "code",
   "execution_count": 73,
   "metadata": {
    "scrolled": true
   },
   "outputs": [
    {
     "data": {
      "text/html": [
       "<div>\n",
       "<style scoped>\n",
       "    .dataframe tbody tr th:only-of-type {\n",
       "        vertical-align: middle;\n",
       "    }\n",
       "\n",
       "    .dataframe tbody tr th {\n",
       "        vertical-align: top;\n",
       "    }\n",
       "\n",
       "    .dataframe thead th {\n",
       "        text-align: right;\n",
       "    }\n",
       "</style>\n",
       "<table border=\"1\" class=\"dataframe\">\n",
       "  <thead>\n",
       "    <tr style=\"text-align: right;\">\n",
       "      <th></th>\n",
       "      <th>px</th>\n",
       "      <th>year</th>\n",
       "      <th>day_of_week</th>\n",
       "      <th>hour</th>\n",
       "      <th>class_type</th>\n",
       "      <th>avg_volume_per_hour</th>\n",
       "    </tr>\n",
       "  </thead>\n",
       "  <tbody>\n",
       "    <tr>\n",
       "      <th>0</th>\n",
       "      <td>2</td>\n",
       "      <td>1984</td>\n",
       "      <td>weekday</td>\n",
       "      <td>7</td>\n",
       "      <td>Pedestrians</td>\n",
       "      <td>190.0</td>\n",
       "    </tr>\n",
       "    <tr>\n",
       "      <th>1</th>\n",
       "      <td>2</td>\n",
       "      <td>1984</td>\n",
       "      <td>weekday</td>\n",
       "      <td>8</td>\n",
       "      <td>Pedestrians</td>\n",
       "      <td>347.0</td>\n",
       "    </tr>\n",
       "    <tr>\n",
       "      <th>2</th>\n",
       "      <td>2</td>\n",
       "      <td>1984</td>\n",
       "      <td>weekday</td>\n",
       "      <td>9</td>\n",
       "      <td>Pedestrians</td>\n",
       "      <td>344.0</td>\n",
       "    </tr>\n",
       "    <tr>\n",
       "      <th>3</th>\n",
       "      <td>2</td>\n",
       "      <td>1984</td>\n",
       "      <td>weekday</td>\n",
       "      <td>10</td>\n",
       "      <td>Pedestrians</td>\n",
       "      <td>254.0</td>\n",
       "    </tr>\n",
       "    <tr>\n",
       "      <th>4</th>\n",
       "      <td>2</td>\n",
       "      <td>1984</td>\n",
       "      <td>weekday</td>\n",
       "      <td>11</td>\n",
       "      <td>Pedestrians</td>\n",
       "      <td>351.0</td>\n",
       "    </tr>\n",
       "  </tbody>\n",
       "</table>\n",
       "</div>"
      ],
      "text/plain": [
       "   px  year day_of_week  hour   class_type  avg_volume_per_hour\n",
       "0   2  1984     weekday     7  Pedestrians                190.0\n",
       "1   2  1984     weekday     8  Pedestrians                347.0\n",
       "2   2  1984     weekday     9  Pedestrians                344.0\n",
       "3   2  1984     weekday    10  Pedestrians                254.0\n",
       "4   2  1984     weekday    11  Pedestrians                351.0"
      ]
     },
     "execution_count": 73,
     "metadata": {},
     "output_type": "execute_result"
    }
   ],
   "source": [
    "tmc_traffic.head()"
   ]
  },
  {
   "cell_type": "markdown",
   "metadata": {},
   "source": [
    "##### <u><a name=\"D1.4.1.1\">1.4.1.1 Match Centerline ID to PX based on Traffic Signal Dataset</a></u>\n"
   ]
  },
  {
   "cell_type": "markdown",
   "metadata": {},
   "source": [
    "The traffic signal dataset correlates *px* to a *centerline_id* (also called GEO_ID). Using this dataset, intersections can now be associated to a road. This is necessary because useful road features such as posted speed limit, and type of road is associated with only centerline_id. This matching allows intersections to be related to those features."
   ]
  },
  {
   "cell_type": "code",
   "execution_count": 74,
   "metadata": {},
   "outputs": [
    {
     "data": {
      "text/plain": [
       "0"
      ]
     },
     "execution_count": 74,
     "metadata": {},
     "output_type": "execute_result"
    }
   ],
   "source": [
    "#dropping non-relevant columns. \n",
    "ndrop=['PX','Geo ID'] #the columns that we are keeping\n",
    "drop=list(traffic_signals)\n",
    "for x in ndrop:\n",
    "    drop.remove(x)\n",
    "signal_drop=traffic_signals.drop(columns=drop)\n",
    "signal_drop.columns = ['px', 'centerline_id']\n",
    "\n",
    "#creating a dictionary for the px to map centerline_id\n",
    "signal_drop=signal_drop.set_index('px')\n",
    "signal_dict=signal_drop.to_dict()['centerline_id']\n",
    "\n",
    "#mapping centerline_id to intersection traffic volume dataset\n",
    "tmc_traffic['centerline_id']=tmc_traffic['px'].map(signal_dict)\n",
    "\n",
    "#checking for rows that doesn't have any centerline_id\n",
    "len(tmc_traffic[tmc_traffic.centerline_id.isna()])"
   ]
  },
  {
   "cell_type": "markdown",
   "metadata": {},
   "source": [
    "##### <u><a name=\"D1.4.1.2\">1.4.1.2 Match Road Type, Posted Speed to Centerline ID</a></u>\n"
   ]
  },
  {
   "cell_type": "code",
   "execution_count": 75,
   "metadata": {},
   "outputs": [],
   "source": [
    "#FOR ROAD TYPE, dropping non-relevant columns. FCODE is a code for the road type.\n",
    "ndrop=['GEO_ID','FCODE']\n",
    "drop=list(centerline)\n",
    "for x in ndrop:\n",
    "    drop.remove(x)\n",
    "centerline_drop=centerline.drop(columns=drop)\n",
    "centerline_drop.columns = ['centerline_id', 'fcode']"
   ]
  },
  {
   "cell_type": "code",
   "execution_count": 76,
   "metadata": {},
   "outputs": [],
   "source": [
    "#FOR SPEED LIMIT, dropping non-relevant columns. FCODE is a code for the road type.\n",
    "ndrop=['GEO_ID','POSTED_SPE']\n",
    "drop=list(speed_limit)\n",
    "for x in ndrop:\n",
    "    drop.remove(x)\n",
    "speed_limit_drop=speed_limit.drop(columns=drop)\n",
    "speed_limit_drop.columns = ['centerline_id', 'posted_spd']"
   ]
  },
  {
   "cell_type": "code",
   "execution_count": 77,
   "metadata": {},
   "outputs": [],
   "source": [
    "#creating dictionary for matching road type and posted speed limit based on centerline_id\n",
    "centerline_dict = centerline_drop.set_index(['centerline_id']).to_dict()['fcode']\n",
    "speed_limit_dict=speed_limit_drop.set_index(['centerline_id']).to_dict()['posted_spd']\n",
    "\n",
    "#creating dictionary for mapping gps locations to centerline_id\n",
    "gps_dict_lat=centerline_gps.set_index(['GEO_ID']).to_dict()['Y']\n",
    "gps_dict_long=centerline_gps.set_index(['GEO_ID']).to_dict()['X']"
   ]
  },
  {
   "cell_type": "code",
   "execution_count": 78,
   "metadata": {},
   "outputs": [],
   "source": [
    "#mapping road type, posted speed, and gps coordinates to intersection traffic volume count\n",
    "tmc_traffic['fcode']=tmc_traffic['centerline_id'].map(centerline_dict)\n",
    "tmc_traffic['posted_spd']=tmc_traffic['centerline_id'].map(speed_limit_dict)\n",
    "tmc_traffic['latitude']=tmc_traffic['centerline_id'].map(gps_dict_lat)\n",
    "tmc_traffic['longitude']=tmc_traffic['centerline_id'].map(gps_dict_long)"
   ]
  },
  {
   "cell_type": "code",
   "execution_count": 79,
   "metadata": {},
   "outputs": [],
   "source": [
    "#mapping road type, posted speed, and gps coordinates to road traffic volume count\n",
    "atr_traffic['fcode']=atr_traffic['centreline_id'].map(centerline_dict)\n",
    "atr_traffic['posted_spd']=atr_traffic['centreline_id'].map(speed_limit_dict)\n",
    "atr_traffic['latitude']=atr_traffic['centreline_id'].map(gps_dict_lat)\n",
    "atr_traffic['longitude']=atr_traffic['centreline_id'].map(gps_dict_long)"
   ]
  },
  {
   "cell_type": "code",
   "execution_count": 80,
   "metadata": {},
   "outputs": [],
   "source": [
    "# mapping the road code to the corresponding road type\n",
    "fcode_map={\n",
    "201100:'Highway',\n",
    "201101:'Highway Ramp',\n",
    "201200:'Major Arterial Road',\n",
    "201201:'Major Arterial Road Ramp',\n",
    "201300:'Minor Arterial Road',\n",
    "201301:'Minor Arterial Road Ramp',\n",
    "201400:'Collector Road',\n",
    "201401:'Collector Road Ramp',\n",
    "201500:'Local Road',\n",
    "201600:'Other Road',\n",
    "201601:'Other Ramp',\n",
    "201700:'Laneways',\n",
    "201800:'Pending',\n",
    "201803:'Access Road',\n",
    "201801:'Busway',\n",
    "202001:'Major Railway',\n",
    "202002:'Minor Railway',\n",
    "202003:'Railway under construction/proposed',\n",
    "203001:'River',\n",
    "203002:'Creek/Tributary',\n",
    "204001:'Trail',\n",
    "204002:'Walkway',\n",
    "205001:'Hydro Line',\n",
    "206001:'Major Shoreline',\n",
    "206002:'Minor Shoreline (Land locked)',\n",
    "207001:'Geostatistical line'\n",
    "}\n",
    "\n",
    "tmc_traffic['road_type']=tmc_traffic['fcode'].map(fcode_map)\n",
    "atr_traffic['road_type']=atr_traffic['fcode'].map(fcode_map)"
   ]
  },
  {
   "cell_type": "code",
   "execution_count": 81,
   "metadata": {},
   "outputs": [
    {
     "data": {
      "text/html": [
       "<div>\n",
       "<style scoped>\n",
       "    .dataframe tbody tr th:only-of-type {\n",
       "        vertical-align: middle;\n",
       "    }\n",
       "\n",
       "    .dataframe tbody tr th {\n",
       "        vertical-align: top;\n",
       "    }\n",
       "\n",
       "    .dataframe thead th {\n",
       "        text-align: right;\n",
       "    }\n",
       "</style>\n",
       "<table border=\"1\" class=\"dataframe\">\n",
       "  <thead>\n",
       "    <tr style=\"text-align: right;\">\n",
       "      <th></th>\n",
       "      <th>px</th>\n",
       "      <th>year</th>\n",
       "      <th>day_of_week</th>\n",
       "      <th>hour</th>\n",
       "      <th>class_type</th>\n",
       "      <th>avg_volume_per_hour</th>\n",
       "      <th>centerline_id</th>\n",
       "      <th>fcode</th>\n",
       "      <th>posted_spd</th>\n",
       "      <th>latitude</th>\n",
       "      <th>longitude</th>\n",
       "      <th>road_type</th>\n",
       "    </tr>\n",
       "  </thead>\n",
       "  <tbody>\n",
       "    <tr>\n",
       "      <th>0</th>\n",
       "      <td>2</td>\n",
       "      <td>1984</td>\n",
       "      <td>weekday</td>\n",
       "      <td>7</td>\n",
       "      <td>Pedestrians</td>\n",
       "      <td>190.0</td>\n",
       "      <td>11075761</td>\n",
       "      <td>201300.0</td>\n",
       "      <td>40.0</td>\n",
       "      <td>43.64945</td>\n",
       "      <td>-79.371465</td>\n",
       "      <td>Minor Arterial Road</td>\n",
       "    </tr>\n",
       "    <tr>\n",
       "      <th>1</th>\n",
       "      <td>2</td>\n",
       "      <td>1984</td>\n",
       "      <td>weekday</td>\n",
       "      <td>8</td>\n",
       "      <td>Pedestrians</td>\n",
       "      <td>347.0</td>\n",
       "      <td>11075761</td>\n",
       "      <td>201300.0</td>\n",
       "      <td>40.0</td>\n",
       "      <td>43.64945</td>\n",
       "      <td>-79.371465</td>\n",
       "      <td>Minor Arterial Road</td>\n",
       "    </tr>\n",
       "    <tr>\n",
       "      <th>2</th>\n",
       "      <td>2</td>\n",
       "      <td>1984</td>\n",
       "      <td>weekday</td>\n",
       "      <td>9</td>\n",
       "      <td>Pedestrians</td>\n",
       "      <td>344.0</td>\n",
       "      <td>11075761</td>\n",
       "      <td>201300.0</td>\n",
       "      <td>40.0</td>\n",
       "      <td>43.64945</td>\n",
       "      <td>-79.371465</td>\n",
       "      <td>Minor Arterial Road</td>\n",
       "    </tr>\n",
       "    <tr>\n",
       "      <th>3</th>\n",
       "      <td>2</td>\n",
       "      <td>1984</td>\n",
       "      <td>weekday</td>\n",
       "      <td>10</td>\n",
       "      <td>Pedestrians</td>\n",
       "      <td>254.0</td>\n",
       "      <td>11075761</td>\n",
       "      <td>201300.0</td>\n",
       "      <td>40.0</td>\n",
       "      <td>43.64945</td>\n",
       "      <td>-79.371465</td>\n",
       "      <td>Minor Arterial Road</td>\n",
       "    </tr>\n",
       "    <tr>\n",
       "      <th>4</th>\n",
       "      <td>2</td>\n",
       "      <td>1984</td>\n",
       "      <td>weekday</td>\n",
       "      <td>11</td>\n",
       "      <td>Pedestrians</td>\n",
       "      <td>351.0</td>\n",
       "      <td>11075761</td>\n",
       "      <td>201300.0</td>\n",
       "      <td>40.0</td>\n",
       "      <td>43.64945</td>\n",
       "      <td>-79.371465</td>\n",
       "      <td>Minor Arterial Road</td>\n",
       "    </tr>\n",
       "  </tbody>\n",
       "</table>\n",
       "</div>"
      ],
      "text/plain": [
       "   px  year day_of_week  hour   class_type  avg_volume_per_hour  \\\n",
       "0   2  1984     weekday     7  Pedestrians                190.0   \n",
       "1   2  1984     weekday     8  Pedestrians                347.0   \n",
       "2   2  1984     weekday     9  Pedestrians                344.0   \n",
       "3   2  1984     weekday    10  Pedestrians                254.0   \n",
       "4   2  1984     weekday    11  Pedestrians                351.0   \n",
       "\n",
       "   centerline_id     fcode  posted_spd  latitude  longitude  \\\n",
       "0       11075761  201300.0        40.0  43.64945 -79.371465   \n",
       "1       11075761  201300.0        40.0  43.64945 -79.371465   \n",
       "2       11075761  201300.0        40.0  43.64945 -79.371465   \n",
       "3       11075761  201300.0        40.0  43.64945 -79.371465   \n",
       "4       11075761  201300.0        40.0  43.64945 -79.371465   \n",
       "\n",
       "             road_type  \n",
       "0  Minor Arterial Road  \n",
       "1  Minor Arterial Road  \n",
       "2  Minor Arterial Road  \n",
       "3  Minor Arterial Road  \n",
       "4  Minor Arterial Road  "
      ]
     },
     "execution_count": 81,
     "metadata": {},
     "output_type": "execute_result"
    }
   ],
   "source": [
    "tmc_traffic.head()"
   ]
  },
  {
   "cell_type": "code",
   "execution_count": 82,
   "metadata": {
    "scrolled": true
   },
   "outputs": [
    {
     "data": {
      "text/html": [
       "<div>\n",
       "<style scoped>\n",
       "    .dataframe tbody tr th:only-of-type {\n",
       "        vertical-align: middle;\n",
       "    }\n",
       "\n",
       "    .dataframe tbody tr th {\n",
       "        vertical-align: top;\n",
       "    }\n",
       "\n",
       "    .dataframe thead th {\n",
       "        text-align: right;\n",
       "    }\n",
       "</style>\n",
       "<table border=\"1\" class=\"dataframe\">\n",
       "  <thead>\n",
       "    <tr style=\"text-align: right;\">\n",
       "      <th></th>\n",
       "      <th>centreline_id</th>\n",
       "      <th>year</th>\n",
       "      <th>day_of_week</th>\n",
       "      <th>hour</th>\n",
       "      <th>class_type</th>\n",
       "      <th>avg_volume_per_hour</th>\n",
       "      <th>fcode</th>\n",
       "      <th>posted_spd</th>\n",
       "      <th>latitude</th>\n",
       "      <th>longitude</th>\n",
       "      <th>road_type</th>\n",
       "    </tr>\n",
       "  </thead>\n",
       "  <tbody>\n",
       "    <tr>\n",
       "      <th>0</th>\n",
       "      <td>117.0</td>\n",
       "      <td>2001.0</td>\n",
       "      <td>weekday</td>\n",
       "      <td>0.0</td>\n",
       "      <td>Vehicles</td>\n",
       "      <td>11.000000</td>\n",
       "      <td>201500.0</td>\n",
       "      <td>40.0</td>\n",
       "      <td>43.718205</td>\n",
       "      <td>-79.367974</td>\n",
       "      <td>Local Road</td>\n",
       "    </tr>\n",
       "    <tr>\n",
       "      <th>1</th>\n",
       "      <td>117.0</td>\n",
       "      <td>2001.0</td>\n",
       "      <td>weekday</td>\n",
       "      <td>1.0</td>\n",
       "      <td>Vehicles</td>\n",
       "      <td>4.333333</td>\n",
       "      <td>201500.0</td>\n",
       "      <td>40.0</td>\n",
       "      <td>43.718205</td>\n",
       "      <td>-79.367974</td>\n",
       "      <td>Local Road</td>\n",
       "    </tr>\n",
       "    <tr>\n",
       "      <th>2</th>\n",
       "      <td>117.0</td>\n",
       "      <td>2001.0</td>\n",
       "      <td>weekday</td>\n",
       "      <td>2.0</td>\n",
       "      <td>Vehicles</td>\n",
       "      <td>1.333333</td>\n",
       "      <td>201500.0</td>\n",
       "      <td>40.0</td>\n",
       "      <td>43.718205</td>\n",
       "      <td>-79.367974</td>\n",
       "      <td>Local Road</td>\n",
       "    </tr>\n",
       "    <tr>\n",
       "      <th>3</th>\n",
       "      <td>117.0</td>\n",
       "      <td>2001.0</td>\n",
       "      <td>weekday</td>\n",
       "      <td>3.0</td>\n",
       "      <td>Vehicles</td>\n",
       "      <td>2.333333</td>\n",
       "      <td>201500.0</td>\n",
       "      <td>40.0</td>\n",
       "      <td>43.718205</td>\n",
       "      <td>-79.367974</td>\n",
       "      <td>Local Road</td>\n",
       "    </tr>\n",
       "    <tr>\n",
       "      <th>4</th>\n",
       "      <td>117.0</td>\n",
       "      <td>2001.0</td>\n",
       "      <td>weekday</td>\n",
       "      <td>4.0</td>\n",
       "      <td>Vehicles</td>\n",
       "      <td>4.666667</td>\n",
       "      <td>201500.0</td>\n",
       "      <td>40.0</td>\n",
       "      <td>43.718205</td>\n",
       "      <td>-79.367974</td>\n",
       "      <td>Local Road</td>\n",
       "    </tr>\n",
       "  </tbody>\n",
       "</table>\n",
       "</div>"
      ],
      "text/plain": [
       "   centreline_id    year day_of_week  hour class_type  avg_volume_per_hour  \\\n",
       "0          117.0  2001.0     weekday   0.0   Vehicles            11.000000   \n",
       "1          117.0  2001.0     weekday   1.0   Vehicles             4.333333   \n",
       "2          117.0  2001.0     weekday   2.0   Vehicles             1.333333   \n",
       "3          117.0  2001.0     weekday   3.0   Vehicles             2.333333   \n",
       "4          117.0  2001.0     weekday   4.0   Vehicles             4.666667   \n",
       "\n",
       "      fcode  posted_spd   latitude  longitude   road_type  \n",
       "0  201500.0        40.0  43.718205 -79.367974  Local Road  \n",
       "1  201500.0        40.0  43.718205 -79.367974  Local Road  \n",
       "2  201500.0        40.0  43.718205 -79.367974  Local Road  \n",
       "3  201500.0        40.0  43.718205 -79.367974  Local Road  \n",
       "4  201500.0        40.0  43.718205 -79.367974  Local Road  "
      ]
     },
     "execution_count": 82,
     "metadata": {},
     "output_type": "execute_result"
    }
   ],
   "source": [
    "atr_traffic.head()"
   ]
  },
  {
   "cell_type": "markdown",
   "metadata": {},
   "source": [
    "##### <u><a name=\"D1.4.1.3\">1.4.1.3 Matching Lane Number to Centerline</a></u>"
   ]
  },
  {
   "cell_type": "code",
   "execution_count": 83,
   "metadata": {},
   "outputs": [],
   "source": [
    "lane_count=pd.read_csv('centerline_lane.csv')"
   ]
  },
  {
   "cell_type": "code",
   "execution_count": 84,
   "metadata": {},
   "outputs": [
    {
     "data": {
      "text/html": [
       "<div>\n",
       "<style scoped>\n",
       "    .dataframe tbody tr th:only-of-type {\n",
       "        vertical-align: middle;\n",
       "    }\n",
       "\n",
       "    .dataframe tbody tr th {\n",
       "        vertical-align: top;\n",
       "    }\n",
       "\n",
       "    .dataframe thead th {\n",
       "        text-align: right;\n",
       "    }\n",
       "</style>\n",
       "<table border=\"1\" class=\"dataframe\">\n",
       "  <thead>\n",
       "    <tr style=\"text-align: right;\">\n",
       "      <th></th>\n",
       "      <th>OBJECTID</th>\n",
       "      <th>GEO_ID</th>\n",
       "      <th>LF_NAME</th>\n",
       "      <th>MAR13RC201</th>\n",
       "      <th>MAR13RC2_1</th>\n",
       "      <th>MAR13RC2_2</th>\n",
       "      <th>MAR13RC2_3</th>\n",
       "      <th>MAR13RC2_4</th>\n",
       "      <th>SECTION_ID</th>\n",
       "      <th>GIS_ROUTE</th>\n",
       "      <th>Length</th>\n",
       "      <th>NetworkCla</th>\n",
       "      <th>StructureT</th>\n",
       "      <th>NumberofLa</th>\n",
       "      <th>Width</th>\n",
       "      <th>FromStreet</th>\n",
       "      <th>ToStreet</th>\n",
       "      <th>SHAPE_Leng</th>\n",
       "    </tr>\n",
       "  </thead>\n",
       "  <tbody>\n",
       "    <tr>\n",
       "      <th>0</th>\n",
       "      <td>1</td>\n",
       "      <td>7585679</td>\n",
       "      <td>LAKE SHORE BLVD W</td>\n",
       "      <td>201200</td>\n",
       "      <td>Major Arterial</td>\n",
       "      <td>201200</td>\n",
       "      <td>Major Arterial</td>\n",
       "      <td>CITY</td>\n",
       "      <td>002-21</td>\n",
       "      <td>100710.0</td>\n",
       "      <td>1832.0</td>\n",
       "      <td>Pavement</td>\n",
       "      <td>Street</td>\n",
       "      <td>4.0</td>\n",
       "      <td>19.5</td>\n",
       "      <td>KIPLING AVE</td>\n",
       "      <td>BROWN'S LINE</td>\n",
       "      <td>135.053958</td>\n",
       "    </tr>\n",
       "    <tr>\n",
       "      <th>1</th>\n",
       "      <td>2</td>\n",
       "      <td>7586931</td>\n",
       "      <td>LAKE SHORE BLVD W</td>\n",
       "      <td>201200</td>\n",
       "      <td>Major Arterial</td>\n",
       "      <td>201200</td>\n",
       "      <td>Major Arterial</td>\n",
       "      <td>CITY</td>\n",
       "      <td>002-21</td>\n",
       "      <td>100710.0</td>\n",
       "      <td>1832.0</td>\n",
       "      <td>Pavement</td>\n",
       "      <td>Street</td>\n",
       "      <td>4.0</td>\n",
       "      <td>19.5</td>\n",
       "      <td>KIPLING AVE</td>\n",
       "      <td>BROWN'S LINE</td>\n",
       "      <td>136.955245</td>\n",
       "    </tr>\n",
       "    <tr>\n",
       "      <th>2</th>\n",
       "      <td>3</td>\n",
       "      <td>20035304</td>\n",
       "      <td>CENTENNIAL RD</td>\n",
       "      <td>201500</td>\n",
       "      <td>Local</td>\n",
       "      <td>201500</td>\n",
       "      <td>Local</td>\n",
       "      <td>CITY</td>\n",
       "      <td>DD0010</td>\n",
       "      <td>80747.0</td>\n",
       "      <td>442.0</td>\n",
       "      <td>Pavement</td>\n",
       "      <td>Street</td>\n",
       "      <td>2.0</td>\n",
       "      <td>9.7</td>\n",
       "      <td>[343 m S] LAWERNCE AVE E [END]</td>\n",
       "      <td>LAWRENCE AVE E</td>\n",
       "      <td>21.414794</td>\n",
       "    </tr>\n",
       "    <tr>\n",
       "      <th>3</th>\n",
       "      <td>4</td>\n",
       "      <td>914709</td>\n",
       "      <td>LAKE SHORE BLVD W</td>\n",
       "      <td>201200</td>\n",
       "      <td>Major Arterial</td>\n",
       "      <td>201200</td>\n",
       "      <td>Major Arterial</td>\n",
       "      <td>CITY</td>\n",
       "      <td>002-21</td>\n",
       "      <td>100710.0</td>\n",
       "      <td>1832.0</td>\n",
       "      <td>Pavement</td>\n",
       "      <td>Street</td>\n",
       "      <td>4.0</td>\n",
       "      <td>19.5</td>\n",
       "      <td>KIPLING AVE</td>\n",
       "      <td>BROWN'S LINE</td>\n",
       "      <td>119.138817</td>\n",
       "    </tr>\n",
       "    <tr>\n",
       "      <th>4</th>\n",
       "      <td>5</td>\n",
       "      <td>9109207</td>\n",
       "      <td>LAKE SHORE BLVD W</td>\n",
       "      <td>201200</td>\n",
       "      <td>Major Arterial</td>\n",
       "      <td>201200</td>\n",
       "      <td>Major Arterial</td>\n",
       "      <td>CITY</td>\n",
       "      <td>002-21</td>\n",
       "      <td>100710.0</td>\n",
       "      <td>1832.0</td>\n",
       "      <td>Pavement</td>\n",
       "      <td>Street</td>\n",
       "      <td>4.0</td>\n",
       "      <td>19.5</td>\n",
       "      <td>KIPLING AVE</td>\n",
       "      <td>BROWN'S LINE</td>\n",
       "      <td>57.720086</td>\n",
       "    </tr>\n",
       "  </tbody>\n",
       "</table>\n",
       "</div>"
      ],
      "text/plain": [
       "   OBJECTID    GEO_ID            LF_NAME  MAR13RC201      MAR13RC2_1  \\\n",
       "0         1   7585679  LAKE SHORE BLVD W      201200  Major Arterial   \n",
       "1         2   7586931  LAKE SHORE BLVD W      201200  Major Arterial   \n",
       "2         3  20035304      CENTENNIAL RD      201500           Local   \n",
       "3         4    914709  LAKE SHORE BLVD W      201200  Major Arterial   \n",
       "4         5   9109207  LAKE SHORE BLVD W      201200  Major Arterial   \n",
       "\n",
       "   MAR13RC2_2      MAR13RC2_3 MAR13RC2_4 SECTION_ID  GIS_ROUTE  Length  \\\n",
       "0      201200  Major Arterial       CITY     002-21   100710.0  1832.0   \n",
       "1      201200  Major Arterial       CITY     002-21   100710.0  1832.0   \n",
       "2      201500           Local       CITY     DD0010    80747.0   442.0   \n",
       "3      201200  Major Arterial       CITY     002-21   100710.0  1832.0   \n",
       "4      201200  Major Arterial       CITY     002-21   100710.0  1832.0   \n",
       "\n",
       "  NetworkCla StructureT  NumberofLa  Width                      FromStreet  \\\n",
       "0   Pavement     Street         4.0   19.5                     KIPLING AVE   \n",
       "1   Pavement     Street         4.0   19.5                     KIPLING AVE   \n",
       "2   Pavement     Street         2.0    9.7  [343 m S] LAWERNCE AVE E [END]   \n",
       "3   Pavement     Street         4.0   19.5                     KIPLING AVE   \n",
       "4   Pavement     Street         4.0   19.5                     KIPLING AVE   \n",
       "\n",
       "         ToStreet  SHAPE_Leng  \n",
       "0    BROWN'S LINE  135.053958  \n",
       "1    BROWN'S LINE  136.955245  \n",
       "2  LAWRENCE AVE E   21.414794  \n",
       "3    BROWN'S LINE  119.138817  \n",
       "4    BROWN'S LINE   57.720086  "
      ]
     },
     "execution_count": 84,
     "metadata": {},
     "output_type": "execute_result"
    }
   ],
   "source": [
    "lane_count.head()"
   ]
  },
  {
   "cell_type": "code",
   "execution_count": 85,
   "metadata": {},
   "outputs": [],
   "source": [
    "ndrop=['GEO_ID','NumberofLa','Width']\n",
    "drop=list(lane_count)\n",
    "for x in ndrop:\n",
    "    drop.remove(x)\n",
    "lane_count_drop=lane_count.drop(columns=drop)\n",
    "lane_count_drop.columns=['centerline_id','num_of_lane','width']"
   ]
  },
  {
   "cell_type": "code",
   "execution_count": 86,
   "metadata": {},
   "outputs": [
    {
     "data": {
      "text/html": [
       "<div>\n",
       "<style scoped>\n",
       "    .dataframe tbody tr th:only-of-type {\n",
       "        vertical-align: middle;\n",
       "    }\n",
       "\n",
       "    .dataframe tbody tr th {\n",
       "        vertical-align: top;\n",
       "    }\n",
       "\n",
       "    .dataframe thead th {\n",
       "        text-align: right;\n",
       "    }\n",
       "</style>\n",
       "<table border=\"1\" class=\"dataframe\">\n",
       "  <thead>\n",
       "    <tr style=\"text-align: right;\">\n",
       "      <th></th>\n",
       "      <th>num_of_lane</th>\n",
       "      <th>width</th>\n",
       "    </tr>\n",
       "    <tr>\n",
       "      <th>centerline_id</th>\n",
       "      <th></th>\n",
       "      <th></th>\n",
       "    </tr>\n",
       "  </thead>\n",
       "  <tbody>\n",
       "    <tr>\n",
       "      <th>7585679</th>\n",
       "      <td>4.0</td>\n",
       "      <td>19.5</td>\n",
       "    </tr>\n",
       "    <tr>\n",
       "      <th>7586931</th>\n",
       "      <td>4.0</td>\n",
       "      <td>19.5</td>\n",
       "    </tr>\n",
       "    <tr>\n",
       "      <th>20035304</th>\n",
       "      <td>2.0</td>\n",
       "      <td>9.7</td>\n",
       "    </tr>\n",
       "    <tr>\n",
       "      <th>914709</th>\n",
       "      <td>4.0</td>\n",
       "      <td>19.5</td>\n",
       "    </tr>\n",
       "    <tr>\n",
       "      <th>9109207</th>\n",
       "      <td>4.0</td>\n",
       "      <td>19.5</td>\n",
       "    </tr>\n",
       "  </tbody>\n",
       "</table>\n",
       "</div>"
      ],
      "text/plain": [
       "               num_of_lane  width\n",
       "centerline_id                    \n",
       "7585679                4.0   19.5\n",
       "7586931                4.0   19.5\n",
       "20035304               2.0    9.7\n",
       "914709                 4.0   19.5\n",
       "9109207                4.0   19.5"
      ]
     },
     "execution_count": 86,
     "metadata": {},
     "output_type": "execute_result"
    }
   ],
   "source": [
    "lane_count_drop=lane_count_drop.set_index('centerline_id')\n",
    "lane_count_drop.head()"
   ]
  },
  {
   "cell_type": "code",
   "execution_count": 87,
   "metadata": {},
   "outputs": [],
   "source": [
    "#creating dictionary for mapping number of lanes and road width\n",
    "lane_count_dict_num=lane_count_drop.to_dict()['num_of_lane']\n",
    "lane_count_dict_width=lane_count_drop.to_dict()['width']"
   ]
  },
  {
   "cell_type": "code",
   "execution_count": 88,
   "metadata": {},
   "outputs": [],
   "source": [
    "#mapping intersection traffic volume with number of lanes and road width\n",
    "tmc_traffic['num_of_lane']=tmc_traffic['centerline_id'].map(lane_count_dict_num)\n",
    "tmc_traffic['width']=tmc_traffic['centerline_id'].map(lane_count_dict_width)"
   ]
  },
  {
   "cell_type": "code",
   "execution_count": 89,
   "metadata": {},
   "outputs": [],
   "source": [
    "#mapping road traffic volume with number of lanes and road width\n",
    "atr_traffic['num_of_lane']=atr_traffic['centreline_id'].map(lane_count_dict_num)\n",
    "atr_traffic['width']=atr_traffic['centreline_id'].map(lane_count_dict_width)"
   ]
  },
  {
   "cell_type": "code",
   "execution_count": 90,
   "metadata": {},
   "outputs": [],
   "source": [
    "#setting lane and road with that is zero to nan\n",
    "tmc_traffic.loc[tmc_traffic['num_of_lane']==0, 'num_of_lane']=float('nan')\n",
    "tmc_traffic.loc[tmc_traffic['width']==0, 'width']=float('nan')\n",
    "atr_traffic.loc[atr_traffic['num_of_lane']==0, 'num_of_lane']=float('nan')\n",
    "atr_traffic.loc[atr_traffic['width']==0, 'width']=float('nan')"
   ]
  },
  {
   "cell_type": "code",
   "execution_count": 91,
   "metadata": {},
   "outputs": [],
   "source": [
    "#generating new feature called lane width\n",
    "tmc_traffic['lane_width']=tmc_traffic['width']/tmc_traffic['num_of_lane']\n",
    "atr_traffic['lane_width']=atr_traffic['width']/atr_traffic['num_of_lane']"
   ]
  },
  {
   "cell_type": "markdown",
   "metadata": {},
   "source": [
    "##### <u><a name=\"D1.4.1.4\">1.4.1.4 Cleaning up Posted Speed</a></u>"
   ]
  },
  {
   "cell_type": "code",
   "execution_count": 92,
   "metadata": {},
   "outputs": [],
   "source": [
    "# setting all posted speed limit =1 to N/Add\n",
    "tmc_traffic['posted_spd']=tmc_traffic['posted_spd'].apply(lambda x: float('NaN') if x==1 else x)\n",
    "atr_traffic['posted_spd']=atr_traffic['posted_spd'].apply(lambda x: float('NaN') if x==1 else x)"
   ]
  },
  {
   "cell_type": "code",
   "execution_count": 93,
   "metadata": {},
   "outputs": [
    {
     "data": {
      "text/plain": [
       "array([  40.,   50.,   30.,   60.,   90.,   70., 3050., 4050.,   nan,\n",
       "         80., 5060.,  100., 3040., 2040., 6040., 6080.])"
      ]
     },
     "execution_count": 93,
     "metadata": {},
     "output_type": "execute_result"
    }
   ],
   "source": [
    "atr_traffic.posted_spd.unique()"
   ]
  },
  {
   "cell_type": "code",
   "execution_count": 94,
   "metadata": {},
   "outputs": [],
   "source": [
    "#cleaning up road traffic posted speed with the average posted speed \n",
    "atr_traffic['posted_spd']=atr_traffic['posted_spd'].apply(lambda x: 40 if (x==3050) else x)\n",
    "atr_traffic['posted_spd']=atr_traffic['posted_spd'].apply(lambda x: 50 if (x==4050) else x)\n",
    "atr_traffic['posted_spd']=atr_traffic['posted_spd'].apply(lambda x: 60 if (x==5060) else x)\n",
    "atr_traffic['posted_spd']=atr_traffic['posted_spd'].apply(lambda x: 40 if (x==3040) else x)\n",
    "atr_traffic['posted_spd']=atr_traffic['posted_spd'].apply(lambda x: 40 if (x==2040) else x)\n",
    "atr_traffic['posted_spd']=atr_traffic['posted_spd'].apply(lambda x: 50 if (x==6040) else x)\n",
    "atr_traffic['posted_spd']=atr_traffic['posted_spd'].apply(lambda x: 70 if (x==6080) else x)"
   ]
  },
  {
   "cell_type": "code",
   "execution_count": 95,
   "metadata": {},
   "outputs": [
    {
     "data": {
      "text/plain": [
       "array([  40.,   nan,   50.,   30.,   60., 4050.,   70.,   80.])"
      ]
     },
     "execution_count": 95,
     "metadata": {},
     "output_type": "execute_result"
    }
   ],
   "source": [
    "tmc_traffic.posted_spd.unique()"
   ]
  },
  {
   "cell_type": "code",
   "execution_count": 96,
   "metadata": {},
   "outputs": [],
   "source": [
    "#cleaning up intersection traffic posted speed with the average posted speed \n",
    "tmc_traffic['posted_spd']=tmc_traffic['posted_spd'].apply(lambda x: 50 if (x==4050) else x)"
   ]
  },
  {
   "cell_type": "code",
   "execution_count": 97,
   "metadata": {},
   "outputs": [],
   "source": [
    "#setting road type of intersection collision to AT INTERSECTION\n",
    "tmc_traffic.road_type=tmc_traffic.road_type.apply(lambda x: 'AT INTERSECTION')\n",
    "\n",
    "#dropping road type code and road width as they are not useful anymore\n",
    "tmc_traffic=tmc_traffic.drop(['fcode','width'], axis=1)\n",
    "atr_traffic=atr_traffic.drop(['fcode','width'], axis=1)"
   ]
  },
  {
   "cell_type": "markdown",
   "metadata": {},
   "source": [
    "##### <u><a name=\"D1.4.1.5\">1.4.1.5 Perform K-Clustering on the lookup table</a></u>\n",
    "\n",
    "Here K-Clustering is performed on the negative sample lookup table. K-clustering is performed here to connect the location and weather lookup table. It is assumed that the weather will be the same across a single cluster group. \n",
    "\n",
    "For example:\n",
    "1. If a negative sample was chosen to be in cluster 4.\n",
    "2. Then to get the weather info a specific date, we only need to find a positive sample in the same cluster \n",
    "3. It is assumed that the negative sample and positive sample have the same weather given that they occured on the same date, time division and cluster."
   ]
  },
  {
   "cell_type": "code",
   "execution_count": 98,
   "metadata": {},
   "outputs": [],
   "source": [
    "import numpy as np\n",
    "import matplotlib.pyplot as plt\n",
    "import matplotlib.cm as cm\n",
    "from sklearn.cluster import KMeans"
   ]
  },
  {
   "cell_type": "code",
   "execution_count": 99,
   "metadata": {},
   "outputs": [],
   "source": [
    "atr_traffic=atr_traffic.rename(index=str, columns={\"centreline_id\": \"centerline_id\"})"
   ]
  },
  {
   "cell_type": "code",
   "execution_count": 100,
   "metadata": {},
   "outputs": [
    {
     "name": "stdout",
     "output_type": "stream",
     "text": [
      "(965319, 12)\n",
      "(370895, 13)\n"
     ]
    }
   ],
   "source": [
    "print(atr_traffic.shape)\n",
    "print(tmc_traffic.shape)"
   ]
  },
  {
   "cell_type": "code",
   "execution_count": 101,
   "metadata": {},
   "outputs": [],
   "source": [
    "#combining road traffic and intersection traffic into one\n",
    "combined=pd.concat([atr_traffic, tmc_traffic])"
   ]
  },
  {
   "cell_type": "code",
   "execution_count": 102,
   "metadata": {
    "scrolled": false
   },
   "outputs": [
    {
     "name": "stdout",
     "output_type": "stream",
     "text": [
      "['avg_volume_per_hour' 'centerline_id' 'class_type' 'day_of_week' 'hour'\n",
      " 'lane_width' 'latitude' 'longitude' 'num_of_lane' 'posted_spd' 'px'\n",
      " 'road_type' 'year']\n",
      "(1336214, 13)\n"
     ]
    }
   ],
   "source": [
    "print(combined.columns.values)\n",
    "print(combined.shape)"
   ]
  },
  {
   "cell_type": "code",
   "execution_count": 103,
   "metadata": {},
   "outputs": [],
   "source": [
    "combined=combined.dropna(subset=['longitude','latitude'])"
   ]
  },
  {
   "cell_type": "markdown",
   "metadata": {},
   "source": [
    "Performing K-clustering on the lookup table. A cluster of 4 is choosen.\n",
    "Refer to <a href=\"#D1.4.2\">1.4.2 Creating Weather Lookup Table</a> for detailed explanation."
   ]
  },
  {
   "cell_type": "code",
   "execution_count": 104,
   "metadata": {
    "scrolled": false
   },
   "outputs": [
    {
     "data": {
      "text/plain": [
       "<matplotlib.collections.PathCollection at 0x7f6c6eda0080>"
      ]
     },
     "execution_count": 104,
     "metadata": {},
     "output_type": "execute_result"
    },
    {
     "data": {
      "image/png": "[encoded data removed]",
      "text/plain": [
       "<Figure size 1296x720 with 1 Axes>"
      ]
     },
     "metadata": {
      "needs_background": "light"
     },
     "output_type": "display_data"
    }
   ],
   "source": [
    "X=combined.loc[:,['longitude','latitude']].values\n",
    "\n",
    "plt.figure(figsize=(18,10))\n",
    "plt.scatter(X[:,0],X[:,1], s =10)"
   ]
  },
  {
   "cell_type": "code",
   "execution_count": 105,
   "metadata": {
    "scrolled": false
   },
   "outputs": [
    {
     "name": "stderr",
     "output_type": "stream",
     "text": [
      "'c' argument looks like a single numeric RGB or RGBA sequence, which should be avoided as value-mapping will have precedence in case its length matches with 'x' & 'y'.  Please use a 2-D array with a single row if you really want to specify the same RGB or RGBA value for all points.\n",
      "'c' argument looks like a single numeric RGB or RGBA sequence, which should be avoided as value-mapping will have precedence in case its length matches with 'x' & 'y'.  Please use a 2-D array with a single row if you really want to specify the same RGB or RGBA value for all points.\n",
      "'c' argument looks like a single numeric RGB or RGBA sequence, which should be avoided as value-mapping will have precedence in case its length matches with 'x' & 'y'.  Please use a 2-D array with a single row if you really want to specify the same RGB or RGBA value for all points.\n",
      "'c' argument looks like a single numeric RGB or RGBA sequence, which should be avoided as value-mapping will have precedence in case its length matches with 'x' & 'y'.  Please use a 2-D array with a single row if you really want to specify the same RGB or RGBA value for all points.\n"
     ]
    },
    {
     "data": {
      "image/png": "[encoded data removed]",
      "text/plain": [
       "<Figure size 1296x720 with 1 Axes>"
      ]
     },
     "metadata": {
      "needs_background": "light"
     },
     "output_type": "display_data"
    }
   ],
   "source": [
    "num_clusters = 4\n",
    "\n",
    "k_cluster = []\n",
    "k_grouping = []\n",
    "\n",
    "cycle = plt.get_cmap(\"gist_earth\")\n",
    "\n",
    "kmeans = KMeans(n_clusters = num_clusters, init = 'k-means++', max_iter = 300, n_init =11, random_state =0)\n",
    "y_kmeans = kmeans.fit_predict(X)\n",
    "plt.figure(figsize=(18,10))\n",
    "plt.title('K = 10')\n",
    "for i in range(num_clusters):\n",
    "    k_cluster = [kmeans.cluster_centers_[:,0], kmeans.cluster_centers_[:,1]]\n",
    "    plt.scatter(X[y_kmeans == i,0], X[y_kmeans == i,1], s=5, c=cycle(i*50), label = 'Cluster 1')\n",
    "    plt.scatter(kmeans.cluster_centers_[i,0], kmeans.cluster_centers_[i,1], s=500, c = 'red', marker = 'x', label = 'Centroids') \n",
    "\n",
    "plt.show()"
   ]
  },
  {
   "cell_type": "code",
   "execution_count": 106,
   "metadata": {},
   "outputs": [],
   "source": [
    "combined['cluster'] = pd.Series(y_kmeans, index=combined.index)"
   ]
  },
  {
   "cell_type": "code",
   "execution_count": 107,
   "metadata": {},
   "outputs": [
    {
     "data": {
      "text/plain": [
       "(-79.6, -79.2)"
      ]
     },
     "execution_count": 107,
     "metadata": {},
     "output_type": "execute_result"
    },
    {
     "data": {
      "image/png": "[encoded data removed]",
      "text/plain": [
       "<Figure size 720x360 with 1 Axes>"
      ]
     },
     "metadata": {
      "needs_background": "light"
     },
     "output_type": "display_data"
    }
   ],
   "source": [
    "# Plotting a Sample Cluster #54\n",
    "cluster_54 = combined[combined['cluster'] == 3]\n",
    "cluster_54_lat = cluster_54['latitude']\n",
    "cluster_54_long = cluster_54['longitude']\n",
    "plt.figure(figsize=(10,5))\n",
    "plt.scatter(cluster_54_long, cluster_54_lat)\n",
    "plt.ylim(43.6, 43.85)\n",
    "plt.xlim(-79.6, -79.2)"
   ]
  },
  {
   "cell_type": "code",
   "execution_count": 108,
   "metadata": {},
   "outputs": [],
   "source": [
    "combined.to_csv('_combined_lookup.csv')"
   ]
  },
  {
   "cell_type": "markdown",
   "metadata": {},
   "source": [
    "### <u><a name=\"D1.4.2\">1.4.2 Creating Weather Lookup Table</a></u>"
   ]
  },
  {
   "cell_type": "markdown",
   "metadata": {},
   "source": [
    "We wanted to use weather features as input to our model, i.e road_surface_condition and visibility, thus we needed to create a weather lookup table when generating negative samples. These two features can only be found through the original *Collisions - Involved* dataset, and there is not enough number of weather data points to allow the negative samples to be freely selected by any hour of the day, and any location. Therefore, we make the following assumptions:\n",
    "1. If a certain weather has occured at some location, this will likely to be true for a large portion of the city.\n",
    "2. If a certain weather has occured at some time, this will likely to be true for a large duration of the day.\n",
    "\n",
    "Based on the assumption above, we have clustered the location lookup table into 4 clusters, dividing the city of toronto into 4, and have divided the time of the day into 4 aswell, assuming that the most frequenly occured weather feature within a cluster, a time division and a day is true for the entire cluster, time division of that day.\n",
    "\n",
    "Finally, because the collision_events dataset is a subset of the location lookup table, we can map the cluster in the location lookup table to the collision_events dataset which gives the weather lookup table. This mapping ensures that the the different datasets have matching clusters."
   ]
  },
  {
   "cell_type": "code",
   "execution_count": 109,
   "metadata": {},
   "outputs": [],
   "source": [
    "collision_events=pd.read_csv('_collisions_events_processed_v4.csv')"
   ]
  },
  {
   "cell_type": "code",
   "execution_count": 110,
   "metadata": {},
   "outputs": [
    {
     "data": {
      "text/html": [
       "<div>\n",
       "<style scoped>\n",
       "    .dataframe tbody tr th:only-of-type {\n",
       "        vertical-align: middle;\n",
       "    }\n",
       "\n",
       "    .dataframe tbody tr th {\n",
       "        vertical-align: top;\n",
       "    }\n",
       "\n",
       "    .dataframe thead th {\n",
       "        text-align: right;\n",
       "    }\n",
       "</style>\n",
       "<table border=\"1\" class=\"dataframe\">\n",
       "  <thead>\n",
       "    <tr style=\"text-align: right;\">\n",
       "      <th></th>\n",
       "      <th>px</th>\n",
       "      <th>year</th>\n",
       "      <th>day_of_week</th>\n",
       "      <th>hour</th>\n",
       "      <th>collision_id</th>\n",
       "      <th>collision_date</th>\n",
       "      <th>collision_time</th>\n",
       "      <th>visibility</th>\n",
       "      <th>light</th>\n",
       "      <th>road_surface_cond</th>\n",
       "      <th>...</th>\n",
       "      <th>centerline_id</th>\n",
       "      <th>day</th>\n",
       "      <th>vehicles_involved</th>\n",
       "      <th>volume_data_veh</th>\n",
       "      <th>road_type</th>\n",
       "      <th>posted_speed</th>\n",
       "      <th>traffic_control</th>\n",
       "      <th>num_of_lane</th>\n",
       "      <th>lane_width</th>\n",
       "      <th>frequency</th>\n",
       "    </tr>\n",
       "  </thead>\n",
       "  <tbody>\n",
       "    <tr>\n",
       "      <th>0</th>\n",
       "      <td>325.0</td>\n",
       "      <td>2008</td>\n",
       "      <td>weekday</td>\n",
       "      <td>7</td>\n",
       "      <td>49</td>\n",
       "      <td>2008-01-01</td>\n",
       "      <td>740</td>\n",
       "      <td>SNOW</td>\n",
       "      <td>DAYLIGHT</td>\n",
       "      <td>WET</td>\n",
       "      <td>...</td>\n",
       "      <td>10865133.0</td>\n",
       "      <td>01-01</td>\n",
       "      <td>2.0</td>\n",
       "      <td>2520.0</td>\n",
       "      <td>AT INTERSECTION</td>\n",
       "      <td>40.0</td>\n",
       "      <td>TRAFFIC SIGNAL</td>\n",
       "      <td>4.0</td>\n",
       "      <td>3.200000</td>\n",
       "      <td>0.000794</td>\n",
       "    </tr>\n",
       "    <tr>\n",
       "      <th>1</th>\n",
       "      <td>1356.0</td>\n",
       "      <td>2008</td>\n",
       "      <td>weekday</td>\n",
       "      <td>11</td>\n",
       "      <td>72</td>\n",
       "      <td>2008-01-01</td>\n",
       "      <td>1110</td>\n",
       "      <td>SNOW</td>\n",
       "      <td>DAYLIGHT</td>\n",
       "      <td>SLUSH</td>\n",
       "      <td>...</td>\n",
       "      <td>107897.0</td>\n",
       "      <td>01-01</td>\n",
       "      <td>2.0</td>\n",
       "      <td>2630.0</td>\n",
       "      <td>AT INTERSECTION</td>\n",
       "      <td>60.0</td>\n",
       "      <td>TRAFFIC SIGNAL</td>\n",
       "      <td>6.0</td>\n",
       "      <td>3.866667</td>\n",
       "      <td>0.000760</td>\n",
       "    </tr>\n",
       "    <tr>\n",
       "      <th>2</th>\n",
       "      <td>1363.0</td>\n",
       "      <td>2008</td>\n",
       "      <td>weekday</td>\n",
       "      <td>14</td>\n",
       "      <td>92</td>\n",
       "      <td>2008-01-01</td>\n",
       "      <td>1434</td>\n",
       "      <td>CLEAR</td>\n",
       "      <td>DAYLIGHT</td>\n",
       "      <td>LOOSE SNOW</td>\n",
       "      <td>...</td>\n",
       "      <td>103265.0</td>\n",
       "      <td>01-01</td>\n",
       "      <td>4.0</td>\n",
       "      <td>3325.0</td>\n",
       "      <td>AT INTERSECTION</td>\n",
       "      <td>60.0</td>\n",
       "      <td>TRAFFIC SIGNAL</td>\n",
       "      <td>6.0</td>\n",
       "      <td>3.716667</td>\n",
       "      <td>0.001203</td>\n",
       "    </tr>\n",
       "    <tr>\n",
       "      <th>3</th>\n",
       "      <td>397.0</td>\n",
       "      <td>2008</td>\n",
       "      <td>weekday</td>\n",
       "      <td>17</td>\n",
       "      <td>108</td>\n",
       "      <td>2008-01-01</td>\n",
       "      <td>1700</td>\n",
       "      <td>CLEAR</td>\n",
       "      <td>DUSK</td>\n",
       "      <td>DRY</td>\n",
       "      <td>...</td>\n",
       "      <td>7423543.0</td>\n",
       "      <td>01-01</td>\n",
       "      <td>1.0</td>\n",
       "      <td>3135.0</td>\n",
       "      <td>Major Arterial Road</td>\n",
       "      <td>60.0</td>\n",
       "      <td>NO CONTROL</td>\n",
       "      <td>6.0</td>\n",
       "      <td>4.000000</td>\n",
       "      <td>0.000319</td>\n",
       "    </tr>\n",
       "    <tr>\n",
       "      <th>4</th>\n",
       "      <td>128.0</td>\n",
       "      <td>2008</td>\n",
       "      <td>weekday</td>\n",
       "      <td>8</td>\n",
       "      <td>135</td>\n",
       "      <td>2008-01-02</td>\n",
       "      <td>817</td>\n",
       "      <td>CLEAR</td>\n",
       "      <td>DAYLIGHT</td>\n",
       "      <td>WET</td>\n",
       "      <td>...</td>\n",
       "      <td>9011793.0</td>\n",
       "      <td>01-02</td>\n",
       "      <td>2.0</td>\n",
       "      <td>3852.0</td>\n",
       "      <td>Major Arterial Road</td>\n",
       "      <td>60.0</td>\n",
       "      <td>TRAFFIC SIGNAL</td>\n",
       "      <td>4.0</td>\n",
       "      <td>4.575000</td>\n",
       "      <td>0.000519</td>\n",
       "    </tr>\n",
       "  </tbody>\n",
       "</table>\n",
       "<p>5 rows × 22 columns</p>\n",
       "</div>"
      ],
      "text/plain": [
       "       px  year day_of_week  hour  collision_id collision_date  \\\n",
       "0   325.0  2008     weekday     7            49     2008-01-01   \n",
       "1  1356.0  2008     weekday    11            72     2008-01-01   \n",
       "2  1363.0  2008     weekday    14            92     2008-01-01   \n",
       "3   397.0  2008     weekday    17           108     2008-01-01   \n",
       "4   128.0  2008     weekday     8           135     2008-01-02   \n",
       "\n",
       "   collision_time visibility     light road_surface_cond    ...      \\\n",
       "0             740       SNOW  DAYLIGHT               WET    ...       \n",
       "1            1110       SNOW  DAYLIGHT             SLUSH    ...       \n",
       "2            1434      CLEAR  DAYLIGHT        LOOSE SNOW    ...       \n",
       "3            1700      CLEAR      DUSK               DRY    ...       \n",
       "4             817      CLEAR  DAYLIGHT               WET    ...       \n",
       "\n",
       "   centerline_id    day  vehicles_involved volume_data_veh  \\\n",
       "0     10865133.0  01-01                2.0          2520.0   \n",
       "1       107897.0  01-01                2.0          2630.0   \n",
       "2       103265.0  01-01                4.0          3325.0   \n",
       "3      7423543.0  01-01                1.0          3135.0   \n",
       "4      9011793.0  01-02                2.0          3852.0   \n",
       "\n",
       "             road_type  posted_speed traffic_control  num_of_lane lane_width  \\\n",
       "0      AT INTERSECTION          40.0  TRAFFIC SIGNAL          4.0   3.200000   \n",
       "1      AT INTERSECTION          60.0  TRAFFIC SIGNAL          6.0   3.866667   \n",
       "2      AT INTERSECTION          60.0  TRAFFIC SIGNAL          6.0   3.716667   \n",
       "3  Major Arterial Road          60.0      NO CONTROL          6.0   4.000000   \n",
       "4  Major Arterial Road          60.0  TRAFFIC SIGNAL          4.0   4.575000   \n",
       "\n",
       "   frequency  \n",
       "0   0.000794  \n",
       "1   0.000760  \n",
       "2   0.001203  \n",
       "3   0.000319  \n",
       "4   0.000519  \n",
       "\n",
       "[5 rows x 22 columns]"
      ]
     },
     "execution_count": 110,
     "metadata": {},
     "output_type": "execute_result"
    }
   ],
   "source": [
    "collision_events=collision_events.drop(['Unnamed: 0'],axis=1)\n",
    "collision_events.head()"
   ]
  },
  {
   "cell_type": "code",
   "execution_count": 111,
   "metadata": {},
   "outputs": [],
   "source": [
    "combined_lookup=pd.read_csv('_combined_lookup.csv')"
   ]
  },
  {
   "cell_type": "code",
   "execution_count": 112,
   "metadata": {},
   "outputs": [
    {
     "data": {
      "text/html": [
       "<div>\n",
       "<style scoped>\n",
       "    .dataframe tbody tr th:only-of-type {\n",
       "        vertical-align: middle;\n",
       "    }\n",
       "\n",
       "    .dataframe tbody tr th {\n",
       "        vertical-align: top;\n",
       "    }\n",
       "\n",
       "    .dataframe thead th {\n",
       "        text-align: right;\n",
       "    }\n",
       "</style>\n",
       "<table border=\"1\" class=\"dataframe\">\n",
       "  <thead>\n",
       "    <tr style=\"text-align: right;\">\n",
       "      <th></th>\n",
       "      <th>avg_volume_per_hour</th>\n",
       "      <th>centerline_id</th>\n",
       "      <th>class_type</th>\n",
       "      <th>day_of_week</th>\n",
       "      <th>hour</th>\n",
       "      <th>lane_width</th>\n",
       "      <th>latitude</th>\n",
       "      <th>longitude</th>\n",
       "      <th>num_of_lane</th>\n",
       "      <th>posted_spd</th>\n",
       "      <th>px</th>\n",
       "      <th>road_type</th>\n",
       "      <th>year</th>\n",
       "      <th>cluster</th>\n",
       "    </tr>\n",
       "  </thead>\n",
       "  <tbody>\n",
       "    <tr>\n",
       "      <th>0</th>\n",
       "      <td>11.000000</td>\n",
       "      <td>117.0</td>\n",
       "      <td>Vehicles</td>\n",
       "      <td>weekday</td>\n",
       "      <td>0.0</td>\n",
       "      <td>4.25</td>\n",
       "      <td>43.718205</td>\n",
       "      <td>-79.367974</td>\n",
       "      <td>2.0</td>\n",
       "      <td>40.0</td>\n",
       "      <td>NaN</td>\n",
       "      <td>Local Road</td>\n",
       "      <td>2001.0</td>\n",
       "      <td>2</td>\n",
       "    </tr>\n",
       "    <tr>\n",
       "      <th>1</th>\n",
       "      <td>4.333333</td>\n",
       "      <td>117.0</td>\n",
       "      <td>Vehicles</td>\n",
       "      <td>weekday</td>\n",
       "      <td>1.0</td>\n",
       "      <td>4.25</td>\n",
       "      <td>43.718205</td>\n",
       "      <td>-79.367974</td>\n",
       "      <td>2.0</td>\n",
       "      <td>40.0</td>\n",
       "      <td>NaN</td>\n",
       "      <td>Local Road</td>\n",
       "      <td>2001.0</td>\n",
       "      <td>2</td>\n",
       "    </tr>\n",
       "    <tr>\n",
       "      <th>2</th>\n",
       "      <td>1.333333</td>\n",
       "      <td>117.0</td>\n",
       "      <td>Vehicles</td>\n",
       "      <td>weekday</td>\n",
       "      <td>2.0</td>\n",
       "      <td>4.25</td>\n",
       "      <td>43.718205</td>\n",
       "      <td>-79.367974</td>\n",
       "      <td>2.0</td>\n",
       "      <td>40.0</td>\n",
       "      <td>NaN</td>\n",
       "      <td>Local Road</td>\n",
       "      <td>2001.0</td>\n",
       "      <td>2</td>\n",
       "    </tr>\n",
       "    <tr>\n",
       "      <th>3</th>\n",
       "      <td>2.333333</td>\n",
       "      <td>117.0</td>\n",
       "      <td>Vehicles</td>\n",
       "      <td>weekday</td>\n",
       "      <td>3.0</td>\n",
       "      <td>4.25</td>\n",
       "      <td>43.718205</td>\n",
       "      <td>-79.367974</td>\n",
       "      <td>2.0</td>\n",
       "      <td>40.0</td>\n",
       "      <td>NaN</td>\n",
       "      <td>Local Road</td>\n",
       "      <td>2001.0</td>\n",
       "      <td>2</td>\n",
       "    </tr>\n",
       "    <tr>\n",
       "      <th>4</th>\n",
       "      <td>4.666667</td>\n",
       "      <td>117.0</td>\n",
       "      <td>Vehicles</td>\n",
       "      <td>weekday</td>\n",
       "      <td>4.0</td>\n",
       "      <td>4.25</td>\n",
       "      <td>43.718205</td>\n",
       "      <td>-79.367974</td>\n",
       "      <td>2.0</td>\n",
       "      <td>40.0</td>\n",
       "      <td>NaN</td>\n",
       "      <td>Local Road</td>\n",
       "      <td>2001.0</td>\n",
       "      <td>2</td>\n",
       "    </tr>\n",
       "  </tbody>\n",
       "</table>\n",
       "</div>"
      ],
      "text/plain": [
       "   avg_volume_per_hour  centerline_id class_type day_of_week  hour  \\\n",
       "0            11.000000          117.0   Vehicles     weekday   0.0   \n",
       "1             4.333333          117.0   Vehicles     weekday   1.0   \n",
       "2             1.333333          117.0   Vehicles     weekday   2.0   \n",
       "3             2.333333          117.0   Vehicles     weekday   3.0   \n",
       "4             4.666667          117.0   Vehicles     weekday   4.0   \n",
       "\n",
       "   lane_width   latitude  longitude  num_of_lane  posted_spd  px   road_type  \\\n",
       "0        4.25  43.718205 -79.367974          2.0        40.0 NaN  Local Road   \n",
       "1        4.25  43.718205 -79.367974          2.0        40.0 NaN  Local Road   \n",
       "2        4.25  43.718205 -79.367974          2.0        40.0 NaN  Local Road   \n",
       "3        4.25  43.718205 -79.367974          2.0        40.0 NaN  Local Road   \n",
       "4        4.25  43.718205 -79.367974          2.0        40.0 NaN  Local Road   \n",
       "\n",
       "     year  cluster  \n",
       "0  2001.0        2  \n",
       "1  2001.0        2  \n",
       "2  2001.0        2  \n",
       "3  2001.0        2  \n",
       "4  2001.0        2  "
      ]
     },
     "execution_count": 112,
     "metadata": {},
     "output_type": "execute_result"
    }
   ],
   "source": [
    "combined_lookup=combined_lookup.drop(['Unnamed: 0'], axis=1)\n",
    "\n",
    "combined_lookup.head()"
   ]
  },
  {
   "cell_type": "code",
   "execution_count": 113,
   "metadata": {},
   "outputs": [],
   "source": [
    "kmeans_dict = combined_lookup.set_index(['centerline_id']).to_dict()['cluster']"
   ]
  },
  {
   "cell_type": "code",
   "execution_count": 114,
   "metadata": {},
   "outputs": [],
   "source": [
    "collision_events['cluster']=collision_events['centerline_id'].map(kmeans_dict)"
   ]
  },
  {
   "cell_type": "code",
   "execution_count": 115,
   "metadata": {
    "scrolled": false
   },
   "outputs": [
    {
     "data": {
      "text/html": [
       "<div>\n",
       "<style scoped>\n",
       "    .dataframe tbody tr th:only-of-type {\n",
       "        vertical-align: middle;\n",
       "    }\n",
       "\n",
       "    .dataframe tbody tr th {\n",
       "        vertical-align: top;\n",
       "    }\n",
       "\n",
       "    .dataframe thead th {\n",
       "        text-align: right;\n",
       "    }\n",
       "</style>\n",
       "<table border=\"1\" class=\"dataframe\">\n",
       "  <thead>\n",
       "    <tr style=\"text-align: right;\">\n",
       "      <th></th>\n",
       "      <th>px</th>\n",
       "      <th>year</th>\n",
       "      <th>day_of_week</th>\n",
       "      <th>hour</th>\n",
       "      <th>collision_id</th>\n",
       "      <th>collision_date</th>\n",
       "      <th>collision_time</th>\n",
       "      <th>visibility</th>\n",
       "      <th>light</th>\n",
       "      <th>road_surface_cond</th>\n",
       "      <th>...</th>\n",
       "      <th>day</th>\n",
       "      <th>vehicles_involved</th>\n",
       "      <th>volume_data_veh</th>\n",
       "      <th>road_type</th>\n",
       "      <th>posted_speed</th>\n",
       "      <th>traffic_control</th>\n",
       "      <th>num_of_lane</th>\n",
       "      <th>lane_width</th>\n",
       "      <th>frequency</th>\n",
       "      <th>cluster</th>\n",
       "    </tr>\n",
       "  </thead>\n",
       "  <tbody>\n",
       "    <tr>\n",
       "      <th>0</th>\n",
       "      <td>325.0</td>\n",
       "      <td>2008</td>\n",
       "      <td>weekday</td>\n",
       "      <td>7</td>\n",
       "      <td>49</td>\n",
       "      <td>2008-01-01</td>\n",
       "      <td>740</td>\n",
       "      <td>SNOW</td>\n",
       "      <td>DAYLIGHT</td>\n",
       "      <td>WET</td>\n",
       "      <td>...</td>\n",
       "      <td>01-01</td>\n",
       "      <td>2.0</td>\n",
       "      <td>2520.0</td>\n",
       "      <td>AT INTERSECTION</td>\n",
       "      <td>40.0</td>\n",
       "      <td>TRAFFIC SIGNAL</td>\n",
       "      <td>4.0</td>\n",
       "      <td>3.200000</td>\n",
       "      <td>0.000794</td>\n",
       "      <td>2.0</td>\n",
       "    </tr>\n",
       "    <tr>\n",
       "      <th>1</th>\n",
       "      <td>1356.0</td>\n",
       "      <td>2008</td>\n",
       "      <td>weekday</td>\n",
       "      <td>11</td>\n",
       "      <td>72</td>\n",
       "      <td>2008-01-01</td>\n",
       "      <td>1110</td>\n",
       "      <td>SNOW</td>\n",
       "      <td>DAYLIGHT</td>\n",
       "      <td>SLUSH</td>\n",
       "      <td>...</td>\n",
       "      <td>01-01</td>\n",
       "      <td>2.0</td>\n",
       "      <td>2630.0</td>\n",
       "      <td>AT INTERSECTION</td>\n",
       "      <td>60.0</td>\n",
       "      <td>TRAFFIC SIGNAL</td>\n",
       "      <td>6.0</td>\n",
       "      <td>3.866667</td>\n",
       "      <td>0.000760</td>\n",
       "      <td>1.0</td>\n",
       "    </tr>\n",
       "    <tr>\n",
       "      <th>2</th>\n",
       "      <td>1363.0</td>\n",
       "      <td>2008</td>\n",
       "      <td>weekday</td>\n",
       "      <td>14</td>\n",
       "      <td>92</td>\n",
       "      <td>2008-01-01</td>\n",
       "      <td>1434</td>\n",
       "      <td>CLEAR</td>\n",
       "      <td>DAYLIGHT</td>\n",
       "      <td>LOOSE SNOW</td>\n",
       "      <td>...</td>\n",
       "      <td>01-01</td>\n",
       "      <td>4.0</td>\n",
       "      <td>3325.0</td>\n",
       "      <td>AT INTERSECTION</td>\n",
       "      <td>60.0</td>\n",
       "      <td>TRAFFIC SIGNAL</td>\n",
       "      <td>6.0</td>\n",
       "      <td>3.716667</td>\n",
       "      <td>0.001203</td>\n",
       "      <td>1.0</td>\n",
       "    </tr>\n",
       "    <tr>\n",
       "      <th>3</th>\n",
       "      <td>397.0</td>\n",
       "      <td>2008</td>\n",
       "      <td>weekday</td>\n",
       "      <td>17</td>\n",
       "      <td>108</td>\n",
       "      <td>2008-01-01</td>\n",
       "      <td>1700</td>\n",
       "      <td>CLEAR</td>\n",
       "      <td>DUSK</td>\n",
       "      <td>DRY</td>\n",
       "      <td>...</td>\n",
       "      <td>01-01</td>\n",
       "      <td>1.0</td>\n",
       "      <td>3135.0</td>\n",
       "      <td>Major Arterial Road</td>\n",
       "      <td>60.0</td>\n",
       "      <td>NO CONTROL</td>\n",
       "      <td>6.0</td>\n",
       "      <td>4.000000</td>\n",
       "      <td>0.000319</td>\n",
       "      <td>1.0</td>\n",
       "    </tr>\n",
       "    <tr>\n",
       "      <th>4</th>\n",
       "      <td>128.0</td>\n",
       "      <td>2008</td>\n",
       "      <td>weekday</td>\n",
       "      <td>8</td>\n",
       "      <td>135</td>\n",
       "      <td>2008-01-02</td>\n",
       "      <td>817</td>\n",
       "      <td>CLEAR</td>\n",
       "      <td>DAYLIGHT</td>\n",
       "      <td>WET</td>\n",
       "      <td>...</td>\n",
       "      <td>01-02</td>\n",
       "      <td>2.0</td>\n",
       "      <td>3852.0</td>\n",
       "      <td>Major Arterial Road</td>\n",
       "      <td>60.0</td>\n",
       "      <td>TRAFFIC SIGNAL</td>\n",
       "      <td>4.0</td>\n",
       "      <td>4.575000</td>\n",
       "      <td>0.000519</td>\n",
       "      <td>3.0</td>\n",
       "    </tr>\n",
       "  </tbody>\n",
       "</table>\n",
       "<p>5 rows × 23 columns</p>\n",
       "</div>"
      ],
      "text/plain": [
       "       px  year day_of_week  hour  collision_id collision_date  \\\n",
       "0   325.0  2008     weekday     7            49     2008-01-01   \n",
       "1  1356.0  2008     weekday    11            72     2008-01-01   \n",
       "2  1363.0  2008     weekday    14            92     2008-01-01   \n",
       "3   397.0  2008     weekday    17           108     2008-01-01   \n",
       "4   128.0  2008     weekday     8           135     2008-01-02   \n",
       "\n",
       "   collision_time visibility     light road_surface_cond   ...       day  \\\n",
       "0             740       SNOW  DAYLIGHT               WET   ...     01-01   \n",
       "1            1110       SNOW  DAYLIGHT             SLUSH   ...     01-01   \n",
       "2            1434      CLEAR  DAYLIGHT        LOOSE SNOW   ...     01-01   \n",
       "3            1700      CLEAR      DUSK               DRY   ...     01-01   \n",
       "4             817      CLEAR  DAYLIGHT               WET   ...     01-02   \n",
       "\n",
       "   vehicles_involved  volume_data_veh            road_type  posted_speed  \\\n",
       "0                2.0           2520.0      AT INTERSECTION          40.0   \n",
       "1                2.0           2630.0      AT INTERSECTION          60.0   \n",
       "2                4.0           3325.0      AT INTERSECTION          60.0   \n",
       "3                1.0           3135.0  Major Arterial Road          60.0   \n",
       "4                2.0           3852.0  Major Arterial Road          60.0   \n",
       "\n",
       "   traffic_control num_of_lane  lane_width frequency  cluster  \n",
       "0   TRAFFIC SIGNAL         4.0    3.200000  0.000794      2.0  \n",
       "1   TRAFFIC SIGNAL         6.0    3.866667  0.000760      1.0  \n",
       "2   TRAFFIC SIGNAL         6.0    3.716667  0.001203      1.0  \n",
       "3       NO CONTROL         6.0    4.000000  0.000319      1.0  \n",
       "4   TRAFFIC SIGNAL         4.0    4.575000  0.000519      3.0  \n",
       "\n",
       "[5 rows x 23 columns]"
      ]
     },
     "execution_count": 115,
     "metadata": {},
     "output_type": "execute_result"
    }
   ],
   "source": [
    "collision_events.head()"
   ]
  },
  {
   "cell_type": "code",
   "execution_count": 116,
   "metadata": {},
   "outputs": [
    {
     "data": {
      "text/html": [
       "<div>\n",
       "<style scoped>\n",
       "    .dataframe tbody tr th:only-of-type {\n",
       "        vertical-align: middle;\n",
       "    }\n",
       "\n",
       "    .dataframe tbody tr th {\n",
       "        vertical-align: top;\n",
       "    }\n",
       "\n",
       "    .dataframe thead th {\n",
       "        text-align: right;\n",
       "    }\n",
       "</style>\n",
       "<table border=\"1\" class=\"dataframe\">\n",
       "  <thead>\n",
       "    <tr style=\"text-align: right;\">\n",
       "      <th></th>\n",
       "      <th>hour</th>\n",
       "      <th>collision_date</th>\n",
       "      <th>visibility</th>\n",
       "      <th>road_surface_cond</th>\n",
       "      <th>cluster</th>\n",
       "    </tr>\n",
       "  </thead>\n",
       "  <tbody>\n",
       "    <tr>\n",
       "      <th>0</th>\n",
       "      <td>7</td>\n",
       "      <td>2008-01-01</td>\n",
       "      <td>SNOW</td>\n",
       "      <td>WET</td>\n",
       "      <td>2.0</td>\n",
       "    </tr>\n",
       "    <tr>\n",
       "      <th>1</th>\n",
       "      <td>11</td>\n",
       "      <td>2008-01-01</td>\n",
       "      <td>SNOW</td>\n",
       "      <td>SLUSH</td>\n",
       "      <td>1.0</td>\n",
       "    </tr>\n",
       "    <tr>\n",
       "      <th>2</th>\n",
       "      <td>14</td>\n",
       "      <td>2008-01-01</td>\n",
       "      <td>CLEAR</td>\n",
       "      <td>LOOSE SNOW</td>\n",
       "      <td>1.0</td>\n",
       "    </tr>\n",
       "    <tr>\n",
       "      <th>3</th>\n",
       "      <td>17</td>\n",
       "      <td>2008-01-01</td>\n",
       "      <td>CLEAR</td>\n",
       "      <td>DRY</td>\n",
       "      <td>1.0</td>\n",
       "    </tr>\n",
       "    <tr>\n",
       "      <th>4</th>\n",
       "      <td>8</td>\n",
       "      <td>2008-01-02</td>\n",
       "      <td>CLEAR</td>\n",
       "      <td>WET</td>\n",
       "      <td>3.0</td>\n",
       "    </tr>\n",
       "  </tbody>\n",
       "</table>\n",
       "</div>"
      ],
      "text/plain": [
       "   hour collision_date visibility road_surface_cond  cluster\n",
       "0     7     2008-01-01       SNOW               WET      2.0\n",
       "1    11     2008-01-01       SNOW             SLUSH      1.0\n",
       "2    14     2008-01-01      CLEAR        LOOSE SNOW      1.0\n",
       "3    17     2008-01-01      CLEAR               DRY      1.0\n",
       "4     8     2008-01-02      CLEAR               WET      3.0"
      ]
     },
     "execution_count": 116,
     "metadata": {},
     "output_type": "execute_result"
    }
   ],
   "source": [
    "ndrop=['cluster', 'visibility', 'road_surface_cond', 'hour', 'collision_date'] #what we are keeping\n",
    "drop=list(collision_events)\n",
    "for x in ndrop:\n",
    "    drop.remove(x)\n",
    "collision_events_drop=collision_events.drop(columns=drop)\n",
    "collision_events_drop.head()"
   ]
  },
  {
   "cell_type": "code",
   "execution_count": 117,
   "metadata": {},
   "outputs": [
    {
     "data": {
      "text/plain": [
       "array([ 7, 11, 14, 17,  8,  9, 10, 16, 13, 15, 12, 18,  2,  1,  4, 23,  5,\n",
       "       19,  0, 20, 21, 22,  3,  6])"
      ]
     },
     "execution_count": 117,
     "metadata": {},
     "output_type": "execute_result"
    }
   ],
   "source": [
    "collision_events_drop.hour.unique()"
   ]
  },
  {
   "cell_type": "code",
   "execution_count": 118,
   "metadata": {},
   "outputs": [],
   "source": [
    "def time_div (x):\n",
    "    if (0<=x<6): div='dawn'\n",
    "    elif (6<=x<12):div='morn'\n",
    "    elif (12<=x<18): div='afternoon'\n",
    "    elif  (18<=x): div='dusk'\n",
    "    return div"
   ]
  },
  {
   "cell_type": "code",
   "execution_count": 119,
   "metadata": {},
   "outputs": [],
   "source": [
    "# testdata.map(lambda x: x if (x < 30 or x > 60) else 0)\n",
    "collision_events_drop['time_div']=collision_events_drop.hour.apply(time_div)"
   ]
  },
  {
   "cell_type": "code",
   "execution_count": 120,
   "metadata": {},
   "outputs": [
    {
     "data": {
      "text/plain": [
       "array(['morn', 'afternoon', 'dusk', 'dawn'], dtype=object)"
      ]
     },
     "execution_count": 120,
     "metadata": {},
     "output_type": "execute_result"
    }
   ],
   "source": [
    "collision_events_drop.time_div.unique()"
   ]
  },
  {
   "cell_type": "code",
   "execution_count": 121,
   "metadata": {
    "scrolled": true
   },
   "outputs": [
    {
     "data": {
      "text/plain": [
       "array(['SNOW', 'CLEAR', 'RAIN', 'FREEZING RAIN', 'STRONG WIND', 'OTHER',\n",
       "       'FOG, MIST, SMOKE, DUST', 'DRIFTING SNOW', nan], dtype=object)"
      ]
     },
     "execution_count": 121,
     "metadata": {},
     "output_type": "execute_result"
    }
   ],
   "source": [
    "collision_events_drop.visibility.unique()"
   ]
  },
  {
   "cell_type": "code",
   "execution_count": 122,
   "metadata": {},
   "outputs": [
    {
     "data": {
      "text/html": [
       "<div>\n",
       "<style scoped>\n",
       "    .dataframe tbody tr th:only-of-type {\n",
       "        vertical-align: middle;\n",
       "    }\n",
       "\n",
       "    .dataframe tbody tr th {\n",
       "        vertical-align: top;\n",
       "    }\n",
       "\n",
       "    .dataframe thead th {\n",
       "        text-align: right;\n",
       "    }\n",
       "</style>\n",
       "<table border=\"1\" class=\"dataframe\">\n",
       "  <thead>\n",
       "    <tr style=\"text-align: right;\">\n",
       "      <th></th>\n",
       "      <th>hour</th>\n",
       "      <th>collision_date</th>\n",
       "      <th>visibility</th>\n",
       "      <th>road_surface_cond</th>\n",
       "      <th>cluster</th>\n",
       "      <th>time_div</th>\n",
       "    </tr>\n",
       "  </thead>\n",
       "  <tbody>\n",
       "  </tbody>\n",
       "</table>\n",
       "</div>"
      ],
      "text/plain": [
       "Empty DataFrame\n",
       "Columns: [hour, collision_date, visibility, road_surface_cond, cluster, time_div]\n",
       "Index: []"
      ]
     },
     "execution_count": 122,
     "metadata": {},
     "output_type": "execute_result"
    }
   ],
   "source": [
    "collision_events_drop=collision_events_drop.dropna(subset=['visibility','road_surface_cond'])\n",
    "collision_events_drop[(collision_events_drop.visibility.isna()) & (collision_events_drop.road_surface_cond.isna())]"
   ]
  },
  {
   "cell_type": "code",
   "execution_count": 123,
   "metadata": {},
   "outputs": [],
   "source": [
    "#took the most frequent occurance of visibility, and road_surface_condition for the given time_division, date and cluster\n",
    "collision_events_drop=collision_events_drop.groupby(['time_div','collision_date','cluster']).agg(lambda x: x.value_counts().index[0])"
   ]
  },
  {
   "cell_type": "code",
   "execution_count": 124,
   "metadata": {},
   "outputs": [
    {
     "data": {
      "text/html": [
       "<div>\n",
       "<style scoped>\n",
       "    .dataframe tbody tr th:only-of-type {\n",
       "        vertical-align: middle;\n",
       "    }\n",
       "\n",
       "    .dataframe tbody tr th {\n",
       "        vertical-align: top;\n",
       "    }\n",
       "\n",
       "    .dataframe thead th {\n",
       "        text-align: right;\n",
       "    }\n",
       "</style>\n",
       "<table border=\"1\" class=\"dataframe\">\n",
       "  <thead>\n",
       "    <tr style=\"text-align: right;\">\n",
       "      <th></th>\n",
       "      <th></th>\n",
       "      <th></th>\n",
       "      <th>hour</th>\n",
       "      <th>visibility</th>\n",
       "      <th>road_surface_cond</th>\n",
       "    </tr>\n",
       "    <tr>\n",
       "      <th>time_div</th>\n",
       "      <th>collision_date</th>\n",
       "      <th>cluster</th>\n",
       "      <th></th>\n",
       "      <th></th>\n",
       "      <th></th>\n",
       "    </tr>\n",
       "  </thead>\n",
       "  <tbody>\n",
       "    <tr>\n",
       "      <th rowspan=\"5\" valign=\"top\">afternoon</th>\n",
       "      <th rowspan=\"3\" valign=\"top\">2008-01-01</th>\n",
       "      <th>1.0</th>\n",
       "      <td>14</td>\n",
       "      <td>CLEAR</td>\n",
       "      <td>LOOSE SNOW</td>\n",
       "    </tr>\n",
       "    <tr>\n",
       "      <th>2.0</th>\n",
       "      <td>12</td>\n",
       "      <td>SNOW</td>\n",
       "      <td>LOOSE SNOW</td>\n",
       "    </tr>\n",
       "    <tr>\n",
       "      <th>3.0</th>\n",
       "      <td>15</td>\n",
       "      <td>CLEAR</td>\n",
       "      <td>SLUSH</td>\n",
       "    </tr>\n",
       "    <tr>\n",
       "      <th rowspan=\"2\" valign=\"top\">2008-01-02</th>\n",
       "      <th>0.0</th>\n",
       "      <td>17</td>\n",
       "      <td>CLEAR</td>\n",
       "      <td>DRY</td>\n",
       "    </tr>\n",
       "    <tr>\n",
       "      <th>1.0</th>\n",
       "      <td>17</td>\n",
       "      <td>CLEAR</td>\n",
       "      <td>DRY</td>\n",
       "    </tr>\n",
       "  </tbody>\n",
       "</table>\n",
       "</div>"
      ],
      "text/plain": [
       "                                  hour visibility road_surface_cond\n",
       "time_div  collision_date cluster                                   \n",
       "afternoon 2008-01-01     1.0        14      CLEAR        LOOSE SNOW\n",
       "                         2.0        12       SNOW        LOOSE SNOW\n",
       "                         3.0        15      CLEAR             SLUSH\n",
       "          2008-01-02     0.0        17      CLEAR               DRY\n",
       "                         1.0        17      CLEAR               DRY"
      ]
     },
     "execution_count": 124,
     "metadata": {},
     "output_type": "execute_result"
    }
   ],
   "source": [
    "collision_events_drop.head()"
   ]
  },
  {
   "cell_type": "code",
   "execution_count": 125,
   "metadata": {},
   "outputs": [
    {
     "data": {
      "text/html": [
       "<div>\n",
       "<style scoped>\n",
       "    .dataframe tbody tr th:only-of-type {\n",
       "        vertical-align: middle;\n",
       "    }\n",
       "\n",
       "    .dataframe tbody tr th {\n",
       "        vertical-align: top;\n",
       "    }\n",
       "\n",
       "    .dataframe thead th {\n",
       "        text-align: right;\n",
       "    }\n",
       "</style>\n",
       "<table border=\"1\" class=\"dataframe\">\n",
       "  <thead>\n",
       "    <tr style=\"text-align: right;\">\n",
       "      <th></th>\n",
       "      <th>time_div</th>\n",
       "      <th>collision_date</th>\n",
       "      <th>cluster</th>\n",
       "      <th>hour</th>\n",
       "      <th>visibility</th>\n",
       "      <th>road_surface_cond</th>\n",
       "    </tr>\n",
       "  </thead>\n",
       "  <tbody>\n",
       "    <tr>\n",
       "      <th>0</th>\n",
       "      <td>afternoon</td>\n",
       "      <td>2008-01-01</td>\n",
       "      <td>1.0</td>\n",
       "      <td>14</td>\n",
       "      <td>CLEAR</td>\n",
       "      <td>LOOSE SNOW</td>\n",
       "    </tr>\n",
       "    <tr>\n",
       "      <th>1</th>\n",
       "      <td>afternoon</td>\n",
       "      <td>2008-01-01</td>\n",
       "      <td>2.0</td>\n",
       "      <td>12</td>\n",
       "      <td>SNOW</td>\n",
       "      <td>LOOSE SNOW</td>\n",
       "    </tr>\n",
       "    <tr>\n",
       "      <th>2</th>\n",
       "      <td>afternoon</td>\n",
       "      <td>2008-01-01</td>\n",
       "      <td>3.0</td>\n",
       "      <td>15</td>\n",
       "      <td>CLEAR</td>\n",
       "      <td>SLUSH</td>\n",
       "    </tr>\n",
       "    <tr>\n",
       "      <th>3</th>\n",
       "      <td>afternoon</td>\n",
       "      <td>2008-01-02</td>\n",
       "      <td>0.0</td>\n",
       "      <td>17</td>\n",
       "      <td>CLEAR</td>\n",
       "      <td>DRY</td>\n",
       "    </tr>\n",
       "    <tr>\n",
       "      <th>4</th>\n",
       "      <td>afternoon</td>\n",
       "      <td>2008-01-02</td>\n",
       "      <td>1.0</td>\n",
       "      <td>17</td>\n",
       "      <td>CLEAR</td>\n",
       "      <td>DRY</td>\n",
       "    </tr>\n",
       "  </tbody>\n",
       "</table>\n",
       "</div>"
      ],
      "text/plain": [
       "    time_div collision_date  cluster  hour visibility road_surface_cond\n",
       "0  afternoon     2008-01-01      1.0    14      CLEAR        LOOSE SNOW\n",
       "1  afternoon     2008-01-01      2.0    12       SNOW        LOOSE SNOW\n",
       "2  afternoon     2008-01-01      3.0    15      CLEAR             SLUSH\n",
       "3  afternoon     2008-01-02      0.0    17      CLEAR               DRY\n",
       "4  afternoon     2008-01-02      1.0    17      CLEAR               DRY"
      ]
     },
     "execution_count": 125,
     "metadata": {},
     "output_type": "execute_result"
    }
   ],
   "source": [
    "collision_events_drop=collision_events_drop.reset_index(['time_div','collision_date','cluster'])\n",
    "collision_events_drop.head()"
   ]
  },
  {
   "cell_type": "code",
   "execution_count": 126,
   "metadata": {},
   "outputs": [],
   "source": [
    "collision_events_drop.to_csv('_weather_lookup.csv')\n",
    "collision_events.to_csv('_collision_events_4cluster.csv')"
   ]
  },
  {
   "cell_type": "markdown",
   "metadata": {},
   "source": [
    "### <u><a name=\"D1.5\">1.5 Generate Negative Samples</a></u>"
   ]
  },
  {
   "cell_type": "code",
   "execution_count": 127,
   "metadata": {},
   "outputs": [],
   "source": [
    "import random\n",
    "from IPython.display import clear_output\n",
    "\n",
    "#setting a random seed so the result is repeatable.\n",
    "random.seed(9001)"
   ]
  },
  {
   "cell_type": "code",
   "execution_count": 128,
   "metadata": {},
   "outputs": [],
   "source": [
    "collision_events=pd.read_csv('_collision_events_4cluster.csv')"
   ]
  },
  {
   "cell_type": "code",
   "execution_count": 129,
   "metadata": {
    "scrolled": true
   },
   "outputs": [
    {
     "data": {
      "text/html": [
       "<div>\n",
       "<style scoped>\n",
       "    .dataframe tbody tr th:only-of-type {\n",
       "        vertical-align: middle;\n",
       "    }\n",
       "\n",
       "    .dataframe tbody tr th {\n",
       "        vertical-align: top;\n",
       "    }\n",
       "\n",
       "    .dataframe thead th {\n",
       "        text-align: right;\n",
       "    }\n",
       "</style>\n",
       "<table border=\"1\" class=\"dataframe\">\n",
       "  <thead>\n",
       "    <tr style=\"text-align: right;\">\n",
       "      <th></th>\n",
       "      <th>px</th>\n",
       "      <th>year</th>\n",
       "      <th>day_of_week</th>\n",
       "      <th>hour</th>\n",
       "      <th>collision_id</th>\n",
       "      <th>collision_date</th>\n",
       "      <th>collision_time</th>\n",
       "      <th>visibility</th>\n",
       "      <th>light</th>\n",
       "      <th>road_surface_cond</th>\n",
       "      <th>...</th>\n",
       "      <th>day</th>\n",
       "      <th>vehicles_involved</th>\n",
       "      <th>volume_data_veh</th>\n",
       "      <th>road_type</th>\n",
       "      <th>posted_speed</th>\n",
       "      <th>traffic_control</th>\n",
       "      <th>num_of_lane</th>\n",
       "      <th>lane_width</th>\n",
       "      <th>frequency</th>\n",
       "      <th>cluster</th>\n",
       "    </tr>\n",
       "  </thead>\n",
       "  <tbody>\n",
       "    <tr>\n",
       "      <th>0</th>\n",
       "      <td>325.0</td>\n",
       "      <td>2008</td>\n",
       "      <td>weekday</td>\n",
       "      <td>7</td>\n",
       "      <td>49</td>\n",
       "      <td>2008-01-01</td>\n",
       "      <td>740</td>\n",
       "      <td>SNOW</td>\n",
       "      <td>DAYLIGHT</td>\n",
       "      <td>WET</td>\n",
       "      <td>...</td>\n",
       "      <td>01-01</td>\n",
       "      <td>2.0</td>\n",
       "      <td>2520.0</td>\n",
       "      <td>AT INTERSECTION</td>\n",
       "      <td>40.0</td>\n",
       "      <td>TRAFFIC SIGNAL</td>\n",
       "      <td>4.0</td>\n",
       "      <td>3.200000</td>\n",
       "      <td>0.000794</td>\n",
       "      <td>2.0</td>\n",
       "    </tr>\n",
       "    <tr>\n",
       "      <th>1</th>\n",
       "      <td>1356.0</td>\n",
       "      <td>2008</td>\n",
       "      <td>weekday</td>\n",
       "      <td>11</td>\n",
       "      <td>72</td>\n",
       "      <td>2008-01-01</td>\n",
       "      <td>1110</td>\n",
       "      <td>SNOW</td>\n",
       "      <td>DAYLIGHT</td>\n",
       "      <td>SLUSH</td>\n",
       "      <td>...</td>\n",
       "      <td>01-01</td>\n",
       "      <td>2.0</td>\n",
       "      <td>2630.0</td>\n",
       "      <td>AT INTERSECTION</td>\n",
       "      <td>60.0</td>\n",
       "      <td>TRAFFIC SIGNAL</td>\n",
       "      <td>6.0</td>\n",
       "      <td>3.866667</td>\n",
       "      <td>0.000760</td>\n",
       "      <td>1.0</td>\n",
       "    </tr>\n",
       "    <tr>\n",
       "      <th>2</th>\n",
       "      <td>1363.0</td>\n",
       "      <td>2008</td>\n",
       "      <td>weekday</td>\n",
       "      <td>14</td>\n",
       "      <td>92</td>\n",
       "      <td>2008-01-01</td>\n",
       "      <td>1434</td>\n",
       "      <td>CLEAR</td>\n",
       "      <td>DAYLIGHT</td>\n",
       "      <td>LOOSE SNOW</td>\n",
       "      <td>...</td>\n",
       "      <td>01-01</td>\n",
       "      <td>4.0</td>\n",
       "      <td>3325.0</td>\n",
       "      <td>AT INTERSECTION</td>\n",
       "      <td>60.0</td>\n",
       "      <td>TRAFFIC SIGNAL</td>\n",
       "      <td>6.0</td>\n",
       "      <td>3.716667</td>\n",
       "      <td>0.001203</td>\n",
       "      <td>1.0</td>\n",
       "    </tr>\n",
       "    <tr>\n",
       "      <th>3</th>\n",
       "      <td>397.0</td>\n",
       "      <td>2008</td>\n",
       "      <td>weekday</td>\n",
       "      <td>17</td>\n",
       "      <td>108</td>\n",
       "      <td>2008-01-01</td>\n",
       "      <td>1700</td>\n",
       "      <td>CLEAR</td>\n",
       "      <td>DUSK</td>\n",
       "      <td>DRY</td>\n",
       "      <td>...</td>\n",
       "      <td>01-01</td>\n",
       "      <td>1.0</td>\n",
       "      <td>3135.0</td>\n",
       "      <td>Major Arterial Road</td>\n",
       "      <td>60.0</td>\n",
       "      <td>NO CONTROL</td>\n",
       "      <td>6.0</td>\n",
       "      <td>4.000000</td>\n",
       "      <td>0.000319</td>\n",
       "      <td>1.0</td>\n",
       "    </tr>\n",
       "    <tr>\n",
       "      <th>4</th>\n",
       "      <td>128.0</td>\n",
       "      <td>2008</td>\n",
       "      <td>weekday</td>\n",
       "      <td>8</td>\n",
       "      <td>135</td>\n",
       "      <td>2008-01-02</td>\n",
       "      <td>817</td>\n",
       "      <td>CLEAR</td>\n",
       "      <td>DAYLIGHT</td>\n",
       "      <td>WET</td>\n",
       "      <td>...</td>\n",
       "      <td>01-02</td>\n",
       "      <td>2.0</td>\n",
       "      <td>3852.0</td>\n",
       "      <td>Major Arterial Road</td>\n",
       "      <td>60.0</td>\n",
       "      <td>TRAFFIC SIGNAL</td>\n",
       "      <td>4.0</td>\n",
       "      <td>4.575000</td>\n",
       "      <td>0.000519</td>\n",
       "      <td>3.0</td>\n",
       "    </tr>\n",
       "  </tbody>\n",
       "</table>\n",
       "<p>5 rows × 23 columns</p>\n",
       "</div>"
      ],
      "text/plain": [
       "       px  year day_of_week  hour  collision_id collision_date  \\\n",
       "0   325.0  2008     weekday     7            49     2008-01-01   \n",
       "1  1356.0  2008     weekday    11            72     2008-01-01   \n",
       "2  1363.0  2008     weekday    14            92     2008-01-01   \n",
       "3   397.0  2008     weekday    17           108     2008-01-01   \n",
       "4   128.0  2008     weekday     8           135     2008-01-02   \n",
       "\n",
       "   collision_time visibility     light road_surface_cond   ...       day  \\\n",
       "0             740       SNOW  DAYLIGHT               WET   ...     01-01   \n",
       "1            1110       SNOW  DAYLIGHT             SLUSH   ...     01-01   \n",
       "2            1434      CLEAR  DAYLIGHT        LOOSE SNOW   ...     01-01   \n",
       "3            1700      CLEAR      DUSK               DRY   ...     01-01   \n",
       "4             817      CLEAR  DAYLIGHT               WET   ...     01-02   \n",
       "\n",
       "   vehicles_involved  volume_data_veh            road_type  posted_speed  \\\n",
       "0                2.0           2520.0      AT INTERSECTION          40.0   \n",
       "1                2.0           2630.0      AT INTERSECTION          60.0   \n",
       "2                4.0           3325.0      AT INTERSECTION          60.0   \n",
       "3                1.0           3135.0  Major Arterial Road          60.0   \n",
       "4                2.0           3852.0  Major Arterial Road          60.0   \n",
       "\n",
       "   traffic_control num_of_lane  lane_width frequency  cluster  \n",
       "0   TRAFFIC SIGNAL         4.0    3.200000  0.000794      2.0  \n",
       "1   TRAFFIC SIGNAL         6.0    3.866667  0.000760      1.0  \n",
       "2   TRAFFIC SIGNAL         6.0    3.716667  0.001203      1.0  \n",
       "3       NO CONTROL         6.0    4.000000  0.000319      1.0  \n",
       "4   TRAFFIC SIGNAL         4.0    4.575000  0.000519      3.0  \n",
       "\n",
       "[5 rows x 23 columns]"
      ]
     },
     "execution_count": 129,
     "metadata": {},
     "output_type": "execute_result"
    }
   ],
   "source": [
    "collision_events=collision_events.drop(['Unnamed: 0'], axis=1)\n",
    "collision_events.head()"
   ]
  },
  {
   "cell_type": "code",
   "execution_count": 130,
   "metadata": {
    "scrolled": true
   },
   "outputs": [
    {
     "data": {
      "text/plain": [
       "(45359, 23)"
      ]
     },
     "execution_count": 130,
     "metadata": {},
     "output_type": "execute_result"
    }
   ],
   "source": [
    "collision_events.shape"
   ]
  },
  {
   "cell_type": "code",
   "execution_count": 131,
   "metadata": {
    "scrolled": true
   },
   "outputs": [
    {
     "data": {
      "text/plain": [
       "array(['px', 'year', 'day_of_week', 'hour', 'collision_id',\n",
       "       'collision_date', 'collision_time', 'visibility', 'light',\n",
       "       'road_surface_cond', 'longitude', 'latitude', 'centerline_id',\n",
       "       'day', 'vehicles_involved', 'volume_data_veh', 'road_type',\n",
       "       'posted_speed', 'traffic_control', 'num_of_lane', 'lane_width',\n",
       "       'frequency', 'cluster'], dtype=object)"
      ]
     },
     "execution_count": 131,
     "metadata": {},
     "output_type": "execute_result"
    }
   ],
   "source": [
    "collision_events.columns.values"
   ]
  },
  {
   "cell_type": "code",
   "execution_count": 132,
   "metadata": {
    "scrolled": false
   },
   "outputs": [
    {
     "data": {
      "text/html": [
       "<div>\n",
       "<style scoped>\n",
       "    .dataframe tbody tr th:only-of-type {\n",
       "        vertical-align: middle;\n",
       "    }\n",
       "\n",
       "    .dataframe tbody tr th {\n",
       "        vertical-align: top;\n",
       "    }\n",
       "\n",
       "    .dataframe thead th {\n",
       "        text-align: right;\n",
       "    }\n",
       "</style>\n",
       "<table border=\"1\" class=\"dataframe\">\n",
       "  <thead>\n",
       "    <tr style=\"text-align: right;\">\n",
       "      <th></th>\n",
       "      <th>px</th>\n",
       "      <th>year</th>\n",
       "      <th>day_of_week</th>\n",
       "      <th>hour</th>\n",
       "      <th>collision_date</th>\n",
       "      <th>visibility</th>\n",
       "      <th>road_surface_cond</th>\n",
       "      <th>longitude</th>\n",
       "      <th>latitude</th>\n",
       "      <th>centerline_id</th>\n",
       "      <th>volume_data_veh</th>\n",
       "      <th>road_type</th>\n",
       "      <th>posted_speed</th>\n",
       "      <th>num_of_lane</th>\n",
       "      <th>lane_width</th>\n",
       "      <th>cluster</th>\n",
       "    </tr>\n",
       "  </thead>\n",
       "  <tbody>\n",
       "    <tr>\n",
       "      <th>0</th>\n",
       "      <td>325.0</td>\n",
       "      <td>2008</td>\n",
       "      <td>weekday</td>\n",
       "      <td>7</td>\n",
       "      <td>2008-01-01</td>\n",
       "      <td>SNOW</td>\n",
       "      <td>WET</td>\n",
       "      <td>-79.435600</td>\n",
       "      <td>43.659800</td>\n",
       "      <td>10865133.0</td>\n",
       "      <td>2520.0</td>\n",
       "      <td>AT INTERSECTION</td>\n",
       "      <td>40.0</td>\n",
       "      <td>4.0</td>\n",
       "      <td>3.200000</td>\n",
       "      <td>2.0</td>\n",
       "    </tr>\n",
       "    <tr>\n",
       "      <th>1</th>\n",
       "      <td>1356.0</td>\n",
       "      <td>2008</td>\n",
       "      <td>weekday</td>\n",
       "      <td>11</td>\n",
       "      <td>2008-01-01</td>\n",
       "      <td>SNOW</td>\n",
       "      <td>SLUSH</td>\n",
       "      <td>-79.252403</td>\n",
       "      <td>43.774502</td>\n",
       "      <td>107897.0</td>\n",
       "      <td>2630.0</td>\n",
       "      <td>AT INTERSECTION</td>\n",
       "      <td>60.0</td>\n",
       "      <td>6.0</td>\n",
       "      <td>3.866667</td>\n",
       "      <td>1.0</td>\n",
       "    </tr>\n",
       "    <tr>\n",
       "      <th>2</th>\n",
       "      <td>1363.0</td>\n",
       "      <td>2008</td>\n",
       "      <td>weekday</td>\n",
       "      <td>14</td>\n",
       "      <td>2008-01-01</td>\n",
       "      <td>CLEAR</td>\n",
       "      <td>LOOSE SNOW</td>\n",
       "      <td>-79.317100</td>\n",
       "      <td>43.821300</td>\n",
       "      <td>103265.0</td>\n",
       "      <td>3325.0</td>\n",
       "      <td>AT INTERSECTION</td>\n",
       "      <td>60.0</td>\n",
       "      <td>6.0</td>\n",
       "      <td>3.716667</td>\n",
       "      <td>1.0</td>\n",
       "    </tr>\n",
       "    <tr>\n",
       "      <th>3</th>\n",
       "      <td>397.0</td>\n",
       "      <td>2008</td>\n",
       "      <td>weekday</td>\n",
       "      <td>17</td>\n",
       "      <td>2008-01-01</td>\n",
       "      <td>CLEAR</td>\n",
       "      <td>DRY</td>\n",
       "      <td>-79.216000</td>\n",
       "      <td>43.761800</td>\n",
       "      <td>7423543.0</td>\n",
       "      <td>3135.0</td>\n",
       "      <td>Major Arterial Road</td>\n",
       "      <td>60.0</td>\n",
       "      <td>6.0</td>\n",
       "      <td>4.000000</td>\n",
       "      <td>1.0</td>\n",
       "    </tr>\n",
       "    <tr>\n",
       "      <th>4</th>\n",
       "      <td>128.0</td>\n",
       "      <td>2008</td>\n",
       "      <td>weekday</td>\n",
       "      <td>8</td>\n",
       "      <td>2008-01-02</td>\n",
       "      <td>CLEAR</td>\n",
       "      <td>WET</td>\n",
       "      <td>-79.415800</td>\n",
       "      <td>43.779700</td>\n",
       "      <td>9011793.0</td>\n",
       "      <td>3852.0</td>\n",
       "      <td>Major Arterial Road</td>\n",
       "      <td>60.0</td>\n",
       "      <td>4.0</td>\n",
       "      <td>4.575000</td>\n",
       "      <td>3.0</td>\n",
       "    </tr>\n",
       "  </tbody>\n",
       "</table>\n",
       "</div>"
      ],
      "text/plain": [
       "       px  year day_of_week  hour collision_date visibility road_surface_cond  \\\n",
       "0   325.0  2008     weekday     7     2008-01-01       SNOW               WET   \n",
       "1  1356.0  2008     weekday    11     2008-01-01       SNOW             SLUSH   \n",
       "2  1363.0  2008     weekday    14     2008-01-01      CLEAR        LOOSE SNOW   \n",
       "3   397.0  2008     weekday    17     2008-01-01      CLEAR               DRY   \n",
       "4   128.0  2008     weekday     8     2008-01-02      CLEAR               WET   \n",
       "\n",
       "   longitude   latitude  centerline_id  volume_data_veh            road_type  \\\n",
       "0 -79.435600  43.659800     10865133.0           2520.0      AT INTERSECTION   \n",
       "1 -79.252403  43.774502       107897.0           2630.0      AT INTERSECTION   \n",
       "2 -79.317100  43.821300       103265.0           3325.0      AT INTERSECTION   \n",
       "3 -79.216000  43.761800      7423543.0           3135.0  Major Arterial Road   \n",
       "4 -79.415800  43.779700      9011793.0           3852.0  Major Arterial Road   \n",
       "\n",
       "   posted_speed  num_of_lane  lane_width  cluster  \n",
       "0          40.0          4.0    3.200000      2.0  \n",
       "1          60.0          6.0    3.866667      1.0  \n",
       "2          60.0          6.0    3.716667      1.0  \n",
       "3          60.0          6.0    4.000000      1.0  \n",
       "4          60.0          4.0    4.575000      3.0  "
      ]
     },
     "execution_count": 132,
     "metadata": {},
     "output_type": "execute_result"
    }
   ],
   "source": [
    "#Here we clean up the list of positive samples (i.e collision events) to keep the features that we want\n",
    "ndrop=['px', 'day_of_week', 'collision_date', 'visibility', 'road_surface_cond',\n",
    "       'centerline_id','volume_data_veh', 'road_type',\n",
    "       'posted_speed', 'num_of_lane', 'lane_width','cluster','hour','year', 'longitude', 'latitude'] #what we are keeping\n",
    "drop=list(collision_events)\n",
    "for x in ndrop:\n",
    "    drop.remove(x)\n",
    "collision_events_drop=collision_events.drop(columns=drop)\n",
    "collision_events_drop.head()"
   ]
  },
  {
   "cell_type": "code",
   "execution_count": 133,
   "metadata": {},
   "outputs": [],
   "source": [
    "#Cleaning up the NA values in the list of positive samples\n",
    "#filling na values according to ontario regulation, which is 50km/hr if no explicitly stated speed limit\n",
    "collision_events_drop.posted_speed=collision_events_drop.posted_speed.fillna(50.0);\n",
    "collision_events_drop.posted_speed=collision_events_drop.posted_speed.apply(lambda x: 50 if (x==0) else x);\n",
    "collision_events_drop.posted_speed=collision_events_drop.posted_speed.apply(lambda x: 40 if (x==4) else x);\n",
    "collision_events_drop.posted_speed=collision_events_drop.posted_speed.apply(lambda x: 30 if (x==3) else x);\n",
    "collision_events_drop.posted_speed=collision_events_drop.posted_speed.apply(lambda x: 60 if (x==59) else x);\n",
    "#filling na values with mean\n",
    "collision_events_drop.num_of_lane=collision_events_drop.num_of_lane.fillna(4.0);\n",
    "#filling na values with mean\n",
    "collision_events_drop.lane_width=collision_events_drop.lane_width.fillna(4.1);"
   ]
  },
  {
   "cell_type": "code",
   "execution_count": 134,
   "metadata": {},
   "outputs": [
    {
     "data": {
      "text/plain": [
       "(45359, 16)"
      ]
     },
     "execution_count": 134,
     "metadata": {},
     "output_type": "execute_result"
    }
   ],
   "source": [
    "collision_events_drop.shape"
   ]
  },
  {
   "cell_type": "code",
   "execution_count": 135,
   "metadata": {
    "scrolled": true
   },
   "outputs": [
    {
     "data": {
      "text/html": [
       "<div>\n",
       "<style scoped>\n",
       "    .dataframe tbody tr th:only-of-type {\n",
       "        vertical-align: middle;\n",
       "    }\n",
       "\n",
       "    .dataframe tbody tr th {\n",
       "        vertical-align: top;\n",
       "    }\n",
       "\n",
       "    .dataframe thead th {\n",
       "        text-align: right;\n",
       "    }\n",
       "</style>\n",
       "<table border=\"1\" class=\"dataframe\">\n",
       "  <thead>\n",
       "    <tr style=\"text-align: right;\">\n",
       "      <th></th>\n",
       "      <th>px</th>\n",
       "      <th>year</th>\n",
       "      <th>day_of_week</th>\n",
       "      <th>hour</th>\n",
       "      <th>collision_date</th>\n",
       "      <th>visibility</th>\n",
       "      <th>road_surface_cond</th>\n",
       "      <th>longitude</th>\n",
       "      <th>latitude</th>\n",
       "      <th>centerline_id</th>\n",
       "      <th>volume_data_veh</th>\n",
       "      <th>road_type</th>\n",
       "      <th>posted_speed</th>\n",
       "      <th>num_of_lane</th>\n",
       "      <th>lane_width</th>\n",
       "      <th>cluster</th>\n",
       "    </tr>\n",
       "  </thead>\n",
       "  <tbody>\n",
       "    <tr>\n",
       "      <th>0</th>\n",
       "      <td>325.0</td>\n",
       "      <td>2008</td>\n",
       "      <td>weekday</td>\n",
       "      <td>7</td>\n",
       "      <td>2008-01-01</td>\n",
       "      <td>SNOW</td>\n",
       "      <td>WET</td>\n",
       "      <td>-79.435600</td>\n",
       "      <td>43.659800</td>\n",
       "      <td>10865133.0</td>\n",
       "      <td>2520.0</td>\n",
       "      <td>AT INTERSECTION</td>\n",
       "      <td>40.0</td>\n",
       "      <td>4.0</td>\n",
       "      <td>3.200000</td>\n",
       "      <td>2.0</td>\n",
       "    </tr>\n",
       "    <tr>\n",
       "      <th>1</th>\n",
       "      <td>1356.0</td>\n",
       "      <td>2008</td>\n",
       "      <td>weekday</td>\n",
       "      <td>11</td>\n",
       "      <td>2008-01-01</td>\n",
       "      <td>SNOW</td>\n",
       "      <td>SLUSH</td>\n",
       "      <td>-79.252403</td>\n",
       "      <td>43.774502</td>\n",
       "      <td>107897.0</td>\n",
       "      <td>2630.0</td>\n",
       "      <td>AT INTERSECTION</td>\n",
       "      <td>60.0</td>\n",
       "      <td>6.0</td>\n",
       "      <td>3.866667</td>\n",
       "      <td>1.0</td>\n",
       "    </tr>\n",
       "    <tr>\n",
       "      <th>2</th>\n",
       "      <td>1363.0</td>\n",
       "      <td>2008</td>\n",
       "      <td>weekday</td>\n",
       "      <td>14</td>\n",
       "      <td>2008-01-01</td>\n",
       "      <td>CLEAR</td>\n",
       "      <td>LOOSE SNOW</td>\n",
       "      <td>-79.317100</td>\n",
       "      <td>43.821300</td>\n",
       "      <td>103265.0</td>\n",
       "      <td>3325.0</td>\n",
       "      <td>AT INTERSECTION</td>\n",
       "      <td>60.0</td>\n",
       "      <td>6.0</td>\n",
       "      <td>3.716667</td>\n",
       "      <td>1.0</td>\n",
       "    </tr>\n",
       "    <tr>\n",
       "      <th>3</th>\n",
       "      <td>397.0</td>\n",
       "      <td>2008</td>\n",
       "      <td>weekday</td>\n",
       "      <td>17</td>\n",
       "      <td>2008-01-01</td>\n",
       "      <td>CLEAR</td>\n",
       "      <td>DRY</td>\n",
       "      <td>-79.216000</td>\n",
       "      <td>43.761800</td>\n",
       "      <td>7423543.0</td>\n",
       "      <td>3135.0</td>\n",
       "      <td>Major Arterial Road</td>\n",
       "      <td>60.0</td>\n",
       "      <td>6.0</td>\n",
       "      <td>4.000000</td>\n",
       "      <td>1.0</td>\n",
       "    </tr>\n",
       "    <tr>\n",
       "      <th>4</th>\n",
       "      <td>128.0</td>\n",
       "      <td>2008</td>\n",
       "      <td>weekday</td>\n",
       "      <td>8</td>\n",
       "      <td>2008-01-02</td>\n",
       "      <td>CLEAR</td>\n",
       "      <td>WET</td>\n",
       "      <td>-79.415800</td>\n",
       "      <td>43.779700</td>\n",
       "      <td>9011793.0</td>\n",
       "      <td>3852.0</td>\n",
       "      <td>Major Arterial Road</td>\n",
       "      <td>60.0</td>\n",
       "      <td>4.0</td>\n",
       "      <td>4.575000</td>\n",
       "      <td>3.0</td>\n",
       "    </tr>\n",
       "  </tbody>\n",
       "</table>\n",
       "</div>"
      ],
      "text/plain": [
       "       px  year day_of_week  hour collision_date visibility road_surface_cond  \\\n",
       "0   325.0  2008     weekday     7     2008-01-01       SNOW               WET   \n",
       "1  1356.0  2008     weekday    11     2008-01-01       SNOW             SLUSH   \n",
       "2  1363.0  2008     weekday    14     2008-01-01      CLEAR        LOOSE SNOW   \n",
       "3   397.0  2008     weekday    17     2008-01-01      CLEAR               DRY   \n",
       "4   128.0  2008     weekday     8     2008-01-02      CLEAR               WET   \n",
       "\n",
       "   longitude   latitude  centerline_id  volume_data_veh            road_type  \\\n",
       "0 -79.435600  43.659800     10865133.0           2520.0      AT INTERSECTION   \n",
       "1 -79.252403  43.774502       107897.0           2630.0      AT INTERSECTION   \n",
       "2 -79.317100  43.821300       103265.0           3325.0      AT INTERSECTION   \n",
       "3 -79.216000  43.761800      7423543.0           3135.0  Major Arterial Road   \n",
       "4 -79.415800  43.779700      9011793.0           3852.0  Major Arterial Road   \n",
       "\n",
       "   posted_speed  num_of_lane  lane_width  cluster  \n",
       "0          40.0          4.0    3.200000      2.0  \n",
       "1          60.0          6.0    3.866667      1.0  \n",
       "2          60.0          6.0    3.716667      1.0  \n",
       "3          60.0          6.0    4.000000      1.0  \n",
       "4          60.0          4.0    4.575000      3.0  "
      ]
     },
     "execution_count": 135,
     "metadata": {},
     "output_type": "execute_result"
    }
   ],
   "source": [
    "collision_events_drop = collision_events_drop[collision_events_drop.year >= 2008]\n",
    "collision_events_drop.head()"
   ]
  },
  {
   "cell_type": "code",
   "execution_count": 136,
   "metadata": {},
   "outputs": [
    {
     "data": {
      "text/plain": [
       "(45359, 16)"
      ]
     },
     "execution_count": 136,
     "metadata": {},
     "output_type": "execute_result"
    }
   ],
   "source": [
    "collision_events_drop.shape"
   ]
  },
  {
   "cell_type": "markdown",
   "metadata": {},
   "source": [
    "Creating a set of negative dataset. Aim to create about 3 times more negative samples as the positive samples, based on the papers that we've read. "
   ]
  },
  {
   "cell_type": "markdown",
   "metadata": {},
   "source": [
    "#### <u><a name=\"D1.5.1\">1.5.1 Cleaning Lookup Tables</a></u>"
   ]
  },
  {
   "cell_type": "code",
   "execution_count": 137,
   "metadata": {},
   "outputs": [],
   "source": [
    "lookup=pd.read_csv('_combined_lookup.csv').drop(['Unnamed: 0'],axis=1)\n",
    "lookup_weather = pd.read_csv('_weather_lookup.csv').drop(['Unnamed: 0'],axis=1)"
   ]
  },
  {
   "cell_type": "code",
   "execution_count": 138,
   "metadata": {},
   "outputs": [
    {
     "name": "stdout",
     "output_type": "stream",
     "text": [
      "(1317556, 14)\n",
      "(22308, 6)\n"
     ]
    }
   ],
   "source": [
    "print(lookup.shape)\n",
    "print(lookup_weather.shape)"
   ]
  },
  {
   "cell_type": "code",
   "execution_count": 139,
   "metadata": {},
   "outputs": [
    {
     "data": {
      "text/html": [
       "<div>\n",
       "<style scoped>\n",
       "    .dataframe tbody tr th:only-of-type {\n",
       "        vertical-align: middle;\n",
       "    }\n",
       "\n",
       "    .dataframe tbody tr th {\n",
       "        vertical-align: top;\n",
       "    }\n",
       "\n",
       "    .dataframe thead th {\n",
       "        text-align: right;\n",
       "    }\n",
       "</style>\n",
       "<table border=\"1\" class=\"dataframe\">\n",
       "  <thead>\n",
       "    <tr style=\"text-align: right;\">\n",
       "      <th></th>\n",
       "      <th>time_div</th>\n",
       "      <th>collision_date</th>\n",
       "      <th>cluster</th>\n",
       "      <th>hour</th>\n",
       "      <th>visibility</th>\n",
       "      <th>road_surface_cond</th>\n",
       "      <th>day_of_week</th>\n",
       "      <th>year</th>\n",
       "    </tr>\n",
       "  </thead>\n",
       "  <tbody>\n",
       "    <tr>\n",
       "      <th>0</th>\n",
       "      <td>afternoon</td>\n",
       "      <td>2008-01-01</td>\n",
       "      <td>1.0</td>\n",
       "      <td>14</td>\n",
       "      <td>CLEAR</td>\n",
       "      <td>LOOSE SNOW</td>\n",
       "      <td>weekday</td>\n",
       "      <td>2008</td>\n",
       "    </tr>\n",
       "    <tr>\n",
       "      <th>1</th>\n",
       "      <td>afternoon</td>\n",
       "      <td>2008-01-01</td>\n",
       "      <td>2.0</td>\n",
       "      <td>12</td>\n",
       "      <td>SNOW</td>\n",
       "      <td>LOOSE SNOW</td>\n",
       "      <td>weekday</td>\n",
       "      <td>2008</td>\n",
       "    </tr>\n",
       "    <tr>\n",
       "      <th>2</th>\n",
       "      <td>afternoon</td>\n",
       "      <td>2008-01-01</td>\n",
       "      <td>3.0</td>\n",
       "      <td>15</td>\n",
       "      <td>CLEAR</td>\n",
       "      <td>SLUSH</td>\n",
       "      <td>weekday</td>\n",
       "      <td>2008</td>\n",
       "    </tr>\n",
       "    <tr>\n",
       "      <th>3</th>\n",
       "      <td>afternoon</td>\n",
       "      <td>2008-01-02</td>\n",
       "      <td>0.0</td>\n",
       "      <td>17</td>\n",
       "      <td>CLEAR</td>\n",
       "      <td>DRY</td>\n",
       "      <td>weekday</td>\n",
       "      <td>2008</td>\n",
       "    </tr>\n",
       "    <tr>\n",
       "      <th>4</th>\n",
       "      <td>afternoon</td>\n",
       "      <td>2008-01-02</td>\n",
       "      <td>1.0</td>\n",
       "      <td>17</td>\n",
       "      <td>CLEAR</td>\n",
       "      <td>DRY</td>\n",
       "      <td>weekday</td>\n",
       "      <td>2008</td>\n",
       "    </tr>\n",
       "  </tbody>\n",
       "</table>\n",
       "</div>"
      ],
      "text/plain": [
       "    time_div collision_date  cluster  hour visibility road_surface_cond  \\\n",
       "0  afternoon     2008-01-01      1.0    14      CLEAR        LOOSE SNOW   \n",
       "1  afternoon     2008-01-01      2.0    12       SNOW        LOOSE SNOW   \n",
       "2  afternoon     2008-01-01      3.0    15      CLEAR             SLUSH   \n",
       "3  afternoon     2008-01-02      0.0    17      CLEAR               DRY   \n",
       "4  afternoon     2008-01-02      1.0    17      CLEAR               DRY   \n",
       "\n",
       "  day_of_week  year  \n",
       "0     weekday  2008  \n",
       "1     weekday  2008  \n",
       "2     weekday  2008  \n",
       "3     weekday  2008  \n",
       "4     weekday  2008  "
      ]
     },
     "execution_count": 139,
     "metadata": {},
     "output_type": "execute_result"
    }
   ],
   "source": [
    "lookup_weather_temp = lookup_weather.copy()\n",
    "lookup_weather_temp['collision_date']=pd.to_datetime(lookup_weather.collision_date)\n",
    "lookup_weather['day_of_week'] = lookup_weather_temp.collision_date.dt.dayofweek.apply(lambda x : 'weekday' if(x<5) else 'weekend')\n",
    "lookup_weather['year'] = lookup_weather_temp.collision_date.dt.year\n",
    "lookup_weather = lookup_weather[lookup_weather.year>=2008]\n",
    "lookup_weather_temp = None\n",
    "lookup_weather.head()"
   ]
  },
  {
   "cell_type": "code",
   "execution_count": 140,
   "metadata": {},
   "outputs": [],
   "source": [
    "#filling na values according to ontario regulation\n",
    "lookup.posted_spd =lookup.posted_spd.fillna(50.0);\n",
    "lookup.posted_spd=lookup.posted_spd.apply(lambda x: 50 if (x==0) else x);\n",
    "lookup.posted_spd=lookup.posted_spd.apply(lambda x: 40 if (x==4) else x);\n",
    "lookup.posted_spd=lookup.posted_spd.apply(lambda x: 30 if (x==3) else x);\n",
    "lookup.posted_spd=lookup.posted_spd.apply(lambda x: 60 if (x==59) else x);\n",
    "#filling na values with mean\n",
    "lookup.num_of_lane=lookup.num_of_lane.fillna(4.0);\n",
    "#filling na values with mean\n",
    "lookup.lane_width=lookup.lane_width.fillna(4.1);"
   ]
  },
  {
   "cell_type": "code",
   "execution_count": 141,
   "metadata": {},
   "outputs": [
    {
     "data": {
      "text/html": [
       "<div>\n",
       "<style scoped>\n",
       "    .dataframe tbody tr th:only-of-type {\n",
       "        vertical-align: middle;\n",
       "    }\n",
       "\n",
       "    .dataframe tbody tr th {\n",
       "        vertical-align: top;\n",
       "    }\n",
       "\n",
       "    .dataframe thead th {\n",
       "        text-align: right;\n",
       "    }\n",
       "</style>\n",
       "<table border=\"1\" class=\"dataframe\">\n",
       "  <thead>\n",
       "    <tr style=\"text-align: right;\">\n",
       "      <th></th>\n",
       "      <th>avg_volume_per_hour</th>\n",
       "      <th>centerline_id</th>\n",
       "      <th>class_type</th>\n",
       "      <th>day_of_week</th>\n",
       "      <th>hour</th>\n",
       "      <th>lane_width</th>\n",
       "      <th>latitude</th>\n",
       "      <th>longitude</th>\n",
       "      <th>num_of_lane</th>\n",
       "      <th>posted_spd</th>\n",
       "      <th>px</th>\n",
       "      <th>road_type</th>\n",
       "      <th>year</th>\n",
       "      <th>cluster</th>\n",
       "    </tr>\n",
       "  </thead>\n",
       "  <tbody>\n",
       "    <tr>\n",
       "      <th>24</th>\n",
       "      <td>7.0</td>\n",
       "      <td>117.0</td>\n",
       "      <td>Vehicles</td>\n",
       "      <td>weekday</td>\n",
       "      <td>0.0</td>\n",
       "      <td>4.25</td>\n",
       "      <td>43.718205</td>\n",
       "      <td>-79.367974</td>\n",
       "      <td>2.0</td>\n",
       "      <td>40.0</td>\n",
       "      <td>NaN</td>\n",
       "      <td>Local Road</td>\n",
       "      <td>2009.0</td>\n",
       "      <td>2</td>\n",
       "    </tr>\n",
       "    <tr>\n",
       "      <th>25</th>\n",
       "      <td>2.0</td>\n",
       "      <td>117.0</td>\n",
       "      <td>Vehicles</td>\n",
       "      <td>weekday</td>\n",
       "      <td>1.0</td>\n",
       "      <td>4.25</td>\n",
       "      <td>43.718205</td>\n",
       "      <td>-79.367974</td>\n",
       "      <td>2.0</td>\n",
       "      <td>40.0</td>\n",
       "      <td>NaN</td>\n",
       "      <td>Local Road</td>\n",
       "      <td>2009.0</td>\n",
       "      <td>2</td>\n",
       "    </tr>\n",
       "    <tr>\n",
       "      <th>26</th>\n",
       "      <td>0.0</td>\n",
       "      <td>117.0</td>\n",
       "      <td>Vehicles</td>\n",
       "      <td>weekday</td>\n",
       "      <td>2.0</td>\n",
       "      <td>4.25</td>\n",
       "      <td>43.718205</td>\n",
       "      <td>-79.367974</td>\n",
       "      <td>2.0</td>\n",
       "      <td>40.0</td>\n",
       "      <td>NaN</td>\n",
       "      <td>Local Road</td>\n",
       "      <td>2009.0</td>\n",
       "      <td>2</td>\n",
       "    </tr>\n",
       "    <tr>\n",
       "      <th>27</th>\n",
       "      <td>2.0</td>\n",
       "      <td>117.0</td>\n",
       "      <td>Vehicles</td>\n",
       "      <td>weekday</td>\n",
       "      <td>3.0</td>\n",
       "      <td>4.25</td>\n",
       "      <td>43.718205</td>\n",
       "      <td>-79.367974</td>\n",
       "      <td>2.0</td>\n",
       "      <td>40.0</td>\n",
       "      <td>NaN</td>\n",
       "      <td>Local Road</td>\n",
       "      <td>2009.0</td>\n",
       "      <td>2</td>\n",
       "    </tr>\n",
       "    <tr>\n",
       "      <th>28</th>\n",
       "      <td>4.0</td>\n",
       "      <td>117.0</td>\n",
       "      <td>Vehicles</td>\n",
       "      <td>weekday</td>\n",
       "      <td>4.0</td>\n",
       "      <td>4.25</td>\n",
       "      <td>43.718205</td>\n",
       "      <td>-79.367974</td>\n",
       "      <td>2.0</td>\n",
       "      <td>40.0</td>\n",
       "      <td>NaN</td>\n",
       "      <td>Local Road</td>\n",
       "      <td>2009.0</td>\n",
       "      <td>2</td>\n",
       "    </tr>\n",
       "  </tbody>\n",
       "</table>\n",
       "</div>"
      ],
      "text/plain": [
       "    avg_volume_per_hour  centerline_id class_type day_of_week  hour  \\\n",
       "24                  7.0          117.0   Vehicles     weekday   0.0   \n",
       "25                  2.0          117.0   Vehicles     weekday   1.0   \n",
       "26                  0.0          117.0   Vehicles     weekday   2.0   \n",
       "27                  2.0          117.0   Vehicles     weekday   3.0   \n",
       "28                  4.0          117.0   Vehicles     weekday   4.0   \n",
       "\n",
       "    lane_width   latitude  longitude  num_of_lane  posted_spd  px   road_type  \\\n",
       "24        4.25  43.718205 -79.367974          2.0        40.0 NaN  Local Road   \n",
       "25        4.25  43.718205 -79.367974          2.0        40.0 NaN  Local Road   \n",
       "26        4.25  43.718205 -79.367974          2.0        40.0 NaN  Local Road   \n",
       "27        4.25  43.718205 -79.367974          2.0        40.0 NaN  Local Road   \n",
       "28        4.25  43.718205 -79.367974          2.0        40.0 NaN  Local Road   \n",
       "\n",
       "      year  cluster  \n",
       "24  2009.0        2  \n",
       "25  2009.0        2  \n",
       "26  2009.0        2  \n",
       "27  2009.0        2  \n",
       "28  2009.0        2  "
      ]
     },
     "execution_count": 141,
     "metadata": {},
     "output_type": "execute_result"
    }
   ],
   "source": [
    "lookup = lookup[lookup.year>=2008]\n",
    "\n",
    "#only include motor vehicle collisions\n",
    "lookup = lookup[lookup.class_type == 'Vehicles']\n",
    "lookup.head()"
   ]
  },
  {
   "cell_type": "code",
   "execution_count": 142,
   "metadata": {},
   "outputs": [
    {
     "name": "stdout",
     "output_type": "stream",
     "text": [
      "(463368, 14)\n",
      "(22308, 8)\n"
     ]
    }
   ],
   "source": [
    "print(lookup.shape)\n",
    "print(lookup_weather.shape)"
   ]
  },
  {
   "cell_type": "code",
   "execution_count": 143,
   "metadata": {},
   "outputs": [],
   "source": [
    "#set unique location keys:\n",
    "lookup.px=lookup.px.fillna('not_intersection')\n",
    "lookup = lookup.set_index(['px', 'centerline_id', 'cluster','hour','day_of_week','year'])\n",
    "lookup['location_id'] = lookup.index.tolist()\n",
    "lookup = lookup.reset_index(['px', 'centerline_id', 'cluster','hour','day_of_week','year'])\n",
    "location_id_list=lookup.location_id.unique()"
   ]
  },
  {
   "cell_type": "code",
   "execution_count": 144,
   "metadata": {},
   "outputs": [],
   "source": [
    "#set unique time keys:\n",
    "lookup_weather = lookup_weather.set_index(['collision_date', 'time_div','cluster'])\n",
    "lookup_weather['time_id'] = lookup_weather.index.tolist()\n",
    "lookup_weather = lookup_weather.reset_index(['collision_date', 'time_div','cluster'])"
   ]
  },
  {
   "cell_type": "code",
   "execution_count": 145,
   "metadata": {},
   "outputs": [],
   "source": [
    "#set unique keys in collision data:\n",
    "collision_events_drop.px=collision_events_drop.px.fillna('not_intersection')\n",
    "collision_events_drop = collision_events_drop.set_index(['px', 'centerline_id', 'cluster','hour','day_of_week','collision_date'])\n",
    "collision_events_drop['unique_id'] = collision_events_drop.index.tolist()\n",
    "collision_events_drop = collision_events_drop.reset_index(['px', 'centerline_id', 'cluster','hour','day_of_week','collision_date'])"
   ]
  },
  {
   "cell_type": "code",
   "execution_count": 146,
   "metadata": {},
   "outputs": [],
   "source": [
    "def time_div_func (x):\n",
    "    if (0<=x<6): div='dawn'\n",
    "    elif (6<=x<12):div='morn'\n",
    "    elif (12<=x<18): div='afternoon'\n",
    "    elif  (18<=x): div='dusk'\n",
    "    return div"
   ]
  },
  {
   "cell_type": "markdown",
   "metadata": {},
   "source": [
    "#### <u><a name=\"D1.5.2\">1.5.2 Negative Sample Generator</a></u>"
   ]
  },
  {
   "cell_type": "code",
   "execution_count": 147,
   "metadata": {},
   "outputs": [],
   "source": [
    "%%skip $marking\n",
    "\n",
    "negative_samples = []\n",
    "j=0\n",
    "for i in range (2):\n",
    "    #select location for spacial data:\n",
    "    ID=random.randint(0,len(location_id_list)-1)\n",
    "    location_id =location_id_list[ID]\n",
    "\n",
    "    cluster = location_id_list[ID][2]\n",
    "    time_div = 'morn'\n",
    "    day_of_week = location_id_list[ID][4]\n",
    "    year = location_id_list[ID][5]\n",
    "\n",
    "\n",
    "    #select date for weather data:\n",
    "    lookup_weather_possible = lookup_weather[(lookup_weather.cluster == cluster) & (lookup_weather.time_div == time_div) & (lookup_weather.day_of_week== day_of_week) & (lookup_weather.year == year) ].time_id.values\n",
    "    if len(lookup_weather_possible) > 0:\n",
    "        ID3=random.randint(0,len(lookup_weather_possible)-1)\n",
    "        weather_id = lookup_weather_possible[ID3]\n",
    "        unique_id = (location_id[0],location_id[1],location_id[2],location_id[3],location_id[4],weather_id[0])\n",
    "        find = len(collision_events_drop[collision_events_drop.unique_id == unique_id])\n",
    "    else:\n",
    "        find = 1\n",
    "        \n",
    "    if (find == 0) and ([location_id,weather_id] not in negative_samples) :\n",
    "        negative_samples.append([location_id,weather_id])\n",
    "        \n",
    "    j+=1    \n",
    "    if (j==500):\n",
    "        clear_output()\n",
    "        j=0\n",
    "        print(i)\n",
    "        print(len(negative_samples))"
   ]
  },
  {
   "cell_type": "code",
   "execution_count": 148,
   "metadata": {},
   "outputs": [],
   "source": [
    "%%skip $marking\n",
    "\n",
    "len(negative_samples)"
   ]
  },
  {
   "cell_type": "code",
   "execution_count": 149,
   "metadata": {},
   "outputs": [],
   "source": [
    "%%skip $marking\n",
    "\n",
    "collision_events_all=collision_events_drop.drop(columns='unique_id')\n",
    "collision_events_all['target'] = 1"
   ]
  },
  {
   "cell_type": "code",
   "execution_count": 150,
   "metadata": {},
   "outputs": [],
   "source": [
    "%%skip $marking\n",
    "\n",
    "j=0\n",
    "for i in range(len(negative_samples)):\n",
    "\n",
    "    location = lookup[lookup.location_id == negative_samples[i][0]]\n",
    "    weather = lookup_weather[lookup_weather.time_id == negative_samples[i][1]]\n",
    "\n",
    "    collision_events_all = collision_events_all.append({'px':negative_samples[i][0][0],\n",
    "                                                        'centerline_id':negative_samples[i][0][1],\n",
    "                                                        'cluster':negative_samples[i][0][2],\n",
    "                                                        'hour':negative_samples[i][0][3],\n",
    "                                                        'day_of_week': negative_samples[i][0][4],\n",
    "                                                        'collision_date':weather.collision_date.values[0],\n",
    "                                                        'visibility':weather.visibility.values[0],\n",
    "                                                        'road_surface_cond':weather.road_surface_cond.values[0],\n",
    "                                                        'volume_data_veh':location.avg_volume_per_hour.values[0],\n",
    "                                                        'road_type':location.road_type.values[0],\n",
    "                                                        'posted_speed':location.posted_spd.values[0],\n",
    "                                                        'num_of_lane':location.num_of_lane.values[0],\n",
    "                                                        'lane_width':location.lane_width.values[0],\n",
    "                                                        'longitude':location.longitude.values[0],\n",
    "                                                        'latitude':location.latitude.values[0],\n",
    "                                                        'target':0},ignore_index=True)\n",
    "    j+=1    \n",
    "    if (j==500):\n",
    "        clear_output()\n",
    "        j=0\n",
    "        print(i)                                       "
   ]
  },
  {
   "cell_type": "code",
   "execution_count": 151,
   "metadata": {},
   "outputs": [],
   "source": [
    "%%skip $marking\n",
    "\n",
    "collision_events_all['month']=collision_events_all.collision_date.apply(lambda x: str(x)[5:7])\n",
    "collision_events_all['year']=collision_events_all.collision_date.apply(lambda x: str(x)[0:4])"
   ]
  },
  {
   "cell_type": "code",
   "execution_count": 152,
   "metadata": {},
   "outputs": [],
   "source": [
    "%%skip $marking\n",
    "\n",
    "collision_events_all"
   ]
  },
  {
   "cell_type": "code",
   "execution_count": 153,
   "metadata": {},
   "outputs": [],
   "source": [
    "%%skip $marking\n",
    "\n",
    "for parameter in collision_events_all:\n",
    "    print(parameter, ',', collision_events_all[parameter].hasnans, ',', collision_events_all[parameter].isna().sum())"
   ]
  },
  {
   "cell_type": "code",
   "execution_count": 154,
   "metadata": {},
   "outputs": [],
   "source": [
    "%%skip $marking\n",
    "\n",
    "drop=list(collision_events_all)\n",
    "collision_events_all=collision_events_all.dropna(subset=drop)"
   ]
  },
  {
   "cell_type": "code",
   "execution_count": 155,
   "metadata": {},
   "outputs": [],
   "source": [
    "%%skip $marking\n",
    "\n",
    "collision_events_all.to_csv('_collisions_events_processed_v7.csv')\n",
    "del collision_events_all"
   ]
  },
  {
   "cell_type": "markdown",
   "metadata": {},
   "source": [
    "#### <u><a name=\"D1.5.3\">1.5.3 Perform K-Clustering on the Full Dataset</a></u>"
   ]
  },
  {
   "cell_type": "code",
   "execution_count": 156,
   "metadata": {},
   "outputs": [],
   "source": [
    "collision_events_all=pd.read_csv('_collisions_events_processed_v7.csv')"
   ]
  },
  {
   "cell_type": "code",
   "execution_count": 157,
   "metadata": {},
   "outputs": [
    {
     "data": {
      "text/plain": [
       "<matplotlib.collections.PathCollection at 0x7f6c131ae470>"
      ]
     },
     "execution_count": 157,
     "metadata": {},
     "output_type": "execute_result"
    },
    {
     "data": {
      "image/png": "[encoded data removed]",
      "text/plain": [
       "<Figure size 1296x720 with 1 Axes>"
      ]
     },
     "metadata": {
      "needs_background": "light"
     },
     "output_type": "display_data"
    }
   ],
   "source": [
    "X=collision_events_all.loc[:,['longitude','latitude']].values\n",
    "\n",
    "plt.figure(figsize=(18,10))\n",
    "plt.scatter(X[:,0],X[:,1], s =10)"
   ]
  },
  {
   "cell_type": "code",
   "execution_count": 158,
   "metadata": {
    "scrolled": true
   },
   "outputs": [],
   "source": [
    "%%skip $marking\n",
    "# Plotting the Clusters and its Centroids\n",
    "cluster_list=[4,10,20,30,40]\n",
    "for j in cluster_list:\n",
    "    num_clusters = j\n",
    "    k_cluster = []\n",
    "    k_grouping = []\n",
    "\n",
    "    cycle = plt.get_cmap(\"gist_earth\")\n",
    "\n",
    "    kmeans = KMeans(n_clusters = num_clusters, init = 'k-means++', max_iter = 300, n_init =11, random_state =0)\n",
    "    y_kmeans = kmeans.fit_predict(X)\n",
    "    plt.figure(figsize=(18,10))\n",
    "    plt.title('K = '+str(j))\n",
    "    for i in range(num_clusters):\n",
    "        k_cluster = [kmeans.cluster_centers_[:,0], kmeans.cluster_centers_[:,1]]\n",
    "        plt.scatter(X[y_kmeans == i,0], X[y_kmeans == i,1], s=5, c=cycle(i*5), label = 'Cluster 1')\n",
    "        plt.scatter(kmeans.cluster_centers_[i,0], kmeans.cluster_centers_[i,1], s=500, c = 'red', marker = 'x', label = 'Centroids') \n",
    "\n",
    "    plt.show()\n",
    "\n",
    "    # Dataset with a new column \"Cluster\"\n",
    "    collision_events_all['k_cluster'] = pd.Series(y_kmeans)\n",
    "    collision_events_all_to_export = collision_events_all.drop(columns=['px','centerline_id','collision_date','year','cluster','Unnamed: 0',])\n",
    "    collision_events_all_to_export.to_csv('_collisions_events_processed_v7_k'+str(j)+'.csv')"
   ]
  },
  {
   "cell_type": "markdown",
   "metadata": {},
   "source": [
    "###  <u><a name=\"DV\">2.0 Data Visualization</a></u>"
   ]
  },
  {
   "cell_type": "code",
   "execution_count": 159,
   "metadata": {},
   "outputs": [],
   "source": [
    "collision_events_plot = pd.read_csv('_collisions_events_processed_v7_k'+str(4)+'.csv')\n",
    "collision_events_all_plot=pd.read_csv('_collisions_events_processed.csv', low_memory=False)"
   ]
  },
  {
   "cell_type": "code",
   "execution_count": 160,
   "metadata": {},
   "outputs": [],
   "source": [
    "# defining bar plot with two bars ploting functions:\n",
    "def plot_two_bar(neg, pos, labels, Title,width=0.4):\n",
    "    \n",
    "    fig, ax = plt.subplots()\n",
    "    \n",
    "    ind = np.arange(len(labels))    \n",
    "    width = 0.45\n",
    "\n",
    "    p1 = plt.bar(ind, neg, width,alpha= 0.8,label='No Collision')\n",
    "    p2 = plt.bar(ind, pos, width,color='indianred',alpha= 0.8, bottom=neg,label='Collision')\n",
    "    \n",
    "    plt.title(Title, fontsize=16)\n",
    "    plt.xticks(ind, labels)\n",
    "    plt.xticks(rotation=-75)\n",
    "    plt.legend()"
   ]
  },
  {
   "cell_type": "code",
   "execution_count": 161,
   "metadata": {},
   "outputs": [],
   "source": [
    "# Defining bar plot plotting functions:\n",
    "def plot_one_bar(value, labels, Title,ylabel,xlabel, width=0.4):\n",
    "    \n",
    "    fig, ax = plt.subplots()\n",
    "    \n",
    "    ind = np.arange(len(labels))    \n",
    "    width = 0.45\n",
    "\n",
    "    p1 = plt.bar(ind, value, width,alpha= 0.8)\n",
    "\n",
    "    plt.ylabel(ylabel)\n",
    "    plt.xlabel(xlabel)\n",
    "    plt.title(Title, fontsize=16)\n",
    "    plt.xticks(ind, labels)\n",
    "    plt.xticks(rotation=-75)"
   ]
  },
  {
   "cell_type": "code",
   "execution_count": 162,
   "metadata": {},
   "outputs": [
    {
     "name": "stdout",
     "output_type": "stream",
     "text": [
      "Total number accident: 486697\n"
     ]
    },
    {
     "data": {
      "image/png": "[encoded data removed]",
      "text/plain": [
       "<Figure size 432x288 with 1 Axes>"
      ]
     },
     "metadata": {
      "needs_background": "light"
     },
     "output_type": "display_data"
    }
   ],
   "source": [
    "collision_events_all_dist = collision_events_all_plot.groupby(by='year', as_index=False).agg({'collision_date': pd.Series.count})\n",
    "Title = 'Numbers of Collision from 2008 to 2017'\n",
    "ylabel = 'Number of Collisions'\n",
    "xlabel = \"Year\"\n",
    "\n",
    "plot_one_bar(collision_events_all_dist['collision_date'], collision_events_all_dist['year'], Title, ylabel,xlabel)\n",
    "print('Total number accident: '+ str(collision_events_all_dist['collision_date'].sum()))"
   ]
  },
  {
   "cell_type": "code",
   "execution_count": 163,
   "metadata": {
    "scrolled": true
   },
   "outputs": [
    {
     "data": {
      "image/png": "[encoded data removed]",
      "text/plain": [
       "<Figure size 432x288 with 1 Axes>"
      ]
     },
     "metadata": {
      "needs_background": "light"
     },
     "output_type": "display_data"
    }
   ],
   "source": [
    "collision_events_dist = pd.pivot_table(collision_events_plot, values='Unnamed: 0', index=['month'], columns=['target'], aggfunc='count')\n",
    "collision_events_dist= collision_events_dist.reset_index()\n",
    "neg = collision_events_dist[0]\n",
    "pos = collision_events_dist[1]\n",
    "labels = collision_events_dist['month']\n",
    "Title = 'd) Month'\n",
    "\n",
    "plot_two_bar(neg, pos, labels, Title)"
   ]
  },
  {
   "cell_type": "code",
   "execution_count": 164,
   "metadata": {},
   "outputs": [
    {
     "data": {
      "image/png": "[encoded data removed]",
      "text/plain": [
       "<Figure size 432x288 with 1 Axes>"
      ]
     },
     "metadata": {
      "needs_background": "light"
     },
     "output_type": "display_data"
    }
   ],
   "source": [
    "collision_events_dist = pd.pivot_table(collision_events_plot, values='longitude', index=['posted_speed'], columns=['target'], aggfunc='count')\n",
    "collision_events_dist= collision_events_dist.reset_index()\n",
    "neg = collision_events_dist[0]\n",
    "pos = collision_events_dist[1]\n",
    "labels = collision_events_dist['posted_speed']\n",
    "Title = 'f) Posted Speed'\n",
    "\n",
    "plot_two_bar(neg, pos, labels, Title)"
   ]
  },
  {
   "cell_type": "code",
   "execution_count": 165,
   "metadata": {},
   "outputs": [
    {
     "data": {
      "image/png": "[encoded data removed]",
      "text/plain": [
       "<Figure size 432x288 with 1 Axes>"
      ]
     },
     "metadata": {
      "needs_background": "light"
     },
     "output_type": "display_data"
    }
   ],
   "source": [
    "collision_events_dist = pd.pivot_table(collision_events_plot, values='Unnamed: 0', index=['road_type'], columns=['target'], aggfunc='count')\n",
    "collision_events_dist= collision_events_dist.reset_index()\n",
    "neg = collision_events_dist[0]\n",
    "pos = collision_events_dist[1]\n",
    "labels = collision_events_dist['road_type']\n",
    "Title = 'a) Road Type'\n",
    "\n",
    "plot_two_bar(neg, pos, labels, Title)"
   ]
  },
  {
   "cell_type": "code",
   "execution_count": 166,
   "metadata": {},
   "outputs": [
    {
     "data": {
      "image/png": "[encoded data removed]",
      "text/plain": [
       "<Figure size 432x288 with 1 Axes>"
      ]
     },
     "metadata": {
      "needs_background": "light"
     },
     "output_type": "display_data"
    }
   ],
   "source": [
    "collision_events_dist = pd.pivot_table(collision_events_plot, values='Unnamed: 0', index=['num_of_lane'], columns=['target'], aggfunc='count')\n",
    "collision_events_dist= collision_events_dist.reset_index()\n",
    "neg = collision_events_dist[0]\n",
    "pos = collision_events_dist[1]\n",
    "labels = collision_events_dist['num_of_lane']\n",
    "Title = 'b) Number of Lane'\n",
    "\n",
    "plot_two_bar(neg, pos, labels, Title)"
   ]
  },
  {
   "cell_type": "code",
   "execution_count": 167,
   "metadata": {},
   "outputs": [
    {
     "data": {
      "image/png": "[encoded data removed]",
      "text/plain": [
       "<Figure size 432x288 with 1 Axes>"
      ]
     },
     "metadata": {
      "needs_background": "light"
     },
     "output_type": "display_data"
    }
   ],
   "source": [
    "collision_events_dist = pd.pivot_table(collision_events_plot, values='Unnamed: 0', index=['day_of_week'], columns=['target'], aggfunc='count')\n",
    "collision_events_dist= collision_events_dist.reset_index()\n",
    "neg = collision_events_dist[0]\n",
    "pos = collision_events_dist[1]\n",
    "labels = collision_events_dist['day_of_week']\n",
    "Title = 'e) Day of Week'\n",
    "\n",
    "plot_two_bar(neg, pos, labels, Title)"
   ]
  },
  {
   "cell_type": "code",
   "execution_count": 168,
   "metadata": {},
   "outputs": [
    {
     "data": {
      "image/png": "[encoded data removed]",
      "text/plain": [
       "<Figure size 432x288 with 1 Axes>"
      ]
     },
     "metadata": {
      "needs_background": "light"
     },
     "output_type": "display_data"
    }
   ],
   "source": [
    "collision_events_dist = pd.pivot_table(collision_events_plot, values='Unnamed: 0', index=['k_cluster'], columns=['target'], aggfunc='count')\n",
    "collision_events_dist= collision_events_dist.reset_index()\n",
    "neg = collision_events_dist[0]\n",
    "pos = collision_events_dist[1]\n",
    "labels = collision_events_dist['k_cluster']\n",
    "Title = 'c) k-cluster'\n",
    "\n",
    "plot_two_bar(neg, pos, labels, Title)"
   ]
  },
  {
   "cell_type": "markdown",
   "metadata": {},
   "source": [
    "## <u><a name=\"MI\">3.0 Model Implemtation</a></u>\n"
   ]
  },
  {
   "cell_type": "markdown",
   "metadata": {},
   "source": [
    "In this section, we examine which classifier model should be implemented. Given this dataset is very computationally intensive, we only compare two classifiers that was identified to have the potential to perform well through literature review. For each of the classifer, the effect of different K clusters are also evaluated. The classifer and number of K clusters that is shown to be better will be selected for traffic accident classifer, and then further tuned with random grid search.\n",
    "\n",
    "The models are stored in a  `.pickle` file so that they may persist after the notebook is closed, and can be read in when needed.\n",
    "\n",
    "The training of the model are recommended to be skipped given that it is computationally expensive to train the classifers. "
   ]
  },
  {
   "cell_type": "markdown",
   "metadata": {},
   "source": [
    "\n",
    "### <u><a name=\"MI3.1\">3.1 Random Forest</a></u>"
   ]
  },
  {
   "cell_type": "code",
   "execution_count": 169,
   "metadata": {},
   "outputs": [
    {
     "name": "stdout",
     "output_type": "stream",
     "text": [
      "/home/richard/.local/lib/python2.7/site-packages/pip/_vendor/requests/__init__.py:83: RequestsDependencyWarning: Old version of cryptography ([1, 2, 3]) may cause slowdown.\n",
      "  warnings.warn(warning, RequestsDependencyWarning)\n",
      "Requirement already satisfied: joblib in /usr/lib/python2.7/dist-packages (0.9.4)\n"
     ]
    }
   ],
   "source": [
    "!pip install joblib\n",
    "\n",
    "import pandas as pd\n",
    "import numpy as np\n",
    "import matplotlib.pyplot as plt\n",
    "import seaborn as sns\n",
    "\n",
    "from joblib import dump, load\n",
    "sns.set_style('whitegrid')\n",
    "%matplotlib inline\n",
    "\n",
    "import time\n",
    "import pickle\n",
    "\n",
    "from sklearn.ensemble import RandomForestClassifier\n",
    "from sklearn.ensemble import RandomForestRegressor\n",
    "from sklearn.model_selection import train_test_split\n",
    "from sklearn.metrics import classification_report, confusion_matrix, accuracy_score\n",
    "from sklearn.preprocessing import MinMaxScaler\n",
    "from sklearn.model_selection import cross_val_score"
   ]
  },
  {
   "cell_type": "markdown",
   "metadata": {},
   "source": [
    "####  <u><a name=\"MI3.1.1\">3.1.1 Model Fitting</a></u>"
   ]
  },
  {
   "cell_type": "markdown",
   "metadata": {},
   "source": [
    "We represent categorical features as binary with dummy variables here because scikit-learn only takes in numercial inputs. The categories are weekday/weekend, visibility, road_surface condition, road_type, month, hour and K_cluster. The numerical features are vehicle traffic volume, lane width, number of lanes, and posted speed limit."
   ]
  },
  {
   "cell_type": "code",
   "execution_count": 170,
   "metadata": {},
   "outputs": [],
   "source": [
    "%%skip $marking\n",
    "cluster_list=[4,10,20,30,40] # \n",
    "for j in cluster_list:\n",
    "    #Read the corresponding CSV file:\n",
    "    df = pd.read_csv('_collisions_events_processed_v7_k'+str(j)+'.csv')\n",
    "    df=df.drop(columns=['Unnamed: 0'],axis=1)\n",
    "    df.rename(columns={'day_of_week':'day',\n",
    "                       'classed_visibility':'visibility',\n",
    "                       'num_of_lane':'lane_num'}, \n",
    "                     inplace=True)\n",
    "    \n",
    "    # Change all text data to lower case letters:\n",
    "    df['day']=df['day'].apply(lambda x: x.lower())\n",
    "    df['visibility']=df['visibility'].apply(lambda x: x.lower())\n",
    "    df['road_surface_cond']=df['road_surface_cond'].apply(lambda x: x.lower())\n",
    "    df['road_type']=df['road_type'].apply(lambda x: x.lower())\n",
    "    \n",
    "    # Discritize all categorical data into binary data:\n",
    "    df['day']=pd.Categorical(df['day'])\n",
    "    dfday = pd.get_dummies(df['day'])\n",
    "    df=pd.concat([dfday['weekday'],df], axis=1)\n",
    "\n",
    "    df['visibility']=pd.Categorical(df['visibility'])\n",
    "    dfvisibility = pd.get_dummies(df['visibility'],prefix = 'visibility')\n",
    "    df=pd.concat([dfvisibility,df], axis=1)\n",
    "\n",
    "    df['road_surface_cond']=pd.Categorical(df['road_surface_cond'])\n",
    "    dfroad_surface = pd.get_dummies(df['road_surface_cond'],prefix = 'road_surface')\n",
    "    df=pd.concat([dfroad_surface,df], axis=1)\n",
    "\n",
    "    df['road_type']=pd.Categorical(df['road_type'])\n",
    "    dfroad_type = pd.get_dummies(df['road_type'],prefix = 'road_type')\n",
    "    df=pd.concat([dfroad_type,df], axis=1)\n",
    "\n",
    "    df['month']=pd.Categorical(df['month'])\n",
    "    dfroad_type = pd.get_dummies(df['month'],prefix = 'month')\n",
    "    df=pd.concat([dfroad_type,df], axis=1)\n",
    "\n",
    "    df['k_cluster']=pd.Categorical(df['k_cluster'])\n",
    "    dfroad_type = pd.get_dummies(df['k_cluster'],prefix = 'k_cluster')\n",
    "    df=pd.concat([dfroad_type,df], axis=1)\n",
    "\n",
    "    df['hour']=pd.Categorical(df['hour'])\n",
    "    dfroad_type = pd.get_dummies(df['hour'],prefix = 'hour')\n",
    "    df=pd.concat([dfroad_type,df], axis=1)\n",
    "\n",
    "    #dropping data that was discritized\n",
    "    df=df.drop(columns=['day', 'road_type', 'visibility', 'road_surface_cond', 'k_cluster', 'hour', 'month','longitude','latitude'])\n",
    "    \n",
    "    # Define target and input features:\n",
    "    X = df.iloc[:, 0:-1].values  \n",
    "    y = df.iloc[:, -1].values\n",
    "\n",
    "    # Split data into 2/3 training and 1/3 testing data:\n",
    "    X_train, X_test, y_train, y_test = train_test_split(X, y, test_size=0.33, random_state=42) \n",
    "    start = time.clock()\n",
    "    \n",
    "    #fitting the model\n",
    "    clf = RandomForestClassifier(n_estimators=500, random_state=42)  \n",
    "    clf.fit(X_train, y_train) \n",
    "    \n",
    "    #evaluating the model\n",
    "    y_pred = clf.predict(X_test)\n",
    "    \n",
    "    #printint out model runtimes\n",
    "    print(\"For K=\"+str(j))\n",
    "    print('runtime: '+str(time.clock() - start)+'\\n')\n",
    "    \n",
    "    #pickling the model outputs\n",
    "    tmp_pickle_df='_rf_k'+str(j)+'df.pickle'\n",
    "    pickle_out = open(tmp_pickle_df,'wb')\n",
    "    pickle.dump(df, pickle_out)\n",
    "    pickle_out.close()\n",
    "    \n",
    "    tmp_pickle_test='_rf_k'+str(j)+'y_test.pickle'\n",
    "    pickle_out = open(tmp_pickle_test,'wb')\n",
    "    pickle.dump(y_test, pickle_out)\n",
    "    pickle_out.close()\n",
    "    \n",
    "    tmp_pickle_pred='_rf_k'+str(j)+'y_pred.pickle'\n",
    "    pickle_out = open(tmp_pickle_pred,'wb')\n",
    "    pickle.dump(y_pred, pickle_out)\n",
    "    pickle_out.close()\n",
    "    \n",
    "    tmp_joblib='_rf_k'+str(j)+'.joblib'\n",
    "    dump(clf, tmp_joblib)"
   ]
  },
  {
   "cell_type": "markdown",
   "metadata": {},
   "source": [
    "#### <u><a name=\"MI3.1.2\">3.1.2 Presenting Model Results</a></u>"
   ]
  },
  {
   "cell_type": "markdown",
   "metadata": {},
   "source": [
    "Here we present the overall accuracy and classification report of different clusters. The recall score of a  collision is what we are most interested in, as a traffic accident predictor should catch as much accidents as possible."
   ]
  },
  {
   "cell_type": "code",
   "execution_count": 171,
   "metadata": {
    "scrolled": false
   },
   "outputs": [
    {
     "name": "stdout",
     "output_type": "stream",
     "text": [
      "For K=4\n",
      "Accuracy: 0.90001\n",
      "              precision    recall  f1-score   support\n",
      "\n",
      "no collision    0.91264   0.96395   0.93759     52322\n",
      "   collision    0.84133   0.67440   0.74867     14828\n",
      "\n",
      "   micro avg    0.90001   0.90001   0.90001     67150\n",
      "   macro avg    0.87698   0.81918   0.84313     67150\n",
      "weighted avg    0.89689   0.90001   0.89588     67150\n",
      "\n",
      "For K=10\n",
      "Accuracy: 0.90463\n",
      "              precision    recall  f1-score   support\n",
      "\n",
      "no collision    0.91493   0.96757   0.94051     52322\n",
      "   collision    0.85641   0.68256   0.75966     14828\n",
      "\n",
      "   micro avg    0.90463   0.90463   0.90463     67150\n",
      "   macro avg    0.88567   0.82506   0.85009     67150\n",
      "weighted avg    0.90201   0.90463   0.90058     67150\n",
      "\n",
      "For K=20\n",
      "Accuracy: 0.90509\n",
      "              precision    recall  f1-score   support\n",
      "\n",
      "no collision    0.91505   0.96806   0.94081     52322\n",
      "   collision    0.85835   0.68290   0.76064     14828\n",
      "\n",
      "   micro avg    0.90509   0.90509   0.90509     67150\n",
      "   macro avg    0.88670   0.82548   0.85073     67150\n",
      "weighted avg    0.90253   0.90509   0.90103     67150\n",
      "\n",
      "For K=30\n",
      "Accuracy: 0.90603\n",
      "              precision    recall  f1-score   support\n",
      "\n",
      "no collision    0.91592   0.96829   0.94138     52322\n",
      "   collision    0.85983   0.68634   0.76335     14828\n",
      "\n",
      "   micro avg    0.90603   0.90603   0.90603     67150\n",
      "   macro avg    0.88788   0.82731   0.85236     67150\n",
      "weighted avg    0.90353   0.90603   0.90207     67150\n",
      "\n",
      "For K=40\n",
      "Accuracy: 0.90627\n",
      "              precision    recall  f1-score   support\n",
      "\n",
      "no collision    0.91614   0.96835   0.94152     52322\n",
      "   collision    0.86021   0.68721   0.76404     14828\n",
      "\n",
      "   micro avg    0.90627   0.90627   0.90627     67150\n",
      "   macro avg    0.88817   0.82778   0.85278     67150\n",
      "weighted avg    0.90379   0.90627   0.90233     67150\n",
      "\n"
     ]
    }
   ],
   "source": [
    "cluster_list=[4,10,20,30,40]\n",
    "for j in cluster_list:\n",
    "    \n",
    "    #reading in pickled data files\n",
    "    tmp_pickle_test='_rf_k'+str(j)+'y_test.pickle'\n",
    "    pickle_in = open(tmp_pickle_test,'rb')\n",
    "    y_test = pickle.load(pickle_in)\n",
    "    pickle_in.close()\n",
    "    \n",
    "    tmp_pickle_pred='_rf_k'+str(j)+'y_pred.pickle'\n",
    "    pickle_in = open(tmp_pickle_pred,'rb')\n",
    "    y_pred = pickle.load(pickle_in)\n",
    "    pickle_in.close()\n",
    "    \n",
    "    #printint model results\n",
    "    print(\"For K=\"+str(j))\n",
    "    print(\"Accuracy: %0.5f\" % accuracy_score(y_test, y_pred))\n",
    "    print(classification_report(y_test,y_pred, digits=5,target_names=['no collision','collision']))\n",
    "    "
   ]
  },
  {
   "cell_type": "markdown",
   "metadata": {},
   "source": [
    "We perform cross validation for the cross validated accuracy for model with different clusters."
   ]
  },
  {
   "cell_type": "code",
   "execution_count": 172,
   "metadata": {},
   "outputs": [],
   "source": [
    "%%skip $marking\n",
    "cluster_list=[4,10,20,30,40]\n",
    "for j in cluster_list:\n",
    "    \n",
    "    #reading in pickled data files\n",
    "    tmp_pickle_df='_rf_k'+str(j)+'df.pickle'\n",
    "    pickle_in = open(tmp_pickle_df,'rb')\n",
    "    df=pickle.load(pickle_in)\n",
    "    pickle_in.close()\n",
    "    \n",
    "    tmp='_rf_k'+str(j)+'.joblib'\n",
    "    clf=load(tmp)\n",
    "    \n",
    "    #performing cross validation\n",
    "    X = df.iloc[:, 0:-1].values  \n",
    "    y = df.iloc[:, -1].values\n",
    "    print(\"... starting cross-validating for k=\"+str(j))\n",
    "    start = time.clock()\n",
    "    scores = cross_val_score(clf, X, y, cv=3)\n",
    "    print('runtime: '+str(time.clock() - start)+'\\n')\n",
    "    \n",
    "    #pickling cross validation result\n",
    "    tmp_score='_rf_k'+str(j)+'cv_score.pickle'\n",
    "    pickle_out = open(tmp_score,'wb')\n",
    "    pickle.dump(scores, pickle_out)\n",
    "    pickle_out.close()"
   ]
  },
  {
   "cell_type": "code",
   "execution_count": 173,
   "metadata": {},
   "outputs": [
    {
     "name": "stdout",
     "output_type": "stream",
     "text": [
      "For K=4 Cross Validated Accuracy: 0.88 (+/- 0.06)\n",
      "For K=10 Cross Validated Accuracy: 0.88 (+/- 0.06)\n",
      "For K=20 Cross Validated Accuracy: 0.88 (+/- 0.06)\n",
      "For K=30 Cross Validated Accuracy: 0.88 (+/- 0.06)\n",
      "For K=40 Cross Validated Accuracy: 0.89 (+/- 0.07)\n"
     ]
    }
   ],
   "source": [
    "cluster_list=[4,10,20,30,40]\n",
    "for j in cluster_list:\n",
    "    \n",
    "    #reading in picklied cross validation result\n",
    "    tmp_score='_rf_k'+str(j)+'cv_score.pickle'\n",
    "    pickle_in = open(tmp_score,'rb')\n",
    "    scores = pickle.load(pickle_in)\n",
    "    pickle_in.close()\n",
    "    \n",
    "    #printint cross validation results\n",
    "    print(\"For K=\"+str(j)+\" Cross Validated Accuracy: %0.2f (+/- %0.2f)\" % (scores.mean(), scores.std() * 2))\n"
   ]
  },
  {
   "cell_type": "markdown",
   "metadata": {},
   "source": [
    "### <u><a name=\"MI3.2\">3.2 Neural Nets</a></u>"
   ]
  },
  {
   "cell_type": "code",
   "execution_count": 174,
   "metadata": {},
   "outputs": [],
   "source": [
    "import pandas as pd\n",
    "import numpy as np\n",
    "import matplotlib.pyplot as plt\n",
    "import seaborn as sns\n",
    "sns.set_style('whitegrid')\n",
    "%matplotlib inline\n",
    "\n",
    "import time\n",
    "\n",
    "from sklearn.neural_network import MLPClassifier\n",
    "from sklearn.model_selection import train_test_split\n",
    "from sklearn.metrics import classification_report, confusion_matrix, accuracy_score\n",
    "from sklearn.preprocessing import MinMaxScaler\n"
   ]
  },
  {
   "cell_type": "markdown",
   "metadata": {},
   "source": [
    "#### <u><a name=\"MI3.2.1\">3.2.1 Model Fitting</a></u>"
   ]
  },
  {
   "cell_type": "code",
   "execution_count": 175,
   "metadata": {},
   "outputs": [],
   "source": [
    "%%skip $marking\n",
    "cluster_list=[10,20,30,40] #\n",
    "for j in cluster_list:\n",
    "    \n",
    "    #reading in previously processed dfs\n",
    "    tmp_pickle_df='_rf_k'+str(j)+'df.pickle'\n",
    "    pickle_in = open(tmp_pickle_df,'rb')\n",
    "    df=pickle.load(pickle_in)\n",
    "    pickle_in.close()\n",
    "    \n",
    "    X = df.iloc[:, 0:-1].values  \n",
    "    y = df.iloc[:, -1].values\n",
    "\n",
    "    # Scale all continuous data in the range of 0 to 1:\n",
    "    scaler = MinMaxScaler(feature_range=(0,1), copy=False)\n",
    "    X[:,len(df.columns)-5:len(df.columns)-1]=scaler.fit_transform(X[:,len(df.columns)-5:len(df.columns)-1])\n",
    "\n",
    "    #splitting training data\n",
    "    X_train, X_test, y_train, y_test = train_test_split(X, y, test_size=0.33, random_state=42) \n",
    "    \n",
    "    print(\"For K=\"+str(j))\n",
    "    start = time.clock()\n",
    "    mlp = MLPClassifier(activation='logistic',\n",
    "                        hidden_layer_sizes=(45,30,20),\n",
    "                        alpha=0.000000001,\n",
    "                        max_iter=600)\n",
    "    mlp.fit(X_train, y_train)\n",
    "    y_pred = mlp.predict(X_test)  \n",
    "    print(time.clock() - start)\n",
    "    \n",
    "    #pickling the model outputs\n",
    "    tmp_pickle_df='_nn_k'+str(j)+'df.pickle'\n",
    "    pickle_out = open(tmp_pickle_df,'wb')\n",
    "    pickle.dump(df, pickle_out)\n",
    "    pickle_out.close()\n",
    "    \n",
    "    tmp_pickle_test='_nn_k'+str(j)+'y_test.pickle'\n",
    "    pickle_out = open(tmp_pickle_test,'wb')\n",
    "    pickle.dump(y_test, pickle_out)\n",
    "    pickle_out.close()\n",
    "    \n",
    "    tmp_pickle_pred='_nn_k'+str(j)+'y_pred.pickle'\n",
    "    pickle_out = open(tmp_pickle_pred,'wb')\n",
    "    pickle.dump(y_pred, pickle_out)\n",
    "    pickle_out.close()\n",
    "    \n",
    "    tmp_joblib='_nn_k'+str(j)+'.joblib'\n",
    "    dump(mlp, tmp_joblib)"
   ]
  },
  {
   "cell_type": "markdown",
   "metadata": {},
   "source": [
    "#### <u><a name=\"MI3.2.2\">3.2.2 Presenting Model Results</a></u>"
   ]
  },
  {
   "cell_type": "code",
   "execution_count": 176,
   "metadata": {},
   "outputs": [
    {
     "name": "stdout",
     "output_type": "stream",
     "text": [
      "For K=4\n",
      "Neural Net Accuracy: 0.89742\n",
      "              precision    recall  f1-score   support\n",
      "\n",
      "           0    0.90418   0.97083   0.93632     51565\n",
      "           1    0.86342   0.64187   0.73634     14813\n",
      "\n",
      "   micro avg    0.89742   0.89742   0.89742     66378\n",
      "   macro avg    0.88380   0.80635   0.83633     66378\n",
      "weighted avg    0.89509   0.89742   0.89170     66378\n",
      "\n",
      "For K=10\n",
      "Neural Net Accuracy: 0.89976\n",
      "              precision    recall  f1-score   support\n",
      "\n",
      "           0    0.90756   0.97017   0.93782     52322\n",
      "           1    0.86086   0.65134   0.74158     14828\n",
      "\n",
      "   micro avg    0.89976   0.89976   0.89976     67150\n",
      "   macro avg    0.88421   0.81075   0.83970     67150\n",
      "weighted avg    0.89725   0.89976   0.89449     67150\n",
      "\n",
      "For K=20\n",
      "Neural Net Accuracy: 0.89866\n",
      "              precision    recall  f1-score   support\n",
      "\n",
      "           0    0.90817   0.96780   0.93704     52322\n",
      "           1    0.85210   0.65471   0.74048     14828\n",
      "\n",
      "   micro avg    0.89866   0.89866   0.89866     67150\n",
      "   macro avg    0.88014   0.81125   0.83876     67150\n",
      "weighted avg    0.89579   0.89866   0.89363     67150\n",
      "\n",
      "For K=30\n",
      "Neural Net Accuracy: 0.89547\n",
      "              precision    recall  f1-score   support\n",
      "\n",
      "           0    0.90847   0.96286   0.93487     52322\n",
      "           1    0.83386   0.65767   0.73536     14828\n",
      "\n",
      "   micro avg    0.89547   0.89547   0.89547     67150\n",
      "   macro avg    0.87116   0.81027   0.83512     67150\n",
      "weighted avg    0.89199   0.89547   0.89082     67150\n",
      "\n",
      "For K=40\n",
      "Neural Net Accuracy: 0.89778\n",
      "              precision    recall  f1-score   support\n",
      "\n",
      "           0    0.91679   0.95554   0.93576     52322\n",
      "           1    0.81563   0.69396   0.74989     14828\n",
      "\n",
      "   micro avg    0.89778   0.89778   0.89778     67150\n",
      "   macro avg    0.86621   0.82475   0.84283     67150\n",
      "weighted avg    0.89445   0.89778   0.89472     67150\n",
      "\n"
     ]
    }
   ],
   "source": [
    "cluster_list=[4,10,20,30,40]\n",
    "for j in cluster_list:\n",
    "    \n",
    "    #reading in pickled data files\n",
    "    tmp_pickle_test='_nn_k'+str(j)+'y_test.pickle'\n",
    "    pickle_in = open(tmp_pickle_test,'rb')\n",
    "    y_test = pickle.load(pickle_in)\n",
    "    pickle_in.close()\n",
    "    \n",
    "    tmp_pickle_pred='_nn_k'+str(j)+'y_pred.pickle'\n",
    "    pickle_in = open(tmp_pickle_pred,'rb')\n",
    "    y_pred = pickle.load(pickle_in)\n",
    "    pickle_in.close()\n",
    "    \n",
    "    #printint model results\n",
    "    print(\"For K=\"+str(j))\n",
    "    print(\"Neural Net Accuracy: %0.5f\" % accuracy_score(y_test, y_pred))\n",
    "    print(classification_report(y_test,y_pred, digits=5))\n",
    "    "
   ]
  },
  {
   "cell_type": "code",
   "execution_count": 177,
   "metadata": {},
   "outputs": [],
   "source": [
    "%%skip $marking\n",
    "\n",
    "cluster_list=[4,10,20,30,40]\n",
    "for j in cluster_list:\n",
    "    \n",
    "    #reading in pickled data files\n",
    "    tmp_pickle_df='_nn_k'+str(j)+'df.pickle'\n",
    "    pickle_in = open(tmp_pickle_df,'rb')\n",
    "    df=pickle.load(pickle_in)\n",
    "    pickle_in.close()\n",
    "    \n",
    "    tmp='_nn_k'+str(j)+'.joblib'\n",
    "    mlp=load(tmp)\n",
    "    \n",
    "    #performing cross validation\n",
    "    X = df.iloc[:, 0:-1].values  \n",
    "    y = df.iloc[:, -1].values\n",
    "    print(\"... starting cross-validating for k=\"+str(j))\n",
    "    start = time.clock()\n",
    "    scores = cross_val_score(mlp, X, y, cv=3)\n",
    "    print('runtime: '+str(time.clock() - start)+'\\n')\n",
    "    \n",
    "    #pickling cross validation result\n",
    "    tmp_score='_nn_k'+str(j)+'cv_score.pickle'\n",
    "    pickle_out = open(tmp_score,'wb')\n",
    "    pickle.dump(scores, pickle_out)\n",
    "    pickle_out.close()"
   ]
  },
  {
   "cell_type": "code",
   "execution_count": 178,
   "metadata": {},
   "outputs": [
    {
     "name": "stdout",
     "output_type": "stream",
     "text": [
      "For K=4 Neural Net Cross Validated Accuracy: 0.88 (+/- 0.07)\n",
      "For K=10 Neural Net Cross Validated Accuracy: 0.89 (+/- 0.08)\n",
      "For K=20 Neural Net Cross Validated Accuracy: 0.89 (+/- 0.08)\n",
      "For K=30 Neural Net Cross Validated Accuracy: 0.89 (+/- 0.06)\n",
      "For K=40 Neural Net Cross Validated Accuracy: 0.89 (+/- 0.06)\n"
     ]
    }
   ],
   "source": [
    "cluster_list=[4,10,20,30,40]\n",
    "for j in cluster_list:\n",
    "    \n",
    "    #reading in picklied cross validation result\n",
    "    tmp_score='_nn_k'+str(j)+'cv_score.pickle'\n",
    "    pickle_in = open(tmp_score,'rb')\n",
    "    scores = pickle.load(pickle_in)\n",
    "    pickle_in.close()\n",
    "    \n",
    "    #printint cross validation results\n",
    "    print(\"For K=\"+str(j)+\" Neural Net Cross Validated Accuracy: %0.2f (+/- %0.2f)\" % (scores.mean(), scores.std() * 2))\n"
   ]
  },
  {
   "cell_type": "markdown",
   "metadata": {},
   "source": [
    "Result of neural net is comparable to that of random forest, with a slight improvement on the recall score when K=40, but overall lower accuracy than random forest. Given it is a lot less expensive to perform hyperparameter tuning on random forest, and the performance of the two different classifers are comparable, random forest will be used as the traffic accident predictor."
   ]
  },
  {
   "cell_type": "markdown",
   "metadata": {},
   "source": [
    "###  <u><a name=\"MI3.3\">3.3 Hyperparameter Tuning Random Forest</a></u>"
   ]
  },
  {
   "cell_type": "code",
   "execution_count": 179,
   "metadata": {},
   "outputs": [],
   "source": [
    "from sklearn.model_selection import RandomizedSearchCV\n",
    "# Number of trees in random forest\n",
    "n_estimators = [int(x) for x in np.linspace(start = 10, stop = 1000, num = 4)]\n",
    "# Number of features to consider at every split\n",
    "max_features = ['auto', 'sqrt']\n",
    "# Maximum number of levels in tree\n",
    "max_depth = [int(x) for x in np.linspace(1, 20, num = 4)]\n",
    "max_depth.append(None)\n",
    "# Minimum number of samples required to split a node\n",
    "min_samples_split = [5, 10]\n",
    "# Minimum number of samples required at each leaf node\n",
    "min_samples_leaf = [2, 4]\n",
    "# Method of selecting samples for training each tree\n",
    "bootstrap = [True, False]\n",
    "# Create the random grid\n",
    "random_grid = {'n_estimators': n_estimators,\n",
    "               'max_features': max_features,\n",
    "               'max_depth': max_depth,\n",
    "               'min_samples_split': min_samples_split,\n",
    "               'min_samples_leaf': min_samples_leaf}"
   ]
  },
  {
   "cell_type": "code",
   "execution_count": 180,
   "metadata": {},
   "outputs": [],
   "source": [
    "%%skip $marking\n",
    "# Use the random grid to search for best hyperparameters\n",
    "# First create the base model to tune\n",
    "\n",
    "clf = RandomForestClassifier(random_state = 42)\n",
    "# Random search of parameters, using 3 fold cross validation, \n",
    "# search across 100 different combinations, and use all available cores\n",
    "clf_random = RandomizedSearchCV(estimator=clf, param_distributions=random_grid,\n",
    "                              n_iter = 100, scoring='recall', \n",
    "                              cv = 2, verbose=2, random_state=42, n_jobs=-1,\n",
    "                              return_train_score=True)\n",
    "\n",
    "# Fit the random search model\n",
    "clf_random.fit(X_train, y_train);\n",
    "clf_random.best_params_\n",
    "\n",
    "dump(clf_random, '_rf_randomsearch_k40_maxrecall.joblib')"
   ]
  },
  {
   "cell_type": "code",
   "execution_count": 181,
   "metadata": {},
   "outputs": [
    {
     "name": "stdout",
     "output_type": "stream",
     "text": [
      "{'max_features': 'auto', 'min_samples_split': 5, 'max_depth': None, 'min_samples_leaf': 1, 'n_estimators': 46}\n"
     ]
    }
   ],
   "source": [
    "clf_random=load('_rf_randomsearch_k40_maxrecall.joblib')\n",
    "\n",
    "print(str(clf_random.best_params_))"
   ]
  },
  {
   "cell_type": "code",
   "execution_count": 182,
   "metadata": {},
   "outputs": [
    {
     "name": "stdout",
     "output_type": "stream",
     "text": [
      "Variable: volume_data_veh                          Importance: 0.31\n",
      "Variable: lane_width                               Importance: 0.09\n",
      "Variable: posted_speed                             Importance: 0.04\n",
      "Variable: lane_num                                 Importance: 0.03\n",
      "Variable: road_type_at intersection                Importance: 0.02\n",
      "Variable: hour_7.0                                 Importance: 0.01\n",
      "Variable: hour_8.0                                 Importance: 0.01\n",
      "Variable: hour_9.0                                 Importance: 0.01\n",
      "Variable: hour_10.0                                Importance: 0.01\n",
      "Variable: hour_11.0                                Importance: 0.01\n",
      "Variable: hour_12.0                                Importance: 0.01\n",
      "Variable: hour_13.0                                Importance: 0.01\n",
      "Variable: hour_14.0                                Importance: 0.01\n",
      "Variable: hour_15.0                                Importance: 0.01\n",
      "Variable: hour_16.0                                Importance: 0.01\n",
      "Variable: hour_17.0                                Importance: 0.01\n",
      "Variable: hour_18.0                                Importance: 0.01\n",
      "Variable: hour_19.0                                Importance: 0.01\n",
      "Variable: k_cluster_0                              Importance: 0.01\n",
      "Variable: k_cluster_6                              Importance: 0.01\n",
      "Variable: k_cluster_12                             Importance: 0.01\n",
      "Variable: k_cluster_14                             Importance: 0.01\n",
      "Variable: k_cluster_17                             Importance: 0.01\n",
      "Variable: k_cluster_19                             Importance: 0.01\n",
      "Variable: month_1                                  Importance: 0.01\n",
      "Variable: month_2                                  Importance: 0.01\n",
      "Variable: month_3                                  Importance: 0.01\n",
      "Variable: month_4                                  Importance: 0.01\n",
      "Variable: month_5                                  Importance: 0.01\n",
      "Variable: month_6                                  Importance: 0.01\n",
      "Variable: month_7                                  Importance: 0.01\n",
      "Variable: month_8                                  Importance: 0.01\n",
      "Variable: month_9                                  Importance: 0.01\n",
      "Variable: month_10                                 Importance: 0.01\n",
      "Variable: month_11                                 Importance: 0.01\n",
      "Variable: month_12                                 Importance: 0.01\n",
      "Variable: road_type_collector road                 Importance: 0.01\n",
      "Variable: road_type_highway                        Importance: 0.01\n",
      "Variable: road_type_highway ramp                   Importance: 0.01\n",
      "Variable: road_type_local road                     Importance: 0.01\n",
      "Variable: road_type_major arterial road            Importance: 0.01\n",
      "Variable: road_type_minor arterial road            Importance: 0.01\n",
      "Variable: road_surface_dry                         Importance: 0.01\n",
      "Variable: road_surface_wet                         Importance: 0.01\n",
      "Variable: visibility_clear                         Importance: 0.01\n",
      "Variable: visibility_rain                          Importance: 0.01\n",
      "Variable: weekday                                  Importance: 0.01\n",
      "Variable: hour_0.0                                 Importance: 0.0\n",
      "Variable: hour_1.0                                 Importance: 0.0\n",
      "Variable: hour_2.0                                 Importance: 0.0\n",
      "Variable: hour_3.0                                 Importance: 0.0\n",
      "Variable: hour_4.0                                 Importance: 0.0\n",
      "Variable: hour_5.0                                 Importance: 0.0\n",
      "Variable: hour_6.0                                 Importance: 0.0\n",
      "Variable: hour_20.0                                Importance: 0.0\n",
      "Variable: hour_21.0                                Importance: 0.0\n",
      "Variable: hour_22.0                                Importance: 0.0\n",
      "Variable: hour_23.0                                Importance: 0.0\n",
      "Variable: k_cluster_1                              Importance: 0.0\n",
      "Variable: k_cluster_2                              Importance: 0.0\n",
      "Variable: k_cluster_3                              Importance: 0.0\n",
      "Variable: k_cluster_4                              Importance: 0.0\n",
      "Variable: k_cluster_5                              Importance: 0.0\n",
      "Variable: k_cluster_7                              Importance: 0.0\n",
      "Variable: k_cluster_8                              Importance: 0.0\n",
      "Variable: k_cluster_9                              Importance: 0.0\n",
      "Variable: k_cluster_10                             Importance: 0.0\n",
      "Variable: k_cluster_11                             Importance: 0.0\n",
      "Variable: k_cluster_13                             Importance: 0.0\n",
      "Variable: k_cluster_15                             Importance: 0.0\n",
      "Variable: k_cluster_16                             Importance: 0.0\n",
      "Variable: k_cluster_18                             Importance: 0.0\n",
      "Variable: k_cluster_20                             Importance: 0.0\n",
      "Variable: k_cluster_21                             Importance: 0.0\n",
      "Variable: k_cluster_22                             Importance: 0.0\n",
      "Variable: k_cluster_23                             Importance: 0.0\n",
      "Variable: k_cluster_24                             Importance: 0.0\n",
      "Variable: k_cluster_25                             Importance: 0.0\n",
      "Variable: k_cluster_26                             Importance: 0.0\n",
      "Variable: k_cluster_27                             Importance: 0.0\n",
      "Variable: k_cluster_28                             Importance: 0.0\n",
      "Variable: k_cluster_29                             Importance: 0.0\n",
      "Variable: k_cluster_30                             Importance: 0.0\n",
      "Variable: k_cluster_31                             Importance: 0.0\n",
      "Variable: k_cluster_32                             Importance: 0.0\n",
      "Variable: k_cluster_33                             Importance: 0.0\n",
      "Variable: k_cluster_34                             Importance: 0.0\n",
      "Variable: k_cluster_35                             Importance: 0.0\n",
      "Variable: k_cluster_36                             Importance: 0.0\n",
      "Variable: k_cluster_37                             Importance: 0.0\n",
      "Variable: k_cluster_38                             Importance: 0.0\n",
      "Variable: k_cluster_39                             Importance: 0.0\n",
      "Variable: road_type_collector road ramp            Importance: 0.0\n",
      "Variable: road_type_geostatistical line            Importance: 0.0\n",
      "Variable: road_type_laneways                       Importance: 0.0\n",
      "Variable: road_type_major arterial road ramp       Importance: 0.0\n",
      "Variable: road_type_other road                     Importance: 0.0\n",
      "Variable: road_type_pending                        Importance: 0.0\n",
      "Variable: road_type_river                          Importance: 0.0\n",
      "Variable: road_surface_ice                         Importance: 0.0\n",
      "Variable: road_surface_loose sand or gravel        Importance: 0.0\n",
      "Variable: road_surface_loose snow                  Importance: 0.0\n",
      "Variable: road_surface_mud                         Importance: 0.0\n",
      "Variable: road_surface_other                       Importance: 0.0\n",
      "Variable: road_surface_packed snow                 Importance: 0.0\n",
      "Variable: road_surface_slush                       Importance: 0.0\n",
      "Variable: road_surface_spilled liquid              Importance: 0.0\n",
      "Variable: visibility_drifting snow                 Importance: 0.0\n",
      "Variable: visibility_fog, mist, smoke, dust        Importance: 0.0\n",
      "Variable: visibility_freezing rain                 Importance: 0.0\n",
      "Variable: visibility_other                         Importance: 0.0\n",
      "Variable: visibility_snow                          Importance: 0.0\n",
      "Variable: visibility_strong wind                   Importance: 0.0\n"
     ]
    }
   ],
   "source": [
    "#reading in pickled data files\n",
    "tmp_pickle_df='_rf_k'+str(40)+'_df.pickle'\n",
    "pickle_in = open(tmp_pickle_df,'rb')\n",
    "df=pickle.load(pickle_in)\n",
    "pickle_in.close()\n",
    "tmp='_rf_k_'+str(40)+'.joblib'\n",
    "clf=load(tmp)\n",
    "# Get numerical feature importances\n",
    "importances = list(clf.feature_importances_)\n",
    "feature_list = list(df)[0:-1]\n",
    "feature_importances = [(feature, round(importance, 2)) for feature, importance in zip(feature_list, importances)]\n",
    "# Sort the feature importances by most important first\n",
    "feature_importances = sorted(feature_importances, key = lambda x: x[1], reverse = True)\n",
    "# Print out the feature and importances\n",
    "for pair in feature_importances:\n",
    "    print('Variable: {:40} Importance: {}'.format(*pair))"
   ]
  },
  {
   "cell_type": "code",
   "execution_count": null,
   "metadata": {},
   "outputs": [],
   "source": []
  }
 ],
 "metadata": {
  "kernelspec": {
   "display_name": "Python 3",
   "language": "python",
   "name": "python3"
  },
  "language_info": {
   "codemirror_mode": {
    "name": "ipython",
    "version": 3
   },
   "file_extension": ".py",
   "mimetype": "text/x-python",
   "name": "python",
   "nbconvert_exporter": "python",
   "pygments_lexer": "ipython3",
   "version": "3.5.2"
  }
 },
 "nbformat": 4,
 "nbformat_minor": 2
}
